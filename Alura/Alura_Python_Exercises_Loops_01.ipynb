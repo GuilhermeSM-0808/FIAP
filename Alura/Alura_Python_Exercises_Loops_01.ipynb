{
 "cells": [
  {
   "cell_type": "code",
   "execution_count": 2,
   "metadata": {},
   "outputs": [
    {
     "name": "stdout",
     "output_type": "stream",
     "text": [
      "The Zen of Python, by Tim Peters\n",
      "\n",
      "Beautiful is better than ugly.\n",
      "Explicit is better than implicit.\n",
      "Simple is better than complex.\n",
      "Complex is better than complicated.\n",
      "Flat is better than nested.\n",
      "Sparse is better than dense.\n",
      "Readability counts.\n",
      "Special cases aren't special enough to break the rules.\n",
      "Although practicality beats purity.\n",
      "Errors should never pass silently.\n",
      "Unless explicitly silenced.\n",
      "In the face of ambiguity, refuse the temptation to guess.\n",
      "There should be one-- and preferably only one --obvious way to do it.\n",
      "Although that way may not be obvious at first unless you're Dutch.\n",
      "Now is better than never.\n",
      "Although never is often better than *right* now.\n",
      "If the implementation is hard to explain, it's a bad idea.\n",
      "If the implementation is easy to explain, it may be a good idea.\n",
      "Namespaces are one honking great idea -- let's do more of those!\n"
     ]
    }
   ],
   "source": [
    "import this"
   ]
  },
  {
   "cell_type": "code",
   "execution_count": 3,
   "metadata": {},
   "outputs": [
    {
     "name": "stdout",
     "output_type": "stream",
     "text": [
      "Foo\n",
      "bar\n",
      "foobar\n",
      "baz\n",
      "quux\n"
     ]
    }
   ],
   "source": [
    "names = [\"Foo\",\"bar\",\"foobar\",\"baz\",\"quux\"]\n",
    "\n",
    "for name in names:\n",
    "    print(name)\n"
   ]
  },
  {
   "cell_type": "code",
   "execution_count": 6,
   "metadata": {},
   "outputs": [
    {
     "name": "stdout",
     "output_type": "stream",
     "text": [
      "Contador atual: 1\n",
      "Contador atual: 2\n",
      "Contador atual: 3\n",
      "Contador atual: 4\n",
      "Contador atual: 5\n",
      "Contador atual: 6\n",
      "Contador atual: 7\n",
      "Contador atual: 8\n",
      "Contador atual: 9\n",
      "Contador atual: 10\n"
     ]
    }
   ],
   "source": [
    "contador = 0\n",
    "limite = 10\n",
    "\n",
    "while contador < limite:\n",
    "   contador += 1\n",
    "   print(f\"Contador atual: {contador}\")"
   ]
  },
  {
   "cell_type": "code",
   "execution_count": null,
   "metadata": {},
   "outputs": [
    {
     "name": "stdout",
     "output_type": "stream",
     "text": [
      "Foobar\n",
      "foo\n",
      "bar\n",
      "Name found! Breaking Loop.\n"
     ]
    }
   ],
   "source": [
    "names = [\"Foobar\",\"foo\",\"bar\",\"baz\",\"quux\"]\n",
    "\n",
    "for name in names:\n",
    "    if name == \"baz\":\n",
    "        print(\"Name found! Breaking Loop.\")\n",
    "        break\n",
    "    print(name)"
   ]
  },
  {
   "cell_type": "code",
   "execution_count": null,
   "metadata": {},
   "outputs": [
    {
     "name": "stdout",
     "output_type": "stream",
     "text": [
      "Name: Foobar\n",
      "Name: foo\n",
      "Name: bar\n",
      "Ignoring Name\n",
      "Name: quux\n"
     ]
    }
   ],
   "source": [
    "names = [\"Foobar\",\"foo\",\"bar\",\"baz\",\"qux\",\"quux\"]\n",
    "\n",
    "for name in names:\n",
    "    if name == \"baz\":\n",
    "        print(\"Ignoring Name\")\n",
    "        continue\n",
    "    print(f\"Name: {name}\")"
   ]
  },
  {
   "cell_type": "code",
   "execution_count": null,
   "metadata": {},
   "outputs": [
    {
     "name": "stdout",
     "output_type": "stream",
     "text": [
      "6\n",
      "range(0, 6)\n",
      "Foobar\n",
      "foo\n",
      "bar\n",
      "baz\n",
      "qux\n",
      "quux\n"
     ]
    }
   ],
   "source": [
    "names = [\"Foobar\",\"foo\",\"bar\",\"baz\",\"qux\",\"quux\"]\n",
    "\n",
    "print(len(names))\n",
    "x = range(len(names))\n",
    "print(x)\n",
    "\n",
    "for name in x:\n",
    "    print(names[name])"
   ]
  },
  {
   "cell_type": "markdown",
   "metadata": {},
   "source": [
    "## Exercicios"
   ]
  },
  {
   "cell_type": "code",
   "execution_count": 26,
   "metadata": {},
   "outputs": [
    {
     "name": "stdout",
     "output_type": "stream",
     "text": [
      "John\n",
      "Maria\n",
      "Carlos\n",
      "Ana\n",
      "Beatriz\n"
     ]
    }
   ],
   "source": [
    "clients = [\"John\",\"Maria\",\"Carlos\",\"Ana\",\"Beatriz\"]\n",
    "\n",
    "for name in clients:\n",
    "    print(name)"
   ]
  },
  {
   "cell_type": "code",
   "execution_count": 28,
   "metadata": {},
   "outputs": [
    {
     "name": "stdout",
     "output_type": "stream",
     "text": [
      "Loading Data...\n",
      "Loading Data...\n",
      "Loading Data...\n",
      "Loading Data...\n",
      "Loading Data...\n",
      "Loading Data...\n",
      "Loading Data...\n",
      "Loading Data...\n",
      "Loading Data...\n",
      "Loading Data...\n",
      "Data Loaded\n"
     ]
    }
   ],
   "source": [
    "c = 0\n",
    "\n",
    "while c < 10:\n",
    "    print(\"Loading Data...\")\n",
    "    c += 1\n",
    "print(\"Data Loaded\")"
   ]
  },
  {
   "cell_type": "code",
   "execution_count": 33,
   "metadata": {},
   "outputs": [
    {
     "name": "stdout",
     "output_type": "stream",
     "text": [
      "Welcome to the Searcher!\n",
      "Welcome to the Searcher!\n",
      "Welcome to the Searcher!\n",
      "Welcome to the Searcher!\n",
      "Welcome to the Searcher!\n"
     ]
    }
   ],
   "source": [
    "for x in range(5):\n",
    "    print(\"Welcome to the Searcher!\")\n",
    "    "
   ]
  },
  {
   "cell_type": "code",
   "execution_count": 38,
   "metadata": {},
   "outputs": [
    {
     "name": "stdout",
     "output_type": "stream",
     "text": [
      "The total value is 150.\n"
     ]
    }
   ],
   "source": [
    "values = [10, 20, 30, 40, 50]\n",
    "m = 0\n",
    "\n",
    "for n in values:\n",
    "    m = m + n\n",
    "print(f\"The total value is {m}.\")"
   ]
  },
  {
   "cell_type": "code",
   "execution_count": 42,
   "metadata": {},
   "outputs": [
    {
     "name": "stdout",
     "output_type": "stream",
     "text": [
      "Website\n",
      "Games\n",
      "Data Analitics\n",
      "NDA project\n",
      "Mobile Apps\n"
     ]
    }
   ],
   "source": [
    "projects = [\"Website\", \"Games\", \"Data Analitics\", None, \"Mobile Apps\"]\n",
    "\n",
    "for p in projects:\n",
    "    if type(p) != str:\n",
    "        print(\"NDA project\")\n",
    "        continue\n",
    "    print(p)\n",
    "    "
   ]
  },
  {
   "cell_type": "code",
   "execution_count": 50,
   "metadata": {},
   "outputs": [
    {
     "name": "stdout",
     "output_type": "stream",
     "text": [
      "Book found: The Witcher\n"
     ]
    }
   ],
   "source": [
    "Books = [\"1984\",\"Dom casmurro\",\"The Little Prince\",\"The Hobbit\", \"Pride and prejudice\", \"The Witcher\"]\n",
    "\n",
    "target = (input(\"Book title you're seraching: \"))\n",
    "search_counter = 0\n",
    "\n",
    "for b in Books:\n",
    "    if b == target:\n",
    "        print(f\"Book found: {b}\")\n",
    "        break\n",
    "    search_counter += 1\n",
    "    if search_counter >= len(Books):\n",
    "        print(\"Book not found.\")\n"
   ]
  },
  {
   "cell_type": "code",
   "execution_count": 58,
   "metadata": {},
   "outputs": [
    {
     "name": "stdout",
     "output_type": "stream",
     "text": [
      "Sold! remaining stock: 4\n",
      "Sold! remaining stock: 3\n",
      "Sold! remaining stock: 2\n",
      "Sold! remaining stock: 1\n",
      "Sold Out!\n"
     ]
    }
   ],
   "source": [
    "stock = 5\n",
    "\n",
    "while stock > 0:\n",
    "    sold = int(input(\"Quantidade Vendida: \"))\n",
    "    stock = stock - sold\n",
    "    if stock == 0:\n",
    "        continue\n",
    "    print(f\"Sold! remaining stock: {stock}\")\n",
    "print(\"Sold Out!\")  "
   ]
  },
  {
   "cell_type": "code",
   "execution_count": 81,
   "metadata": {},
   "outputs": [
    {
     "name": "stdout",
     "output_type": "stream",
     "text": [
      "10 Seconds remainings - Don't miss this oportunity!\n",
      "Only 9 seconds left!\n",
      "8 Seconds remainings - Don't miss this oportunity!\n",
      "Only 7 seconds left!\n",
      "6 Seconds remainings - Don't miss this oportunity!\n",
      "Only 5 seconds left!\n",
      "4 Seconds remainings - Don't miss this oportunity!\n",
      "Only 3 seconds left!\n",
      "2 Seconds remainings - Don't miss this oportunity!\n",
      "Only 1 seconds left!\n",
      "Enjoy the sales now!\n"
     ]
    }
   ],
   "source": [
    "for s in range(10,0,-1):\n",
    "    if s % 2 == 0:\n",
    "        print(f\"{s} Seconds remainings - Don't miss this oportunity!\")\n",
    "    else:\n",
    "        print(f\"Only {s} seconds left!\")\n",
    "print(\"Enjoy the sales now!\")"
   ]
  },
  {
   "cell_type": "code",
   "execution_count": null,
   "metadata": {},
   "outputs": [
    {
     "name": "stdout",
     "output_type": "stream",
     "text": [
      "Book Available: 1984\n",
      "Book Available: The little Prince\n",
      "Book Available: The Hobbit\n",
      "Book Available: The Witcher\n"
     ]
    }
   ],
   "source": [
    "Books = [\n",
    "    {\"name\": \"1984\", \"stock\": 5},\n",
    "    {\"name\": \"Dom Casmurro\", \"stock\": 0},\n",
    "    {\"name\": \"The little Prince\", \"stock\": 3},\n",
    "    {\"name\": \"The Hobbit\", \"stock\": 10},\n",
    "    {\"name\": \"Pride and prejudice\", \"stock\": 0},\n",
    "    {\"name\": \"The Witcher\", \"stock\": 8}\n",
    "]\n",
    "\n",
    "\n",
    "for b in Books:\n",
    "    if b[\"stock\"] == 0:\n",
    "        continue\n",
    "    print(f\"Book Available: {b['name']}\")"
   ]
  },
  {
   "cell_type": "code",
   "execution_count": null,
   "metadata": {},
   "outputs": [
    {
     "name": "stdout",
     "output_type": "stream",
     "text": [
      "User must be at least 5 characters long\n",
      "Password must be at least 8 characters long\n",
      "User registered!\n"
     ]
    }
   ],
   "source": [
    "while True:\n",
    "    \n",
    "    user = input(\"Insert user name: \")\n",
    "    password = input(\"Insert password: \")\n",
    "    \n",
    "    if len(user) >= 5 and len(password) >= 8:\n",
    "        print(\"User registered!\")\n",
    "        break\n",
    "    \n",
    "    if len(user) < 5:\n",
    "        print(\"User must be at least 5 characters long\")\n",
    "    if len(password) < 8:\n",
    "        print(\"Password must be at least 8 characters long\")"
   ]
  }
 ],
 "metadata": {
  "kernelspec": {
   "display_name": "Python 3",
   "language": "python",
   "name": "python3"
  },
  "language_info": {
   "codemirror_mode": {
    "name": "ipython",
    "version": 3
   },
   "file_extension": ".py",
   "mimetype": "text/x-python",
   "name": "python",
   "nbconvert_exporter": "python",
   "pygments_lexer": "ipython3",
   "version": "3.11.4"
  }
 },
 "nbformat": 4,
 "nbformat_minor": 2
}
