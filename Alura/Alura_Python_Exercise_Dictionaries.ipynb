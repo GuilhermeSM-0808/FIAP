{
 "cells": [
  {
   "cell_type": "code",
   "execution_count": 72,
   "metadata": {},
   "outputs": [
    {
     "name": "stdout",
     "output_type": "stream",
     "text": [
      "{'name': 'Foobar', 'age': 55, 'job': 'bartender'}\n"
     ]
    }
   ],
   "source": [
    "person = {'name': 'Foobar', 'age': 26, 'city': 'Qux Capital'}\n",
    "\n",
    "person['age'] = 55\n",
    "\n",
    "person['job'] = 'bartender'\n",
    "\n",
    "del person['city']\n",
    "\n",
    "print(person)"
   ]
  },
  {
   "cell_type": "code",
   "execution_count": null,
   "metadata": {},
   "outputs": [
    {
     "name": "stdout",
     "output_type": "stream",
     "text": [
      "[{'name': 'foo', 'age': 21, 'city': 'Bar city'}, {'name': 'bar', 'age': 55, 'city': 'Foobar city', 'job': 'Bartender'}, {'name': 'foobar', 'age': 30, 'city': 'Qux capital'}]\n"
     ]
    }
   ],
   "source": [
    "info = [{'name': 'foo', 'age': 21,'city': 'Bar city'},\n",
    "        {'name': 'bar', 'age': 26, 'city': 'Foobar city'}, \n",
    "        {'name': 'foobar', 'age': 30, 'city':'Qux capital'},\n",
    "        {'name': 'Qux', 'age': 300, 'city':'Qux capital'}]\n",
    "\n",
    "for i in info:\n",
    "    if i['name'] == 'bar':\n",
    "        i['age'] = 55\n",
    "        i['job'] = \"Bartender\"\n",
    "    if i['name'] == 'Qux':\n",
    "        info.remove(i)\n",
    "print(info)"
   ]
  },
  {
   "cell_type": "code",
   "execution_count": 70,
   "metadata": {},
   "outputs": [
    {
     "name": "stdout",
     "output_type": "stream",
     "text": [
      "{1: 1, 2: 4, 3: 9, 4: 16, 5: 25}\n"
     ]
    }
   ],
   "source": [
    "quadrados = {x: x**2 for x in range(1,6)}\n",
    "\n",
    "print(quadrados)"
   ]
  },
  {
   "cell_type": "code",
   "execution_count": 75,
   "metadata": {},
   "outputs": [
    {
     "name": "stdout",
     "output_type": "stream",
     "text": [
      "That key doesnt exist in person\n"
     ]
    }
   ],
   "source": [
    "person = {'name': 'Foobar', 'age': 26, 'city': 'Qux Capital'}\n",
    "\n",
    "key = str(input('Type the key you want to check if the person has: '))\n",
    "\n",
    "if key in person:\n",
    "    print(\"That key does exist in person\")\n",
    "else:\n",
    "    print(\"That key doesnt exist in person\")"
   ]
  },
  {
   "cell_type": "code",
   "execution_count": 78,
   "metadata": {},
   "outputs": [
    {
     "name": "stdout",
     "output_type": "stream",
     "text": [
      "{'Python': 3, 'is': 3, 'fun,': 1, 'complicated,': 1, 'but': 1, 'powerful.': 1}\n"
     ]
    }
   ],
   "source": [
    "sentence = \"Python is fun, Python is complicated, but Python is powerful.\"\n",
    "word_count = {}\n",
    "words = sentence.split()\n",
    "for w in words:\n",
    "    word_count[w] = word_count.get(w, 0) + 1\n",
    "print(word_count)"
   ]
  }
 ],
 "metadata": {
  "kernelspec": {
   "display_name": "Python 3",
   "language": "python",
   "name": "python3"
  },
  "language_info": {
   "codemirror_mode": {
    "name": "ipython",
    "version": 3
   },
   "file_extension": ".py",
   "mimetype": "text/x-python",
   "name": "python",
   "nbconvert_exporter": "python",
   "pygments_lexer": "ipython3",
   "version": "3.11.4"
  }
 },
 "nbformat": 4,
 "nbformat_minor": 2
}
