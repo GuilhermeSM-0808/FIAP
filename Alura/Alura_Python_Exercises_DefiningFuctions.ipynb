{
 "cells": [
  {
   "cell_type": "code",
   "execution_count": 7,
   "metadata": {},
   "outputs": [
    {
     "name": "stdout",
     "output_type": "stream",
     "text": [
      "Closing app...\n",
      "\n"
     ]
    }
   ],
   "source": [
    "def close_app():\n",
    "    print(\"Closing app...\\n\")\n",
    "\n",
    "close_app()"
   ]
  },
  {
   "cell_type": "code",
   "execution_count": 10,
   "metadata": {},
   "outputs": [
    {
     "name": "stdout",
     "output_type": "stream",
     "text": [
      "User denied.\n"
     ]
    }
   ],
   "source": [
    "user = \"Gui\"\n",
    "password = \"Mac\"\n",
    "\n",
    "input_user = str(input(\"Insert username: \"))\n",
    "input_pass = str(input(\"Insert password: \"))\n",
    "\n",
    "if input_user == user and input_pass == password:\n",
    "    print(\"User accepted.\")\n",
    "else:\n",
    "    print(\"User denied.\")"
   ]
  },
  {
   "cell_type": "code",
   "execution_count": null,
   "metadata": {},
   "outputs": [],
   "source": [
    "age = int(input(\"How old are you? Answer here: \"))\n",
    "\n",
    "if age < "
   ]
  }
 ],
 "metadata": {
  "kernelspec": {
   "display_name": "base",
   "language": "python",
   "name": "python3"
  },
  "language_info": {
   "codemirror_mode": {
    "name": "ipython",
    "version": 3
   },
   "file_extension": ".py",
   "mimetype": "text/x-python",
   "name": "python",
   "nbconvert_exporter": "python",
   "pygments_lexer": "ipython3",
   "version": "3.11.7"
  }
 },
 "nbformat": 4,
 "nbformat_minor": 2
}
