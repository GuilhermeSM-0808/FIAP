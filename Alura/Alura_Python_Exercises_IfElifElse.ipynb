{
 "cells": [
  {
   "cell_type": "code",
   "execution_count": 1,
   "metadata": {},
   "outputs": [
    {
     "name": "stdout",
     "output_type": "stream",
     "text": [
      "The activities will take 10 Days\n"
     ]
    }
   ],
   "source": [
    "A = int(input(\"Days for activity A: \"))\n",
    "B = int(input(\"Days for activity B: \"))\n",
    "C = int(input(\"Days for activity C: \"))\n",
    "\n",
    "if A < 0 or B < 0 or C < 0 :\n",
    "    print(\"Days can't have a negative value\")\n",
    "else:\n",
    "    Total = A + B + C\n",
    "    print(f\"The activities will take {Total} Days\")"
   ]
  },
  {
   "cell_type": "code",
   "execution_count": 3,
   "metadata": {},
   "outputs": [
    {
     "name": "stdout",
     "output_type": "stream",
     "text": [
      "Temperature are within limits.\n"
     ]
    }
   ],
   "source": [
    "temp = float(input(\"Current temperature: \"))\n",
    "\n",
    "if temp > 25:\n",
    "    print(\"Warning! Temperatures exceeding limit!\")\n",
    "else:\n",
    "    print(\"Temperature are within limits.\")"
   ]
  },
  {
   "cell_type": "code",
   "execution_count": null,
   "metadata": {},
   "outputs": [
    {
     "name": "stdout",
     "output_type": "stream",
     "text": [
      "Your IMC is: 24.98\n",
      "Regular body weight\n"
     ]
    }
   ],
   "source": [
    "kg = float(input(\"Input your weight in Kg: \"))\n",
    "height = float(input(\"Input your hieght in meters: \"))\n",
    "\n",
    "IMC = (kg / (height**2))\n",
    "print(f\"Your IMC is: {IMC:.2f}\")\n",
    "\n",
    "match IMC:\n",
    "    case IMC if IMC < 18.5:\n",
    "        print(\"You're underweight\")\n",
    "    case IMC if 18.5 <= IMC < 25 :\n",
    "        print(\"Regular body weight\")\n",
    "    case IMC if IMC >= 25 :\n",
    "        print(\"You're overweight.\")"
   ]
  },
  {
   "cell_type": "code",
   "execution_count": 17,
   "metadata": {},
   "outputs": [
    {
     "name": "stdout",
     "output_type": "stream",
     "text": [
      "Day 1: You've spent a total of 30.0\n",
      "Day 2: You've spent a total of 630.0\n",
      "Day 3: You've spent a total of 830.0\n",
      "Day 4: You've spent a total of 1730.0\n",
      "Day 5: You've spent a total of 2580.0\n",
      "Day 6: You've spent a total of 3180.0\n",
      "Atention! You've spent your budget\n",
      "You spent a total of 3180.0\n",
      "You spent an average of $530.0 per day\n"
     ]
    }
   ],
   "source": [
    "limit = 3000\n",
    "t = float(0)\n",
    "d = int(0)\n",
    "\n",
    "while t < limit :\n",
    "    spent = float(input(\"How much did you spend today: \"))\n",
    "    t = t + spent\n",
    "    d = d+1\n",
    "    print(f\"Day {d}: You've spent a total of {t}\")\n",
    "    \n",
    "if t >= limit :\n",
    "    print(\"Atention! You've spent your budget\")\n",
    "    print(f\"You spent a total of {t}\")\n",
    "    a = t/d\n",
    "    print(f\"You spent an average of ${a} per day\")    "
   ]
  },
  {
   "cell_type": "code",
   "execution_count": null,
   "metadata": {},
   "outputs": [
    {
     "name": "stdout",
     "output_type": "stream",
     "text": [
      "Access denied\n"
     ]
    }
   ],
   "source": [
    "ct = float(input(\"Insert current time: \"))\n",
    "\n",
    "if ct < 0 or ct > 24:\n",
    "    print(\"Invalid input, value must be in 24 hour format\")\n",
    "else:\n",
    "    if 8 <= ct < 18:\n",
    "        print(\"Access granted\")\n",
    "    else:\n",
    "        print(\"Access denied\")"
   ]
  },
  {
   "cell_type": "code",
   "execution_count": 25,
   "metadata": {},
   "outputs": [
    {
     "name": "stdout",
     "output_type": "stream",
     "text": [
      "Average: 4.50\n",
      "Failed\n"
     ]
    }
   ],
   "source": [
    "n1 = float(input(\"First Score: \"))\n",
    "n2 = float(input(\"Second Score: \"))\n",
    "n3 = float(input(\"Third Score: \"))\n",
    "\n",
    "a = (n1 + n2 + n3) / 3\n",
    "\n",
    "print(f\"Average: {a:.2f}\")\n",
    "\n",
    "match a:\n",
    "    case a if a >= 7:\n",
    "        print(\"Passed!\")\n",
    "    case a if 5 <= a < 7:\n",
    "        print(\"Retake\")\n",
    "    case a if a < 5:\n",
    "        print(\"Failed\")"
   ]
  },
  {
   "cell_type": "code",
   "execution_count": 27,
   "metadata": {},
   "outputs": [
    {
     "name": "stdout",
     "output_type": "stream",
     "text": [
      "Toll: $30\n"
     ]
    }
   ],
   "source": [
    "d = float(input(\"Distance in KM: \"))\n",
    "\n",
    "if d < 100:\n",
    "    print(\"Toll: $10\")\n",
    "elif 100 < d < 200:\n",
    "    print(\"Toll: $20\")\n",
    "else:\n",
    "    print(\"Toll: $30\")"
   ]
  },
  {
   "cell_type": "code",
   "execution_count": null,
   "metadata": {},
   "outputs": [
    {
     "name": "stdout",
     "output_type": "stream",
     "text": [
      "True\n"
     ]
    }
   ],
   "source": [
    "n = int(input(\"Type a whole number: \"))\n",
    "\n",
    "if n % 2 == 0: \n",
    "    print(\"Even\")\n",
    "else:\n",
    "    print(\"Odd\")"
   ]
  },
  {
   "cell_type": "markdown",
   "metadata": {},
   "source": [
    "A linha if numero % 2 == 0: verifica se o resto da divisão do número por 2 é igual a zero. Se for, significa que o número é par.\n",
    "\n",
    "-por resto voce quer dizer os numeros apos a virgula?\n",
    "\n",
    "Não, o resto da divisão não se refere aos números após a vírgula. Em vez disso, ele representa o valor que \"sobra\" quando você divide um número inteiro por outro. Por exemplo, se você dividir 7 por 2, o quociente é 3 e o resto é 1, porque 2 cabe três vezes em 7, e sobra 1.\n",
    "\n",
    "-voce pode fazer mais dois exemplos por favor\n",
    "\n",
    "Com certeza!Exemplo 1:\n",
    "Se você dividir 10 por 2:\n",
    "O quociente é 5 (porque 2 cabe 5 vezes em 10).\n",
    "O resto é 0 (porque não sobra nada).\n",
    "\n",
    "\n",
    "\n",
    "Exemplo 2:\n",
    "Se você dividir 11 por 2:\n",
    "O quociente é 5 (porque 2 cabe 5 vezes em 11).\n",
    "O resto é 1 (porque sobra 1).\n",
    "\n",
    "\n",
    "\n",
    "No código, o operador % é usado para obter esse resto da divisão. Se o resto for 0, o número é par; caso contrário, é ímpar. Espero que isso ajude a esclarecer! "
   ]
  },
  {
   "cell_type": "code",
   "execution_count": 44,
   "metadata": {},
   "outputs": [
    {
     "name": "stdout",
     "output_type": "stream",
     "text": [
      "Loan denied: loan value greater than %30 of income\n"
     ]
    }
   ],
   "source": [
    "income = float(input(\"Monthly Income: \"))\n",
    "loan = float(input(\"Loan amount deisred: \"))\n",
    "\n",
    "\n",
    "if income > 2000 and loan <= (0.3 * income):\n",
    "    print(\"Loan approved!\")\n",
    "elif income <= 2000:\n",
    "    print(\"Loan denied: Insuficient income\")\n",
    "else:\n",
    "    print(\"Loan denied: loan value greater than %30 of income\")"
   ]
  }
 ],
 "metadata": {
  "kernelspec": {
   "display_name": "Python 3",
   "language": "python",
   "name": "python3"
  },
  "language_info": {
   "codemirror_mode": {
    "name": "ipython",
    "version": 3
   },
   "file_extension": ".py",
   "mimetype": "text/x-python",
   "name": "python",
   "nbconvert_exporter": "python",
   "pygments_lexer": "ipython3",
   "version": "3.11.4"
  }
 },
 "nbformat": 4,
 "nbformat_minor": 2
}
