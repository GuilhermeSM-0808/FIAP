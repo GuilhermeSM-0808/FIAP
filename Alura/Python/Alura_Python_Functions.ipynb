{
 "cells": [
  {
   "cell_type": "markdown",
   "id": "cff49f56",
   "metadata": {},
   "source": [
    "# Introducao e Exmplos"
   ]
  },
  {
   "cell_type": "code",
   "execution_count": 15,
   "id": "edb213c5",
   "metadata": {},
   "outputs": [
    {
     "name": "stdout",
     "output_type": "stream",
     "text": [
      "5\n",
      "1\n",
      "15\n"
     ]
    }
   ],
   "source": [
    "test = [5, 1, 2, 3, 4]\n",
    "\n",
    "print(max(test))\n",
    "print(min(test))\n",
    "print(sum(test))"
   ]
  },
  {
   "cell_type": "code",
   "execution_count": 3,
   "id": "7adbdf80",
   "metadata": {},
   "outputs": [
    {
     "name": "stdout",
     "output_type": "stream",
     "text": [
      "True\n",
      "False\n"
     ]
    }
   ],
   "source": [
    "print(isinstance(\"Python\", (int,str)))\n",
    "print(isinstance(10.5,int))"
   ]
  },
  {
   "cell_type": "code",
   "execution_count": 16,
   "id": "733f73f7",
   "metadata": {},
   "outputs": [
    {
     "name": "stdout",
     "output_type": "stream",
     "text": [
      "[5, 3, 4]\n",
      "[10, 2, 4, 6, 8]\n"
     ]
    }
   ],
   "source": [
    "print(list(filter(lambda x: x > 2, test)))\n",
    "\n",
    "print(list(map(lambda x: x * 2, test)))"
   ]
  },
  {
   "cell_type": "code",
   "execution_count": 22,
   "id": "18b276ec",
   "metadata": {},
   "outputs": [
    {
     "name": "stdout",
     "output_type": "stream",
     "text": [
      "[4, 3, 2, 1, 5]\n",
      "[1, 2, 3, 4, 5]\n",
      "[5, 4, 3, 2, 1]\n"
     ]
    }
   ],
   "source": [
    "print(list(reversed(test)))\n",
    "\n",
    "print(list(sorted(test)))\n",
    "\n",
    "print(list(sorted(test, reverse = 1)))"
   ]
  },
  {
   "cell_type": "markdown",
   "id": "d74900d4",
   "metadata": {},
   "source": [
    "## Funcao recursiva\n",
    "\n",
    "São aquelas funções que chamam a si mesmas para resolver problemas\n",
    "repetitivos até atingir uma condição de parada"
   ]
  },
  {
   "cell_type": "code",
   "execution_count": 23,
   "id": "07622f59",
   "metadata": {},
   "outputs": [
    {
     "name": "stdout",
     "output_type": "stream",
     "text": [
      "120\n"
     ]
    }
   ],
   "source": [
    "def factorial(n):\n",
    "    if n == 0:\n",
    "        return 1\n",
    "    return n * factorial(n - 1)\n",
    "\n",
    "print(factorial(5))"
   ]
  },
  {
   "cell_type": "markdown",
   "id": "f21c05c6",
   "metadata": {},
   "source": [
    "### GPT explanation of the execution of the function above\n",
    "\n",
    "First call: factorial(5) is called. Since n is not 0, it moves to return 5 * factorial(4).\n",
    "\n",
    "But before it can multiply, it needs to know what factorial(4) is, so it calls factorial(4).\n",
    "\n",
    "Second call: factorial(4) is now called. Again, n isn't 0, so it returns 4 * factorial(3).\n",
    "\n",
    "Again, it needs to know what factorial(3) is, so it calls factorial(3).\n",
    "\n",
    "Third call: factorial(3) is called. It returns 3 * factorial(2), so it calls factorial(2).\n",
    "\n",
    "Fourth call: factorial(2) is called. It returns 2 * factorial(1), so it calls factorial(1).\n",
    "\n",
    "Fifth call: factorial(1) is called. It returns 1 * factorial(0), so it calls factorial(0).\n",
    "\n",
    "Sixth call: factorial(0) is called. Now, the base case is hit: it immediately returns 1, because if n == 0: return 1.\n",
    "\n",
    "---\n",
    "\n",
    "Now that factorial(0) returns 1, the chain of unfinished multiplications starts resolving:\n",
    "\n",
    "factorial(1) now becomes 1 * 1 = 1.\n",
    "\n",
    "factorial(2) now becomes 2 * 1 = 2.\n",
    "\n",
    "factorial(3) now becomes 3 * 2 = 6.\n",
    "\n",
    "factorial(4) now becomes 4 * 6 = 24.\n",
    "\n",
    "factorial(5) now becomes 5 * 24 = 120.\n",
    "\n",
    "Finally, print(factorial(5)) prints 120.\n",
    "\n",
    "---\n",
    "\n",
    "To answer your question:\n",
    "Yes, once n reaches 0 and returns 1, it \"unwinds\" through all the previous incomplete multiplications, one by one, finishing the chain backwards."
   ]
  },
  {
   "cell_type": "markdown",
   "id": "03e383c0",
   "metadata": {},
   "source": [
    "## Lambda"
   ]
  },
  {
   "cell_type": "code",
   "execution_count": 24,
   "id": "66cbaa75",
   "metadata": {},
   "outputs": [
    {
     "name": "stdout",
     "output_type": "stream",
     "text": [
      "8\n"
     ]
    }
   ],
   "source": [
    "soma = lambda a, b: a + b\n",
    "\n",
    "print(soma(3,5))"
   ]
  },
  {
   "cell_type": "markdown",
   "id": "1a465d35",
   "metadata": {},
   "source": [
    "## Funcoes com closures\n",
    "\n",
    "Closure é uma função interna que lembra do ambiente onde foi criada, mesmo\n",
    "após a execução da função externa ter terminado. Isso permite que ela mantenha\n",
    "o estado de variáveis sem a necessidade de usá-las globalmente."
   ]
  },
  {
   "cell_type": "code",
   "execution_count": 25,
   "id": "14811b7f",
   "metadata": {},
   "outputs": [
    {
     "name": "stdout",
     "output_type": "stream",
     "text": [
      "15\n"
     ]
    }
   ],
   "source": [
    "def mulitplicador(n):\n",
    "    def multiplicado(x):\n",
    "        return x * n\n",
    "    return multiplicado\n",
    "\n",
    "triplo = mulitplicador(3)\n",
    "valor = triplo(5)\n",
    "print(valor)"
   ]
  },
  {
   "cell_type": "code",
   "execution_count": 27,
   "id": "e84ede8b",
   "metadata": {},
   "outputs": [
    {
     "name": "stdout",
     "output_type": "stream",
     "text": [
      "They are 27 years old.\n"
     ]
    }
   ],
   "source": [
    "def age():\n",
    "    b_year = int(input(\"Insert the birth year: \"))\n",
    "    c_year = int(input(\"Insert the current year: \"))\n",
    "    age = c_year - b_year\n",
    "    print(f\"They are {age} years old.\")\n",
    "    \n",
    "age()"
   ]
  },
  {
   "cell_type": "markdown",
   "id": "8260e501",
   "metadata": {},
   "source": [
    "2nd Idea"
   ]
  },
  {
   "cell_type": "code",
   "execution_count": null,
   "id": "6be092c1",
   "metadata": {},
   "outputs": [
    {
     "name": "stdout",
     "output_type": "stream",
     "text": [
      "27\n"
     ]
    }
   ],
   "source": [
    "def age(year1, year2):\n",
    "    return abs(year1 - year2)\n",
    "\n",
    "input_01, input_02 = (input(\"Insert the current year and the year of birth: \").split())\n",
    "\n",
    "print(age(int(input_01),int(input_02)))"
   ]
  },
  {
   "cell_type": "code",
   "execution_count": 29,
   "id": "ae03e3b1",
   "metadata": {},
   "outputs": [
    {
     "name": "stdout",
     "output_type": "stream",
     "text": [
      "Your word has 6 letters\n"
     ]
    }
   ],
   "source": [
    "def letter_count(word):\n",
    "    return len(word)\n",
    "\n",
    "w_input = input(\"Insert the word you want to know the amount of letters in: \")\n",
    "length = letter_count(w_input)\n",
    "\n",
    "print(f\"Your word has {length} letters\")"
   ]
  },
  {
   "cell_type": "markdown",
   "id": "22e656e9",
   "metadata": {},
   "source": [
    "2nd idea, without using len()"
   ]
  },
  {
   "cell_type": "code",
   "execution_count": null,
   "id": "c8299017",
   "metadata": {},
   "outputs": [
    {
     "name": "stdout",
     "output_type": "stream",
     "text": [
      "Your word has 7 words\n"
     ]
    }
   ],
   "source": [
    "def word_length(word):\n",
    "    n = 0\n",
    "    b = True\n",
    "\n",
    "    while b:\n",
    "        try:\n",
    "            b = bool(word[n])\n",
    "        except:\n",
    "            b = False\n",
    "            break\n",
    "        n += 1\n",
    "    return n\n",
    "\n",
    "input_w = word_length(input(\"Insert your word: \"))\n",
    "\n",
    "print(\"Your word has\", input_w,\"words\")"
   ]
  },
  {
   "cell_type": "code",
   "execution_count": 51,
   "id": "d519650e",
   "metadata": {},
   "outputs": [
    {
     "name": "stdout",
     "output_type": "stream",
     "text": [
      "Boa Noite!\n"
     ]
    }
   ],
   "source": [
    "def greetings(time):\n",
    "    if time < 12:\n",
    "        return \"Bom dia!\"\n",
    "    elif 12 <= time < 18:\n",
    "        return \"Boa Tarde!\"\n",
    "    else:\n",
    "        return \"Boa Noite!\"\n",
    "    \n",
    "time = int(input(\"Insert what time it is (24h format): \"))\n",
    "\n",
    "print(greetings(time))"
   ]
  },
  {
   "cell_type": "code",
   "execution_count": null,
   "id": "b6eb37b6",
   "metadata": {},
   "outputs": [
    {
     "name": "stdout",
     "output_type": "stream",
     "text": [
      "['11987654321', '21912345678', '31987654321', '11911223344']\n"
     ]
    }
   ],
   "source": [
    "telefones = [\"11987654321\", \"21912345678\", \"31987654321\", \"11911223344\"] \n",
    "\n",
    "def convert_str2int(num_list):\n",
    "    list(map(lambda num: num = int(num), num_list))\n",
    "    return num_list\n",
    "\n",
    "print(convert_str2int(telefones))        "
   ]
  }
 ],
 "metadata": {
  "kernelspec": {
   "display_name": "Python 3",
   "language": "python",
   "name": "python3"
  },
  "language_info": {
   "codemirror_mode": {
    "name": "ipython",
    "version": 3
   },
   "file_extension": ".py",
   "mimetype": "text/x-python",
   "name": "python",
   "nbconvert_exporter": "python",
   "pygments_lexer": "ipython3",
   "version": "3.11.4"
  }
 },
 "nbformat": 4,
 "nbformat_minor": 5
}
