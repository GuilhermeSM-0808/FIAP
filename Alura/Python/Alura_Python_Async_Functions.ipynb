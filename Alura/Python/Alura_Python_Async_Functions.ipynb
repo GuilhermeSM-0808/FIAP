{
 "cells": [
  {
   "cell_type": "markdown",
   "id": "cb401bbf",
   "metadata": {},
   "source": [
    "# Asynchronus Programming"
   ]
  },
  {
   "cell_type": "markdown",
   "id": "5094764d",
   "metadata": {},
   "source": [
    "## **import asyncio**"
   ]
  },
  {
   "cell_type": "code",
   "execution_count": 14,
   "id": "ce1f24a2",
   "metadata": {},
   "outputs": [],
   "source": [
    "import asyncio\n",
    "import time"
   ]
  },
  {
   "cell_type": "code",
   "execution_count": 2,
   "id": "697f7c61",
   "metadata": {},
   "outputs": [
    {
     "name": "stdout",
     "output_type": "stream",
     "text": [
      "Loading task 1.\n",
      "Task 1 loaded.\n",
      "Loading task 2.\n",
      "Task 2 loaded.\n",
      "Loading task 3.\n",
      "Task 3 loaded.\n"
     ]
    }
   ],
   "source": [
    "def task(number):\n",
    "    print(f\"Loading task {number}.\")\n",
    "    time.sleep(2)\n",
    "    print(f\"Task {number} loaded.\")\n",
    "    \n",
    "task(1)\n",
    "task(2)\n",
    "task(3)\n",
    "    "
   ]
  },
  {
   "cell_type": "markdown",
   "id": "dc1cab90",
   "metadata": {},
   "source": [
    "# Jupyter Notebook diference:\n",
    "### Jupyter is already running an event loop, so we need to call (start async functions with) 'await' instead of 'asyncio.run()'"
   ]
  },
  {
   "cell_type": "markdown",
   "id": "72b1210c",
   "metadata": {},
   "source": [
    ">#### Jupyter vs. IPython caution\n",
    ">There is a slight difference on how Jupyter uses the loop compared to IPython.\n",
    ">\n",
    ">[...] IPykernel having a persistent asyncio loop running, while Terminal IPython starts \n",
    ">and stops a loop for each code block.\n",
    ">\n",
    ">This can lead to unexpected issues."
   ]
  },
  {
   "cell_type": "code",
   "execution_count": null,
   "id": "c644298a",
   "metadata": {},
   "outputs": [
    {
     "name": "stdout",
     "output_type": "stream",
     "text": [
      "Start.\n",
      "Finished.\n"
     ]
    }
   ],
   "source": [
    "async def co_routine():\n",
    "    print(\"Start.\")\n",
    "    await asyncio.sleep(2)\n",
    "    print(\"Finished.\")\n",
    "    \n",
    "await co_routine() ## asyncio.run(co_routine()) in python"
   ]
  },
  {
   "cell_type": "markdown",
   "id": "0ba3406a",
   "metadata": {},
   "source": [
    "## Coroutines"
   ]
  },
  {
   "cell_type": "code",
   "execution_count": 9,
   "id": "bcb18116",
   "metadata": {},
   "outputs": [
    {
     "name": "stdout",
     "output_type": "stream",
     "text": [
      "Starting task 1.\n",
      "Task 1 concluded.\n",
      "Starting task 2.\n",
      "Task 2 concluded.\n"
     ]
    }
   ],
   "source": [
    "async def co_routine(num):\n",
    "    print(f\"Starting task {num}.\")\n",
    "    await asyncio.sleep(2)\n",
    "    print(f\"Task {num} concluded.\")\n",
    "    \n",
    "async def main():\n",
    "    await co_routine(1)\n",
    "    await co_routine(2)\n",
    "    \n",
    "await main() ## asyncio.run(main()) in python"
   ]
  },
  {
   "cell_type": "markdown",
   "id": "02647f34",
   "metadata": {},
   "source": [
    "## Tasks"
   ]
  },
  {
   "cell_type": "code",
   "execution_count": 10,
   "id": "c87e90e1",
   "metadata": {},
   "outputs": [
    {
     "name": "stdout",
     "output_type": "stream",
     "text": [
      "Starting task 1.\n",
      "Starting task 2.\n",
      "Task 1 concluded.\n",
      "Task 2 concluded.\n"
     ]
    }
   ],
   "source": [
    "async def co_routine(num):\n",
    "    print(f\"Starting task {num}.\")\n",
    "    await asyncio.sleep(2)\n",
    "    print(f\"Task {num} concluded.\")\n",
    "    \n",
    "async def main():\n",
    "    task01 = asyncio.create_task(co_routine(1))\n",
    "    task02 = asyncio.create_task(co_routine(2))\n",
    "    await task01\n",
    "    await task02\n",
    "    \n",
    "await main() ## asyncio.run(main()) in python"
   ]
  },
  {
   "cell_type": "markdown",
   "id": "f06f96ed",
   "metadata": {},
   "source": [
    "## Future"
   ]
  },
  {
   "cell_type": "code",
   "execution_count": 11,
   "id": "c757d9b2",
   "metadata": {},
   "outputs": [
    {
     "name": "stdout",
     "output_type": "stream",
     "text": [
      "Starting.\n",
      "Finished.\n"
     ]
    }
   ],
   "source": [
    "async def co_routine(future):\n",
    "    print(f\"Starting.\")\n",
    "    await asyncio.sleep(2)\n",
    "    future.set_result(\"Finished.\")\n",
    "    \n",
    "async def main():\n",
    "    future = asyncio.Future()\n",
    "    asyncio.create_task(co_routine(future))\n",
    "    result = await future\n",
    "    print(result)\n",
    "    \n",
    "await main() ## asyncio.run(main()) in python"
   ]
  },
  {
   "cell_type": "code",
   "execution_count": 13,
   "id": "647c8d08",
   "metadata": {},
   "outputs": [
    {
     "name": "stdout",
     "output_type": "stream",
     "text": [
      "Task 1 started.\n",
      "Task 2 inicianted, awaiting (future's) result\n",
      "Task 1 concluded.\n",
      "Task 2 concluded with the Result of task 1\n"
     ]
    }
   ],
   "source": [
    "async def co_routine1(future):\n",
    "    print(\"Task 1 started.\")\n",
    "    await asyncio.sleep(2)\n",
    "    future.set_result(\"Result of task 1\")\n",
    "    print(\"Task 1 concluded.\")\n",
    "\n",
    "async def co_routine2(future):\n",
    "    print(\"Task 2 inicianted, awaiting (future's) result\")\n",
    "    result = await future\n",
    "    print(\"Task 2 concluded with the\", result)\n",
    "    \n",
    "async def main():\n",
    "    future = asyncio.Future()\n",
    "    task01 = asyncio.create_task(co_routine1(future)) \n",
    "    task02 = asyncio.create_task(co_routine2(future)) \n",
    "    \n",
    "    await task01\n",
    "    await task02\n",
    "        \n",
    "await main() ## asyncio.run(main()) in regular python"
   ]
  },
  {
   "cell_type": "markdown",
   "id": "83672e4f",
   "metadata": {},
   "source": [
    "### Executing multiple tasks"
   ]
  },
  {
   "cell_type": "code",
   "execution_count": null,
   "id": "d018f5f4",
   "metadata": {},
   "outputs": [
    {
     "name": "stdout",
     "output_type": "stream",
     "text": [
      "Task 1 iniciated.\n",
      "Task 2 iniciated.\n",
      "Task 3 iniciated.\n",
      "Task 3 concluded.\n",
      "Task 1 concluded.\n",
      "Task 2 concluded.\n"
     ]
    }
   ],
   "source": [
    "async def co_routine(name, tempo):\n",
    "    print(f\"Task {name} iniciated.\")\n",
    "    await asyncio.sleep(tempo)\n",
    "    print(f\"Task {name} concluded.\")\n",
    "    \n",
    "async def main():\n",
    "    await asyncio.gather(\n",
    "        co_routine(\"1\",3),\n",
    "        co_routine(\"2\",5),\n",
    "        co_routine(\"3\",1)\n",
    "    )\n",
    "\n",
    "await main() ## asyncio.run(main()) in regular python"
   ]
  },
  {
   "cell_type": "markdown",
   "id": "e697927e",
   "metadata": {},
   "source": [
    "#### Synchronous project"
   ]
  },
  {
   "cell_type": "code",
   "execution_count": 18,
   "id": "2b18e2d1",
   "metadata": {},
   "outputs": [
    {
     "name": "stdout",
     "output_type": "stream",
     "text": [
      "Started task 1.\n",
      "Task 1 concluded.\n",
      "Started task 2.\n",
      "Task 2 concluded.\n",
      "Started task 3.\n",
      "Task 3 concluded.\n"
     ]
    }
   ],
   "source": [
    "import time\n",
    "\n",
    "def task(num):\n",
    "    print(f\"Started task {num}.\")\n",
    "    time.sleep(2)\n",
    "    print(f\"Task {num} concluded.\")\n",
    "    \n",
    "task(1)\n",
    "task(2)\n",
    "task(3)"
   ]
  },
  {
   "cell_type": "markdown",
   "id": "aae7cf32",
   "metadata": {},
   "source": [
    "#### Asynchronous project"
   ]
  },
  {
   "cell_type": "code",
   "execution_count": 20,
   "id": "7b647325",
   "metadata": {},
   "outputs": [
    {
     "name": "stdout",
     "output_type": "stream",
     "text": [
      "Iniciated task 1.\n",
      "Iniciated task 2.\n",
      "Iniciated task 3.\n",
      "Task 1 concluded.\n",
      "Task 2 concluded.\n",
      "Task 3 concluded.\n"
     ]
    }
   ],
   "source": [
    "async def task(num):\n",
    "    print(f\"Iniciated task {num}.\")\n",
    "    await asyncio.sleep(2)\n",
    "    print(f\"Task {num} concluded.\")\n",
    "    \n",
    "async def main():\n",
    "    await asyncio.gather(\n",
    "        task(1),\n",
    "        task(2),\n",
    "        task(3)\n",
    "    )\n",
    "    \n",
    "await main() ## asyncio.run(main()) in regular python"
   ]
  },
  {
   "cell_type": "markdown",
   "id": "b31e056f",
   "metadata": {},
   "source": [
    "## Exercises:"
   ]
  },
  {
   "cell_type": "markdown",
   "id": "b61146bc",
   "metadata": {},
   "source": [
    "### Ex 01"
   ]
  },
  {
   "cell_type": "code",
   "execution_count": null,
   "id": "a4f6864e",
   "metadata": {},
   "outputs": [
    {
     "name": "stdout",
     "output_type": "stream",
     "text": [
      "Timer iniciated...\n",
      "Timer finished after 3 seconds!\n"
     ]
    }
   ],
   "source": [
    "async def wait():\n",
    "    print(\"Timer iniciated...\")\n",
    "    await asyncio.sleep(3)\n",
    "    print(\"Timer finished after 3 seconds!\")\n",
    "    \n",
    "await wait() ## asyncio.run(main()) in regular pyth"
   ]
  },
  {
   "cell_type": "markdown",
   "id": "7998fd1a",
   "metadata": {},
   "source": [
    "### Ex 02"
   ]
  },
  {
   "cell_type": "code",
   "execution_count": 25,
   "id": "91ddf5c1",
   "metadata": {},
   "outputs": [
    {
     "name": "stdout",
     "output_type": "stream",
     "text": [
      "Iniciated donwload...\n",
      "Iniciated data analysis...\n",
      "Download finished.\n",
      "Analysis finished.\n"
     ]
    }
   ],
   "source": [
    "async def downlaod():\n",
    "    print(\"Iniciated donwload...\")\n",
    "    await asyncio.sleep(3)\n",
    "    print(\"Download finished.\")\n",
    "\n",
    "async def analysis():\n",
    "    print(\"Iniciated data analysis...\")\n",
    "    await asyncio.sleep(3)\n",
    "    print(\"Analysis finished.\")\n",
    "    \n",
    "async def main():\n",
    "    await asyncio.gather(\n",
    "        downlaod(),\n",
    "        analysis()\n",
    "    )\n",
    "    \n",
    "await main() ## asyncio.run(main()) in regular python"
   ]
  },
  {
   "cell_type": "markdown",
   "id": "26850f6f",
   "metadata": {},
   "source": [
    "Including the 'await' before 'asyncio.gather()' makes it program run slightly different, one having a run time and the other doesnt. But they both output the same result"
   ]
  },
  {
   "cell_type": "markdown",
   "id": "9ffce5a7",
   "metadata": {},
   "source": [
    "### Ex 03"
   ]
  },
  {
   "cell_type": "code",
   "execution_count": 34,
   "id": "7825b6b5",
   "metadata": {},
   "outputs": [
    {
     "name": "stdout",
     "output_type": "stream",
     "text": [
      "The factorial of 3 = 6\n",
      "The factorial of 4 = 24\n",
      "The factorial of 5 = 120\n",
      "The factorial of 6 = 720\n",
      "The factorial of 7 = 5040\n"
     ]
    }
   ],
   "source": [
    "numbers = [5, 3, 7, 4, 6]\n",
    "\n",
    "async def factorial(num):\n",
    "    def fac(n):\n",
    "        if n == 0:\n",
    "            return 1\n",
    "        return n * fac(n - 1)\n",
    "    result = fac(num)\n",
    "    await asyncio.sleep(num)\n",
    "    print(f\"The factorial of {num} = {result}\")\n",
    "    \n",
    "\n",
    "async def main():\n",
    "    await asyncio.gather(\n",
    "            factorial(numbers[0]),\n",
    "            factorial(numbers[1]),\n",
    "            factorial(numbers[2]),\n",
    "            factorial(numbers[3]),\n",
    "            factorial(numbers[4])\n",
    "    )    \n",
    "\n",
    "await main() ## asyncio.run(main()) in regular python"
   ]
  },
  {
   "cell_type": "markdown",
   "id": "c86074ea",
   "metadata": {},
   "source": [
    "Provided solution"
   ]
  },
  {
   "cell_type": "code",
   "execution_count": null,
   "id": "59f31dd8",
   "metadata": {},
   "outputs": [
    {
     "name": "stdout",
     "output_type": "stream",
     "text": [
      "Fatorial de 3 = 6\n",
      "Fatorial de 4 = 24\n",
      "Fatorial de 5 = 120\n",
      "Fatorial de 6 = 720\n",
      "Fatorial de 7 = 5040\n"
     ]
    }
   ],
   "source": [
    "import asyncio\n",
    "import math\n",
    "\n",
    "numeros = [5, 3, 7, 4, 6]\n",
    "\n",
    "async def calcular_fatorial(n):\n",
    "    await asyncio.sleep(n) \n",
    "    print(f\"Fatorial de {n} = {math.factorial(n)}\")\n",
    "\n",
    "async def main():\n",
    "    tarefas = [asyncio.create_task(calcular_fatorial(n)) for n in numeros]\n",
    "    await asyncio.gather(*tarefas)\n",
    "\n",
    "await main() ## asyncio.run(main()) in regular python"
   ]
  },
  {
   "cell_type": "markdown",
   "id": "20c0fdf0",
   "metadata": {},
   "source": [
    "Fusing the given solution with mine"
   ]
  },
  {
   "cell_type": "code",
   "execution_count": 36,
   "id": "7cb28f70",
   "metadata": {},
   "outputs": [
    {
     "name": "stdout",
     "output_type": "stream",
     "text": [
      "Fatorial de 3 = 6\n",
      "Fatorial de 4 = 24\n",
      "Fatorial de 5 = 120\n",
      "Fatorial de 6 = 720\n",
      "Fatorial de 7 = 5040\n"
     ]
    }
   ],
   "source": [
    "numbers = [5, 3, 7, 4, 6]\n",
    "\n",
    "async def factorial(num):\n",
    "    def fac(n):\n",
    "        if n == 0:\n",
    "            return 1\n",
    "        return n * fac(n - 1)\n",
    "    result = fac(num)\n",
    "    await asyncio.sleep(num)\n",
    "    print(f\"The factorial of {num} = {result}\")\n",
    "    \n",
    "\n",
    "async def main():\n",
    "    tarefas = [asyncio.create_task(calcular_fatorial(n)) for n in numeros]\n",
    "    await asyncio.gather(*tarefas)\n",
    "\n",
    "await main() ## asyncio.run(main()) in regular python"
   ]
  },
  {
   "cell_type": "markdown",
   "id": "eeffdd1b",
   "metadata": {},
   "source": [
    "### Ex 04"
   ]
  },
  {
   "cell_type": "code",
   "execution_count": null,
   "id": "23a110a2",
   "metadata": {},
   "outputs": [
    {
     "name": "stdout",
     "output_type": "stream",
     "text": [
      "Sending notifications...\n",
      "VIP Notification sent to Foo!\n",
      "No VIP notification sent to Qux, as their notificaitons are turned off.\n",
      "VIP Notification sent to Baz!\n",
      "Common Notification sent to Bar!\n",
      "No notification sent to Fubar, as their notifications are turned off\n",
      "Common Notification sent to Gui!\n",
      "All Notifications were processed.\n"
     ]
    }
   ],
   "source": [
    "VIP_notifs = []\n",
    "Common_notifs = []\n",
    "\n",
    "Users = {\n",
    "    \"Foo\":{\"User_Type\":\"VIP\", \"Notif\":True},\n",
    "    \"Bar\":{\"User_Type\":\"Common\", \"Notif\":True},\n",
    "    \"Fubar\":{\"User_Type\":\"Common\", \"Notif\":False},\n",
    "    \"Qux\":{\"User_Type\":\"VIP\", \"Notif\":False},\n",
    "    \"Baz\":{\"User_Type\":\"VIP\", \"Notif\":True},\n",
    "    \"Gui\":{\"User_Type\":\"Common\", \"Notif\":True}\n",
    "}\n",
    "\n",
    "async def notify():\n",
    "    for user in Users:\n",
    "        if Users[user][\"User_Type\"] == \"VIP\":\n",
    "            VIP_notifs.append(user)\n",
    "        else:\n",
    "            Common_notifs.append(user) \n",
    "    for VIP in VIP_notifs:\n",
    "        if Users[VIP][\"Notif\"] == True:\n",
    "            print(f\"VIP Notification sent to {VIP}!\")\n",
    "        else:\n",
    "            print(f\"No VIP notification sent to {VIP}, as their notificaitions are turned off.\")\n",
    "    for Common in Common_notifs:\n",
    "        if Users[Common][\"Notif\"] == True:\n",
    "            print(f\"Common Notification sent to {Common}!\")\n",
    "        else:\n",
    "            print(f\"No notification sent to {Common}, as their notifications are turned off\")\n",
    "\n",
    "        \n",
    "        \n",
    "async def main():\n",
    "    print(\"Sending notifications...\")\n",
    "    await notify()\n",
    "    print(\"All Notifications were processed.\")        \n",
    "        \n",
    "await main()  ## asyncio.run(main()) in regular python"
   ]
  },
  {
   "cell_type": "markdown",
   "id": "335888f5",
   "metadata": {},
   "source": [
    "Provided solution"
   ]
  },
  {
   "cell_type": "code",
   "execution_count": null,
   "id": "871d1b34",
   "metadata": {},
   "outputs": [
    {
     "name": "stdout",
     "output_type": "stream",
     "text": [
      "Enviando notificações...\n",
      "Ana desativou as notificações. Nada foi enviado.\n",
      "Notificação normal para João enviada!\n",
      "Carla desativou as notificações. Nada foi enviado.\n",
      "Notificação VIP para Gui enviada!\n",
      "Notificação normal para Gui enviada!\n",
      "Todas as notificações foram processadas!\n"
     ]
    }
   ],
   "source": [
    "import asyncio\n",
    "\n",
    "usuarios = [\n",
    "    {\"nome\": \"Ana\", \"vip\": True, \"notificacoes_ativadas\": False},\n",
    "    {\"nome\": \"João\", \"vip\": False, \"notificacoes_ativadas\": True},\n",
    "    {\"nome\": \"Carla\", \"vip\": False, \"notificacoes_ativadas\": False},\n",
    "    {\"nome\": \"Gui\", \"vip\": True, \"notificacoes_ativadas\": True}\n",
    "]\n",
    "\n",
    "async def enviar_notificacao(usuario):\n",
    "    if not usuario[\"notificacoes_ativadas\"]:\n",
    "        print(f\"{usuario['nome']} desativou as notificações. Nada foi enviado.\")\n",
    "        return\n",
    "    \n",
    "    if usuario[\"vip\"]:\n",
    "        print(f\"Notificação VIP para {usuario['nome']} enviada!\")\n",
    "        return\n",
    "    \n",
    "    print(f\"Notificação normal para {usuario['nome']} enviada!\")\n",
    "\n",
    "async def main():\n",
    "    print(\"Enviando notificações...\")\n",
    "    tarefas = [asyncio.create_task(enviar_notificacao(u)) for u in usuarios]\n",
    "    await asyncio.gather(*tarefas)\n",
    "    print(\"Todas as notificações foram processadas!\")\n",
    "\n",
    "await main()  ## asyncio.run(main()) in regular python"
   ]
  },
  {
   "cell_type": "markdown",
   "id": "904584f8",
   "metadata": {},
   "source": [
    "##### The provided solution above doesn't work as the exercise requests, VIP are supposed to get messaged first"
   ]
  },
  {
   "cell_type": "markdown",
   "id": "d3e3e33e",
   "metadata": {},
   "source": [
    "### Ex 05"
   ]
  },
  {
   "cell_type": "code",
   "execution_count": 21,
   "id": "49f1629a",
   "metadata": {},
   "outputs": [
    {
     "name": "stdout",
     "output_type": "stream",
     "text": [
      "Processing Orders...\n",
      "\n",
      "Processing order 101...\n",
      "Payment for order 101 was approved.\n",
      "Stock available for order 101.\n",
      "Order 101 confirmed! Ready for delivery.\n",
      "\n",
      "Processing order 102...\n",
      "Payment for order 102 was approved.\n",
      "Stock unavailable for order 102. Cancelling order.\n",
      "\n",
      "Processing order 103...\n",
      "Payment for order 103 was declined. Cancelling order.\n",
      "\n",
      "Processing order 104...\n",
      "Payment for order 104 was approved.\n",
      "Stock available for order 104.\n",
      "Order 104 confirmed! Ready for delivery.\n",
      "\n",
      "Processing order 105...\n",
      "Payment for order 105 was declined. Cancelling order.\n",
      "\n",
      "All Orders have been processed.\n"
     ]
    }
   ],
   "source": [
    "orders = [\n",
    "    {\"id\": 101, \"payment_approved\": True, \"available_stock\": True},\n",
    "    {\"id\": 102, \"payment_approved\": True, \"available_stock\": False},\n",
    "    {\"id\": 103, \"payment_approved\": False, \"available_stock\": True},\n",
    "    {\"id\": 104, \"payment_approved\": True, \"available_stock\": True},\n",
    "    {\"id\": 105, \"payment_approved\": False, \"available_stock\": False},\n",
    "]\n",
    "\n",
    "async def process_order(order):\n",
    "    print(f\"Processing order {order['id']}...\")\n",
    "    if order[\"payment_approved\"] == True:\n",
    "        print(f\"Payment for order {order['id']} was approved.\")\n",
    "        if order[\"available_stock\"] == True:\n",
    "            print(f\"Stock available for order {order['id']}.\")\n",
    "            print(f\"Order {order['id']} confirmed! Ready for delivery.\\n\")\n",
    "        else:\n",
    "            print(f\"Stock unavailable for order {order['id']}. Cancelling order.\\n\")\n",
    "    else:\n",
    "            print(f\"Payment for order {order['id']} was declined. Cancelling order.\\n\")\n",
    "    \n",
    "async def main():\n",
    "    print(\"Processing Orders...\\n\")\n",
    "    tasks = [asyncio.create_task(process_order(o)) for o in orders]\n",
    "    await asyncio.gather(*tasks)\n",
    "    print(\"All Orders have been processed.\")\n",
    "    \n",
    "await main() # asyncio.run(main()) in regular python"
   ]
  },
  {
   "cell_type": "markdown",
   "id": "5981b315",
   "metadata": {},
   "source": [
    "##### Provided Solution"
   ]
  },
  {
   "cell_type": "code",
   "execution_count": 25,
   "id": "0354ba7c",
   "metadata": {},
   "outputs": [
    {
     "name": "stdout",
     "output_type": "stream",
     "text": [
      "Processando pedido #101...\n",
      "\n",
      "Pagamento aprovado para pedido #101.\n",
      "\n",
      "Estoque disponível para pedido #101.\n",
      "\n",
      "Pedido #101 confirmado! Enviado para entrega.\n",
      "\n",
      "Processando pedido #102...\n",
      "\n",
      "Pagamento aprovado para pedido #102.\n",
      "\n",
      "Estoque indisponível para pedido #102. Pedido cancelado.\n",
      "\n",
      "Processando pedido #103...\n",
      "\n",
      "Pagamento recusado para pedido #103. Pedido cancelado.\n",
      "\n",
      "Processando pedido #104...\n",
      "\n",
      "Pagamento aprovado para pedido #104.\n",
      "\n",
      "Estoque disponível para pedido #104.\n",
      "\n",
      "Pedido #104 confirmado! Enviado para entrega.\n",
      "\n",
      "Processando pedido #105...\n",
      "\n",
      "Pagamento recusado para pedido #105. Pedido cancelado.\n",
      "\n",
      "\n",
      "Todos os pedidos foram processados!\n",
      "\n"
     ]
    }
   ],
   "source": [
    "import asyncio\n",
    "\n",
    "pedidos = [\n",
    "    {\"id\": 101, \"pagamento_aprovado\": True, \"estoque_disponivel\": True},\n",
    "    {\"id\": 102, \"pagamento_aprovado\": True, \"estoque_disponivel\": False},\n",
    "    {\"id\": 103, \"pagamento_aprovado\": False, \"estoque_disponivel\": True},\n",
    "    {\"id\": 104, \"pagamento_aprovado\": True, \"estoque_disponivel\": True},\n",
    "    {\"id\": 105, \"pagamento_aprovado\": False, \"estoque_disponivel\": False},\n",
    "]\n",
    "\n",
    "async def verificar_pagamento(pedido):\n",
    "    await asyncio.sleep(1)\n",
    "    if pedido[\"pagamento_aprovado\"]:\n",
    "        print(f\"Pagamento aprovado para pedido #{pedido['id']}.\\n\")\n",
    "        return True\n",
    "    else:\n",
    "        print(f\"Pagamento recusado para pedido #{pedido['id']}. Pedido cancelado.\\n\")\n",
    "        return False\n",
    "\n",
    "async def verificar_estoque(pedido):\n",
    "    await asyncio.sleep(1)\n",
    "    if pedido[\"estoque_disponivel\"]:\n",
    "        print(f\"Estoque disponível para pedido #{pedido['id']}.\\n\")\n",
    "        return True\n",
    "    else:\n",
    "        print(f\"Estoque indisponível para pedido #{pedido['id']}. Pedido cancelado.\\n\")\n",
    "        return False\n",
    "\n",
    "async def processar_pedido(pedido):\n",
    "    print(f\"Processando pedido #{pedido['id']}...\\n\")\n",
    "    \n",
    "    pagamento_ok = await verificar_pagamento(pedido)\n",
    "    if not pagamento_ok:\n",
    "        return\n",
    "    estoque_ok = await verificar_estoque(pedido)\n",
    "    if not estoque_ok:\n",
    "        return\n",
    "    print(f\"Pedido #{pedido['id']} confirmado! Enviado para entrega.\\n\")\n",
    "\n",
    "async def main():\n",
    "    for pedido in pedidos: \n",
    "        await processar_pedido(pedido)       \n",
    "    print(\"\\nTodos os pedidos foram processados!\\n\")\n",
    "\n",
    "await main() # asyncio.run(main()) in regular python"
   ]
  },
  {
   "cell_type": "markdown",
   "id": "8f6fa812",
   "metadata": {},
   "source": [
    "Tweaked so all orders are processed simultaneously (added ** for readability)"
   ]
  },
  {
   "cell_type": "code",
   "execution_count": 29,
   "id": "b1821a79",
   "metadata": {},
   "outputs": [
    {
     "name": "stdout",
     "output_type": "stream",
     "text": [
      "Processando pedido #101...\n",
      "Processando pedido #102...\n",
      "Processando pedido #103...\n",
      "Processando pedido #104...\n",
      "Processando pedido #105...\n",
      "Pagamento aprovado para pedido #101.\n",
      "Pagamento recusado para pedido #103. ** Pedido cancelado.\n",
      "Pagamento recusado para pedido #105. ** Pedido cancelado.\n",
      "Pagamento aprovado para pedido #102.\n",
      "Pagamento aprovado para pedido #104.\n",
      "Estoque disponível para pedido #101.\n",
      "**Pedido #101 confirmado! Enviado para entrega.**\n",
      "Estoque indisponível para pedido #102. ** Pedido cancelado.\n",
      "Estoque disponível para pedido #104.\n",
      "**Pedido #104 confirmado! Enviado para entrega.**\n",
      "\n",
      "Todos os pedidos foram processados!\n",
      "\n"
     ]
    }
   ],
   "source": [
    "import asyncio\n",
    "\n",
    "pedidos = [\n",
    "    {\"id\": 101, \"pagamento_aprovado\": True, \"estoque_disponivel\": True},\n",
    "    {\"id\": 102, \"pagamento_aprovado\": True, \"estoque_disponivel\": False},\n",
    "    {\"id\": 103, \"pagamento_aprovado\": False, \"estoque_disponivel\": True},\n",
    "    {\"id\": 104, \"pagamento_aprovado\": True, \"estoque_disponivel\": True},\n",
    "    {\"id\": 105, \"pagamento_aprovado\": False, \"estoque_disponivel\": False},\n",
    "]\n",
    "\n",
    "async def verificar_pagamento(pedido):\n",
    "    await asyncio.sleep(1)\n",
    "    if pedido[\"pagamento_aprovado\"]:\n",
    "        print(f\"Pagamento aprovado para pedido #{pedido['id']}.\")\n",
    "        return True\n",
    "    else:\n",
    "        print(f\"Pagamento recusado para pedido #{pedido['id']}. ** Pedido cancelado.\")\n",
    "        return False\n",
    "\n",
    "async def verificar_estoque(pedido):\n",
    "    await asyncio.sleep(1)\n",
    "    if pedido[\"estoque_disponivel\"]:\n",
    "        print(f\"Estoque disponível para pedido #{pedido['id']}.\")\n",
    "        return True\n",
    "    else:\n",
    "        print(f\"Estoque indisponível para pedido #{pedido['id']}. ** Pedido cancelado.\")\n",
    "        return False\n",
    "\n",
    "async def processar_pedido(pedido):\n",
    "    print(f\"Processando pedido #{pedido['id']}...\")\n",
    "    \n",
    "    pagamento_ok = await verificar_pagamento(pedido)\n",
    "    if not pagamento_ok:\n",
    "        return\n",
    "    estoque_ok = await verificar_estoque(pedido)\n",
    "    if not estoque_ok:\n",
    "        return\n",
    "    print(f\"**Pedido #{pedido['id']} confirmado! Enviado para entrega.**\")\n",
    "\n",
    "async def main():\n",
    "    tasks = [asyncio.create_task(processar_pedido(pedido)) for pedido in pedidos]\n",
    "    await asyncio.gather(*tasks)\n",
    "    print(\"\\nTodos os pedidos foram processados!\\n\")\n",
    "\n",
    "await main() # asyncio.run(main()) in regular python"
   ]
  },
  {
   "cell_type": "markdown",
   "id": "17ff6c10",
   "metadata": {},
   "source": [
    "### Ex 06"
   ]
  },
  {
   "cell_type": "code",
   "execution_count": null,
   "id": "8cd6fdff",
   "metadata": {},
   "outputs": [
    {
     "name": "stdout",
     "output_type": "stream",
     "text": [
      "Enrolling students...\n",
      "\n",
      "Enrollin Alice into Avanced Python...\n",
      "Alice enrolled into course: Avanced Python\n",
      "\n",
      "Enrollin Bruno into Avanced Python...\n",
      "Bruno enrolled into course: Avanced Python\n",
      "\n",
      "Enrollin Carlos into Java for Beginners...\n",
      "Carlos enrolled into course: Java for Beginners\n",
      "\n",
      "Enrollin Daniela into Machine Learning...\n",
      "Daniela couldn't enroll as there are no more spots available in course: Machine Learning\n",
      "\n",
      "Enrollin Alice into Avanced Python...\n",
      "Student Alice is already enrolled in Avanced Python\n",
      "\n",
      "All enrollment requests processed.\n",
      "\n",
      "List of courses and the students enrolled to them:\n",
      "Avanced Python: Alice, Bruno\n",
      "Java for Beginners: Carlos\n",
      "Machine Learning: \n"
     ]
    }
   ],
   "source": [
    "courses = {\n",
    "    \"Avanced Python\": {\"spots\": 3, \"enrolled\": []},\n",
    "    \"Java for Beginners\": {\"spots\": 1, \"enrolled\": []},\n",
    "    \"Machine Learning\": {\"spots\": 0, \"enrolled\": []},\n",
    "}\n",
    " \n",
    "students = [\n",
    "    {\"name\": \"Alice\", \"course\": \"Avanced Python\"},\n",
    "    {\"name\": \"Bruno\", \"course\": \"Avanced Python\"},\n",
    "    {\"name\": \"Carlos\", \"course\": \"Java for Beginners\"},\n",
    "    {\"name\": \"Daniela\", \"course\": \"Machine Learning\"},\n",
    "    {\"name\": \"Alice\", \"course\": \"Avanced Python\"},  # Tentativa de inscrição duplicada\n",
    "]\n",
    "\n",
    "async def enrollment(student):\n",
    "    print(f\"Enrollin {student['name']} into {student['course']}...\")\n",
    "    if student['course'] in courses:\n",
    "        if not student['name'] in (courses[student['course']]['enrolled']):\n",
    "            if ((courses[student['course']]['spots']) - len((courses[student['course']]['enrolled'])) > 0):\n",
    "                courses[student['course']]['enrolled'].append(student['name'])\n",
    "                print(f\"{student['name']} enrolled into course: {student['course']}\\n\")\n",
    "            else:\n",
    "                print(f\"{student['name']} couldn't enroll as there are no more spots available in course: {student['course']}\\n\")\n",
    "        else:\n",
    "            print(f\"Student {student['name']} is already enrolled in {student['course']}\\n\")\n",
    "    else:\n",
    "        print(\"Course requested to enroll not found.\\n\")\n",
    "        \n",
    "# Extra fucntion: \n",
    "async def print_enrolled_list(dic):\n",
    "    print(\"List of courses and the students enrolled to them:\")\n",
    "    courses_list = list(dic.keys())\n",
    "    for n in range(len(courses)):\n",
    "        print(f\"{courses_list[n]}: {', '.join(dic[courses_list[n]]['enrolled'])}\")\n",
    "\n",
    "async def main():\n",
    "    print(\"Enrolling students...\\n\")\n",
    "    tasks = [asyncio.create_task(enrollment(student)) for student in students]\n",
    "    await asyncio.gather(*tasks)\n",
    "    print(\"All enrollment requests processed.\\n\")\n",
    "    await print_enrolled_list(courses)\n",
    "    \n",
    "await main() # asyncio.run(main()) in regular python"
   ]
  },
  {
   "cell_type": "markdown",
   "id": "b807ce6e",
   "metadata": {},
   "source": [
    "My code does not reduce the amount of spots as each student is enrolled, making it easier to control and visualize the total amount of students per course\n",
    "\n",
    "The solution provided does:\n",
    "#### Solution provided"
   ]
  },
  {
   "cell_type": "code",
   "execution_count": 56,
   "id": "304661a3",
   "metadata": {},
   "outputs": [
    {
     "name": "stdout",
     "output_type": "stream",
     "text": [
      "Inscrevendo Alice no curso Python Avançado...\n",
      "Inscrição confirmada para Alice no curso Python Avançado!\n",
      "\n",
      "Inscrevendo Bruno no curso Python Avançado...\n",
      "Inscrição confirmada para Bruno no curso Python Avançado!\n",
      "\n",
      "Inscrevendo Carlos no curso Java para Iniciantes...\n",
      "Inscrição confirmada para Carlos no curso Java para Iniciantes!\n",
      "\n",
      "Inscrevendo Daniela no curso Machine Learning...\n",
      "Turma lotada! Daniela não pôde se inscrever no curso Machine Learning.\n",
      "\n",
      "Inscrevendo Alice no curso Python Avançado...\n",
      "Alice já está inscrito no curso Python Avançado! Inscrição rejeitada.\n",
      "\n",
      "Todas as inscrições foram processadas!\n",
      "\n"
     ]
    }
   ],
   "source": [
    "import asyncio\n",
    "\n",
    "cursos = {\n",
    "    \"Python Avançado\": {\"vagas\": 2, \"inscritos\": []},\n",
    "    \"Java para Iniciantes\": {\"vagas\": 1, \"inscritos\": []},\n",
    "    \"Machine Learning\": {\"vagas\": 0, \"inscritos\": []},\n",
    "}\n",
    "\n",
    "alunos = [\n",
    "    {\"nome\": \"Alice\", \"curso\": \"Python Avançado\"},\n",
    "    {\"nome\": \"Bruno\", \"curso\": \"Python Avançado\"},\n",
    "    {\"nome\": \"Carlos\", \"curso\": \"Java para Iniciantes\"},\n",
    "    {\"nome\": \"Daniela\", \"curso\": \"Machine Learning\"},\n",
    "    {\"nome\": \"Alice\", \"curso\": \"Python Avançado\"},\n",
    "]\n",
    "\n",
    "async def inscrever_aluno(aluno):\n",
    "    curso_nome = aluno[\"curso\"]\n",
    "    nome_aluno = aluno[\"nome\"]\n",
    "    \n",
    "    print(f\"Inscrevendo {nome_aluno} no curso {curso_nome}...\")\n",
    "\n",
    "    if curso_nome not in cursos:\n",
    "        print(f\"Erro! O curso {curso_nome} não existe.\\n\")\n",
    "        return\n",
    "\n",
    "    curso = cursos[curso_nome]\n",
    "\n",
    "    if nome_aluno in curso[\"inscritos\"]:\n",
    "        print(f\"{nome_aluno} já está inscrito no curso {curso_nome}! Inscrição rejeitada.\\n\")\n",
    "        return\n",
    "\n",
    "    if curso[\"vagas\"] > 0:\n",
    "        curso[\"inscritos\"].append(nome_aluno)\n",
    "        curso[\"vagas\"] -= 1\n",
    "        print(f\"Inscrição confirmada para {nome_aluno} no curso {curso_nome}!\\n\")\n",
    "    else:\n",
    "        print(f\"Turma lotada! {nome_aluno} não pôde se inscrever no curso {curso_nome}.\\n\")\n",
    "\n",
    "async def main():\n",
    "    tarefas = [asyncio.create_task(inscrever_aluno(a)) for a in alunos]\n",
    "    await asyncio.gather(*tarefas)\n",
    "    print(\"Todas as inscrições foram processadas!\\n\")\n",
    "\n",
    "await main() # asyncio.run(main()) in regular python"
   ]
  },
  {
   "cell_type": "markdown",
   "id": "915f21b0",
   "metadata": {},
   "source": [
    "### Ex 07"
   ]
  },
  {
   "cell_type": "code",
   "execution_count": null,
   "id": "d3245a53",
   "metadata": {},
   "outputs": [
    {
     "name": "stdout",
     "output_type": "stream",
     "text": [
      "Startin tasks...\n",
      "\n",
      "Task 1 started...\n",
      "Task 2 started...\n",
      "Task 3 started...\n",
      "Tasks status: In progress, In progress, In progress\n",
      "Tasks status: In progress, In progress, In progress\n",
      "Tasks status: In progress, In progress, In progress\n",
      "Task 1 concluded.\n",
      "Tasks status: Finished, In progress, In progress\n",
      "Tasks status: Finished, In progress, In progress\n",
      "Task 2 concluded.\n",
      "Tasks status: Finished, Finished, In progress\n",
      "Tasks status: Finished, Finished, In progress\n",
      "Task 3 concluded.\n",
      "All tasks concluded.\n"
     ]
    }
   ],
   "source": [
    "tasks = [(\"1\",3), (\"2\",5), (\"3\",7)]\n",
    "status = {}\n",
    "\n",
    "## Prints inserted in the middle for debugging\n",
    "\n",
    "async def start_task(name, time):\n",
    "    print(f\"Task {name} started...\")\n",
    "    status[name] = \"In progress\"\n",
    "    # print(status.values())\n",
    "    await asyncio.sleep(time)\n",
    "    print(f\"Task {name} concluded.\")\n",
    "    status[name] = \"Finished\"\n",
    "    # print(status.values())\n",
    "    \n",
    "    \n",
    "async def check():\n",
    "    # print(\"Check\")\n",
    "    while \"In progress\" in status.values():\n",
    "        print(f\"Tasks status:\", \", \".join(status.values()))\n",
    "        await asyncio.sleep(1)\n",
    "    return\n",
    "    \n",
    "    \n",
    "async def main():\n",
    "    print(\"Startin tasks...\\n\")\n",
    "    process = [asyncio.create_task(start_task(name, time)) for name, time in tasks]\n",
    "    asyncio.gather(*process)\n",
    "    constant_check = asyncio.create_task(check())\n",
    "    await constant_check\n",
    "    print(\"All tasks concluded.\")\n",
    "    \n",
    "\n",
    "await main() # asyncio.run(main()) in regular python"
   ]
  },
  {
   "cell_type": "markdown",
   "id": "b531e8c4",
   "metadata": {},
   "source": [
    "My code is not as concise as the provided solution, but it deals with tasks having specific names"
   ]
  },
  {
   "cell_type": "markdown",
   "id": "a9d3b0e6",
   "metadata": {},
   "source": [
    "Provided Solution"
   ]
  },
  {
   "cell_type": "code",
   "execution_count": 87,
   "id": "06c0337c",
   "metadata": {},
   "outputs": [
    {
     "name": "stdout",
     "output_type": "stream",
     "text": [
      "Status das tarefas: ['Em andamento', 'Em andamento', 'Em andamento']\n",
      "Status das tarefas: ['Em andamento', 'Em andamento', 'Em andamento']\n",
      "Status das tarefas: ['Em andamento', 'Em andamento', 'Em andamento']\n",
      "Tarefa 1 finalizada!\n",
      "Status das tarefas: ['Finalizado', 'Em andamento', 'Em andamento']\n",
      "Status das tarefas: ['Finalizado', 'Em andamento', 'Em andamento']\n",
      "Tarefa 2 finalizada!\n",
      "Status das tarefas: ['Finalizado', 'Finalizado', 'Em andamento']\n",
      "Status das tarefas: ['Finalizado', 'Finalizado', 'Em andamento']\n",
      "Tarefa 3 finalizada!\n"
     ]
    }
   ],
   "source": [
    "import asyncio\n",
    " \n",
    "async def tarefa(numero, tempo):\n",
    "    await asyncio.sleep(tempo)\n",
    "    print(f\"Tarefa {numero} finalizada!\")\n",
    " \n",
    "async def main():\n",
    "    tempos = [3, 5, 7]\n",
    "    tarefas = [asyncio.create_task(tarefa(i+1, tempos[i])) for i in range(3)]\n",
    " \n",
    "    while any(not t.done() for t in tarefas):\n",
    "        status = ['Finalizado' if t.done() else 'Em andamento' for t in tarefas]\n",
    "        print(f\"Status das tarefas: {status}\")\n",
    "        await asyncio.sleep(1) \n",
    " \n",
    "    await asyncio.gather(*tarefas)\n",
    " \n",
    "await main() # asyncio.run(main()) in regular python"
   ]
  },
  {
   "cell_type": "markdown",
   "id": "8dfba21c",
   "metadata": {},
   "source": [
    "Merging Codes, mine and solution"
   ]
  },
  {
   "cell_type": "code",
   "execution_count": 97,
   "id": "cd20c6ba",
   "metadata": {},
   "outputs": [
    {
     "name": "stdout",
     "output_type": "stream",
     "text": [
      "Startin tasks...\n",
      "Task status: ['In progress...', 'In progress...', 'In progress...']\n",
      "Task status: ['In progress...', 'In progress...', 'In progress...']\n",
      "Task status: ['In progress...', 'In progress...', 'In progress...']\n",
      "Task 1 concluded.\n",
      "Task status: ['Finished.', 'In progress...', 'In progress...']\n",
      "Task status: ['Finished.', 'In progress...', 'In progress...']\n",
      "Task 2 concluded.\n",
      "Task status: ['Finished.', 'Finished.', 'In progress...']\n",
      "Task status: ['Finished.', 'Finished.', 'In progress...']\n",
      "Task 3 concluded.\n",
      "All tasks concluded.\n"
     ]
    }
   ],
   "source": [
    "async def start_task(num, time):\n",
    "    await asyncio.sleep(time)\n",
    "    print(f\"Task {num} concluded.\")\n",
    "    \n",
    "async def main():\n",
    "    print(\"Startin tasks...\")\n",
    "    \n",
    "    task_times = [ 3, 5, 7]\n",
    "    tasks = [asyncio.create_task(start_task(n+1, task_times[n])) for n in range(len(task_times))]\n",
    "        \n",
    "    while any(not task.done() for task in tasks):\n",
    "        status = [\"Finished.\" if task.done() else \"In progress...\" for task in tasks]\n",
    "        print(f\"Task status: {status}\")\n",
    "        await asyncio.sleep(1)\n",
    "            \n",
    "    await asyncio.gather(*tasks)\n",
    "    print(\"All tasks concluded.\")\n",
    "\n",
    "await main() # asyncio.run(main()) in regular python"
   ]
  },
  {
   "cell_type": "markdown",
   "id": "b4369365",
   "metadata": {},
   "source": [
    "### Ex 08"
   ]
  },
  {
   "cell_type": "code",
   "execution_count": 5,
   "id": "00989ec1",
   "metadata": {},
   "outputs": [
    {
     "name": "stdout",
     "output_type": "stream",
     "text": [
      "[2s] Temperature: 25.0 C\n",
      "[3s] Humidity: 48%\n",
      "[2s] Temperature: 27.0 C\n",
      "[5s] Air quality: Regular\n",
      "[3s] Humidity: 46%\n",
      "[2s] Temperature: 27.0 C\n",
      "[2s] Temperature: 27.0 C\n",
      "[3s] Humidity: 45%\n",
      "[5s] Air quality: Bad\n"
     ]
    },
    {
     "ename": "CancelledError",
     "evalue": "",
     "output_type": "error",
     "traceback": [
      "\u001b[31m---------------------------------------------------------------------------\u001b[39m",
      "\u001b[31mCancelledError\u001b[39m                            Traceback (most recent call last)",
      "\u001b[36mCell\u001b[39m\u001b[36m \u001b[39m\u001b[32mIn[5]\u001b[39m\u001b[32m, line 28\u001b[39m\n\u001b[32m     25\u001b[39m     tasks = [asyncio.create_task(temp()), asyncio.create_task(humi()), asyncio.create_task(air())]\n\u001b[32m     26\u001b[39m     \u001b[38;5;28;01mawait\u001b[39;00m asyncio.gather(*tasks)\n\u001b[32m---> \u001b[39m\u001b[32m28\u001b[39m \u001b[38;5;28;01mawait\u001b[39;00m main()\n",
      "\u001b[36mCell\u001b[39m\u001b[36m \u001b[39m\u001b[32mIn[5]\u001b[39m\u001b[32m, line 26\u001b[39m, in \u001b[36mmain\u001b[39m\u001b[34m()\u001b[39m\n\u001b[32m     24\u001b[39m \u001b[38;5;28;01masync\u001b[39;00m \u001b[38;5;28;01mdef\u001b[39;00m\u001b[38;5;250m \u001b[39m\u001b[34mmain\u001b[39m():\n\u001b[32m     25\u001b[39m     tasks = [asyncio.create_task(temp()), asyncio.create_task(humi()), asyncio.create_task(air())]\n\u001b[32m---> \u001b[39m\u001b[32m26\u001b[39m     \u001b[38;5;28;01mawait\u001b[39;00m asyncio.gather(*tasks)\n",
      "\u001b[36mCell\u001b[39m\u001b[36m \u001b[39m\u001b[32mIn[5]\u001b[39m\u001b[32m, line 6\u001b[39m, in \u001b[36mtemp\u001b[39m\u001b[34m()\u001b[39m\n\u001b[32m      4\u001b[39m \u001b[38;5;28;01masync\u001b[39;00m \u001b[38;5;28;01mdef\u001b[39;00m\u001b[38;5;250m \u001b[39m\u001b[34mtemp\u001b[39m():\n\u001b[32m      5\u001b[39m     \u001b[38;5;28;01mwhile\u001b[39;00m \u001b[38;5;28;01mTrue\u001b[39;00m:\n\u001b[32m----> \u001b[39m\u001b[32m6\u001b[39m         \u001b[38;5;28;01mawait\u001b[39;00m asyncio.sleep(\u001b[32m2\u001b[39m)\n\u001b[32m      7\u001b[39m         t = random.randrange(\u001b[32m25\u001b[39m, \u001b[32m28\u001b[39m)\n\u001b[32m      8\u001b[39m         \u001b[38;5;28mprint\u001b[39m(\u001b[33mf\u001b[39m\u001b[33m\"\u001b[39m\u001b[33m[\u001b[39m\u001b[38;5;132;01m{\u001b[39;00m\u001b[32m2\u001b[39m\u001b[38;5;132;01m}\u001b[39;00m\u001b[33ms] Temperature: \u001b[39m\u001b[38;5;132;01m{\u001b[39;00mt\u001b[38;5;132;01m:\u001b[39;00m\u001b[33m.1f\u001b[39m\u001b[38;5;132;01m}\u001b[39;00m\u001b[33m C\u001b[39m\u001b[33m\"\u001b[39m)\n",
      "\u001b[36mFile \u001b[39m\u001b[32mc:\\Users\\gui08\\AppData\\Local\\Programs\\Python\\Python311\\Lib\\asyncio\\tasks.py:639\u001b[39m, in \u001b[36msleep\u001b[39m\u001b[34m(delay, result)\u001b[39m\n\u001b[32m    635\u001b[39m h = loop.call_later(delay,\n\u001b[32m    636\u001b[39m                     futures._set_result_unless_cancelled,\n\u001b[32m    637\u001b[39m                     future, result)\n\u001b[32m    638\u001b[39m \u001b[38;5;28;01mtry\u001b[39;00m:\n\u001b[32m--> \u001b[39m\u001b[32m639\u001b[39m     \u001b[38;5;28;01mreturn\u001b[39;00m \u001b[38;5;28;01mawait\u001b[39;00m future\n\u001b[32m    640\u001b[39m \u001b[38;5;28;01mfinally\u001b[39;00m:\n\u001b[32m    641\u001b[39m     h.cancel()\n",
      "\u001b[31mCancelledError\u001b[39m: "
     ]
    }
   ],
   "source": [
    "import random\n",
    "import asyncio\n",
    "\n",
    "async def temp():\n",
    "    while True:\n",
    "        await asyncio.sleep(2)\n",
    "        t = random.randrange(25, 28)\n",
    "        print(f\"[{2}s] Temperature: {t:.1f} C\")\n",
    "    \n",
    "    \n",
    "async def humi():\n",
    "    while True:\n",
    "        await asyncio.sleep(3)\n",
    "        h = random.randint(45, 68)\n",
    "        print(f\"[{3}s] Humidity: {h}%\")\n",
    "    \n",
    "async def air():\n",
    "    while True:\n",
    "        await asyncio.sleep(5)\n",
    "        a = random.choice([\"Good\", \"Regular\",\"Bad\"])\n",
    "        print(f\"[{5}s] Air quality: {a}\")\n",
    "        \n",
    "    \n",
    "async def main():\n",
    "    tasks = [asyncio.create_task(temp()), asyncio.create_task(humi()), asyncio.create_task(air())]\n",
    "    await asyncio.gather(*tasks)\n",
    "\n",
    "await main()\n"
   ]
  }
 ],
 "metadata": {
  "kernelspec": {
   "display_name": "Python 3",
   "language": "python",
   "name": "python3"
  },
  "language_info": {
   "codemirror_mode": {
    "name": "ipython",
    "version": 3
   },
   "file_extension": ".py",
   "mimetype": "text/x-python",
   "name": "python",
   "nbconvert_exporter": "python",
   "pygments_lexer": "ipython3",
   "version": "3.11.4"
  }
 },
 "nbformat": 4,
 "nbformat_minor": 5
}
