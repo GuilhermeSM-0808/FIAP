{
 "cells": [
  {
   "cell_type": "markdown",
   "id": "ea33192b",
   "metadata": {},
   "source": [
    "## Warmup Exercises"
   ]
  },
  {
   "cell_type": "markdown",
   "id": "b7b0781f",
   "metadata": {},
   "source": [
    "### Ex 01"
   ]
  },
  {
   "cell_type": "code",
   "execution_count": 1,
   "id": "0f223709",
   "metadata": {},
   "outputs": [
    {
     "name": "stdout",
     "output_type": "stream",
     "text": [
      "The list has 17 numbers, where the maximum is 99, the minimum is 11, and the sum of all numbers is 743.\n"
     ]
    }
   ],
   "source": [
    "numbers = [16, 14, 63, 65, 17, 99, 70, 11, 20, 48, 79, 32, 17, 89, 12, 25, 66]\n",
    "\n",
    "length = len(numbers)\n",
    "maximum = max(numbers)\n",
    "minimum = min(numbers)\n",
    "total = sum(numbers)\n",
    "\n",
    "print(f\"The list has {length} numbers, where the maximum is {maximum}, the minimum is {minimum}, and the sum of all numbers is {total}.\")"
   ]
  },
  {
   "cell_type": "markdown",
   "id": "6a741979",
   "metadata": {},
   "source": [
    "### Ex 02"
   ]
  },
  {
   "cell_type": "code",
   "execution_count": 5,
   "id": "138dd6da",
   "metadata": {},
   "outputs": [
    {
     "name": "stdout",
     "output_type": "stream",
     "text": [
      "Multiplication table for 7:\n",
      "7 x 0 = 0\n",
      "7 x 1 = 7\n",
      "7 x 2 = 14\n",
      "7 x 3 = 21\n",
      "7 x 4 = 28\n",
      "7 x 5 = 35\n",
      "7 x 6 = 42\n",
      "7 x 7 = 49\n",
      "7 x 8 = 56\n",
      "7 x 9 = 63\n",
      "7 x 10 = 70\n"
     ]
    }
   ],
   "source": [
    "number = int(input(\"Please enter a number: \"))\n",
    "\n",
    "print(f\"Multiplication table for {number}:\")\n",
    "for i in  range(0, 11):\n",
    "    print(f\"{number} x {i} = {number * i}\")"
   ]
  },
  {
   "cell_type": "markdown",
   "id": "e47485b6",
   "metadata": {},
   "source": [
    "### Ex 03"
   ]
  },
  {
   "cell_type": "code",
   "execution_count": 6,
   "id": "8457f085",
   "metadata": {},
   "outputs": [
    {
     "name": "stdout",
     "output_type": "stream",
     "text": [
      "Numbers divisible by 3: [24, 99]\n"
     ]
    }
   ],
   "source": [
    "given_numbers = [97, 80, 94, 88, 80, 1, 16, 53, 62, 32, 24, 99]\n",
    "\n",
    "def mult_by_3(numbers):\n",
    "    return [number for number in given_numbers if number % 3 == 0]\n",
    "\n",
    "new_numbers = mult_by_3(given_numbers)\n",
    "print(f\"Numbers divisible by 3: {new_numbers}\")"
   ]
  },
  {
   "cell_type": "markdown",
   "id": "2f004809",
   "metadata": {},
   "source": [
    "### Ex 04"
   ]
  },
  {
   "cell_type": "code",
   "execution_count": 7,
   "id": "56ec1646",
   "metadata": {},
   "outputs": [
    {
     "name": "stdout",
     "output_type": "stream",
     "text": [
      "Squared numbers: [1, 4, 9, 16, 25, 36, 49, 64, 81, 100]\n"
     ]
    }
   ],
   "source": [
    "sequence_numbers = [1, 2, 3, 4, 5, 6, 7, 8, 9, 10]\n",
    "\n",
    "squared_numbers = list(map(lambda x: x ** 2, sequence_numbers))\n",
    "print(f\"Squared numbers: {squared_numbers}\")"
   ]
  },
  {
   "cell_type": "markdown",
   "id": "02ecc203",
   "metadata": {},
   "source": [
    "## Applying knowledge to projects"
   ]
  },
  {
   "cell_type": "markdown",
   "id": "3bcc9b0f",
   "metadata": {},
   "source": [
    "### Ex 05"
   ]
  },
  {
   "cell_type": "code",
   "execution_count": 4,
   "id": "be7acdb4",
   "metadata": {},
   "outputs": [
    {
     "name": "stdout",
     "output_type": "stream",
     "text": [
      "Trick average score: 6.47\n"
     ]
    }
   ],
   "source": [
    "scores = []\n",
    "\n",
    "for s in range(1,6):\n",
    "    score = float(input(f\"Insert the Score N{s}: \"))\n",
    "    scores.append(score)\n",
    "    \n",
    "scores.remove(max(scores))\n",
    "scores.remove(min(scores))\n",
    "\n",
    "avg_score = sum(scores) / len(scores)\n",
    "print(f\"Trick average score: {avg_score:.2f}\")"
   ]
  },
  {
   "cell_type": "markdown",
   "id": "04884ec6",
   "metadata": {},
   "source": [
    "### Ex 06"
   ]
  },
  {
   "cell_type": "code",
   "execution_count": 9,
   "id": "1c887f70",
   "metadata": {},
   "outputs": [
    {
     "name": "stdout",
     "output_type": "stream",
     "text": [
      "The student's average is 7.20, their highest grade was 9.1 while their lowest was 4.3. And so they: Passed.\n"
     ]
    }
   ],
   "source": [
    "grades = [8.2,4.3,7.2,9.1]\n",
    "\n",
    "def student_grades(grade_list):\n",
    "    highest_grade = max(grade_list)\n",
    "    lowest_grade = min(grade_list)\n",
    "    avg_grade = sum(grade_list) / len(grade_list)\n",
    "    if avg_grade >= 6:\n",
    "        status = \"Passed.\"\n",
    "    else:\n",
    "        status = \"Failed.\"\n",
    "    print(f\"The student's average is {avg_grade:.2f}, their highest grade was {highest_grade} while their lowest was {lowest_grade}. And so they: {status}\")\n",
    "    \n",
    "student_grades(grades)"
   ]
  },
  {
   "cell_type": "markdown",
   "id": "55feda13",
   "metadata": {},
   "source": [
    "### Ex 07"
   ]
  },
  {
   "cell_type": "code",
   "execution_count": 14,
   "id": "69a089fb",
   "metadata": {},
   "outputs": [
    {
     "name": "stdout",
     "output_type": "stream",
     "text": [
      "Full name: Foo Foobar\n",
      "Full name: Bar Baz\n",
      "Full name: Qux Quux\n"
     ]
    }
   ],
   "source": [
    "first_names = [\"Foo\", \"Bar\", \"Qux\"]\n",
    "last_names = [\"Foobar\", \"Baz\", \"Quux\"]\n",
    "\n",
    "full_names = list(map(lambda x, y: x + \" \"+ y, first_names, last_names))\n",
    "for names in full_names:\n",
    "    print(f\"Full name: {names}\")\n",
    "\n"
   ]
  },
  {
   "cell_type": "markdown",
   "id": "ebfaa035",
   "metadata": {},
   "source": [
    "### Ex 08"
   ]
  },
  {
   "cell_type": "code",
   "execution_count": 5,
   "id": "462ad4a5",
   "metadata": {},
   "outputs": [
    {
     "name": "stdout",
     "output_type": "stream",
     "text": [
      "The teams total score is 7, they scored 46.67% of the maximum score possible.\n"
     ]
    }
   ],
   "source": [
    "goals_scored = [2, 1, 3, 1, 0]\n",
    "goals_taken = [1, 2, 2, 1, 3]\n",
    "total_score = 0\n",
    "\n",
    "\n",
    "def game_results(scored,taken,score):\n",
    "    if len(scored) == len(taken):\n",
    "        for points in range(len(scored)):\n",
    "            if scored[points] > taken[points]:\n",
    "                score += 3\n",
    "            elif scored[points] == taken[points]:\n",
    "                score += 1\n",
    "        rate = (score / (len(scored) * 3)) * 100\n",
    "        return rate, score\n",
    "    else:\n",
    "        return TypeError\n",
    "    \n",
    "try:\n",
    "    rate, total_score = game_results(goals_scored, goals_taken, total_score)\n",
    "    print(f\"The teams total score is {total_score}, they scored {rate:.2f}% of the maximum score possible.\")\n",
    "except TypeError:\n",
    "    print(\"ERROR!! Score lists of diferent lengths inserted!\")\n",
    "    "
   ]
  },
  {
   "cell_type": "markdown",
   "id": "18d80139",
   "metadata": {},
   "source": [
    "### Ex 09"
   ]
  },
  {
   "cell_type": "code",
   "execution_count": 14,
   "id": "9605e290",
   "metadata": {},
   "outputs": [
    {
     "name": "stdout",
     "output_type": "stream",
     "text": [
      "To spend 3 days in Salvador:\n",
      "Hotel will cost: $450\n",
      "Gas consumption for a round-trip will cost: $607.14\n",
      "Daily food and entertainmente will cost: $600\n",
      "The total cost of the trip would be: $1657.14\n",
      "\n",
      "To spend 3 days in Fortaleza:\n",
      "Hotel will cost: $450\n",
      "Gas consumption for a round-trip will cost: $571.43\n",
      "Daily food and entertainmente will cost: $1200\n",
      "The total cost of the trip would be: $2221.43\n",
      "\n",
      "To spend 3 days in Natal:\n",
      "Hotel will cost: $450\n",
      "Gas consumption for a round-trip will cost: $214.29\n",
      "Daily food and entertainmente will cost: $750\n",
      "The total cost of the trip would be: $1414.29\n",
      "\n",
      "To spend 3 days in Aracaju:\n",
      "Hotel will cost: $450\n",
      "Gas consumption for a round-trip will cost: $392.86\n",
      "Daily food and entertainmente will cost: $900\n",
      "The total cost of the trip would be: $1742.86\n",
      "\n"
     ]
    }
   ],
   "source": [
    "destinations = [\"Salvador\",\"Fortaleza\",\"Natal\",\"Aracaju\"]\n",
    "hotel_stay = 150 #$ in all cities\n",
    "gas_efficiency = 14 #km per liter\n",
    "gas_price = 5 #$ per litter\n",
    "daily_cost = [200, 400, 250, 300]\n",
    "distance = [850, 800, 300, 550]\n",
    "\n",
    "\n",
    "def hotelCost(days):\n",
    "    cost = hotel_stay * days\n",
    "    return cost\n",
    "\n",
    "def gasConsumption(distance, efficiency, price):\n",
    "    total = (distance / efficiency) * price * 2\n",
    "    return total\n",
    "\n",
    "def dayConsumption(cost, days):\n",
    "    total = cost * days\n",
    "    return total\n",
    "\n",
    "amount_days = int(input(\"Insert the amount of days you would like to stay: \"))\n",
    "\n",
    "for i in range(len(destinations)):\n",
    "    print(f\"To spend {amount_days} days in {destinations[i]}:\")\n",
    "    days = hotelCost(amount_days)\n",
    "    print(f\"Hotel will cost: ${days}\")\n",
    "    gas = gasConsumption(distance[i], gas_efficiency, gas_price)\n",
    "    print(f\"Gas consumption for a round-trip will cost: ${gas:.2f}\")\n",
    "    daily = dayConsumption(daily_cost[i], amount_days)\n",
    "    print(f\"Daily food and entertainmente will cost: ${daily}\")\n",
    "    grand_total = days + gas + daily\n",
    "    print(f\"The total cost of the trip would be: ${grand_total:.2f}\\n\")    "
   ]
  },
  {
   "cell_type": "markdown",
   "id": "dc642602",
   "metadata": {},
   "source": [
    "### Ex 10"
   ]
  },
  {
   "cell_type": "code",
   "execution_count": 23,
   "id": "5e3dca64",
   "metadata": {},
   "outputs": [
    {
     "name": "stdout",
     "output_type": "stream",
     "text": [
      "Long words the user inputted: Aprender, Python, Alura, muito\n"
     ]
    }
   ],
   "source": [
    "user_input = str(input(\"Insert your comment: \"))\n",
    "\n",
    "user_input = user_input.replace(\",\", \" \").replace(\".\", \" \").replace(\"!\",\" \").replace(\"?\",\" \").split()\n",
    "long_words = filter(lambda x: len(x) >= 5, user_input)\n",
    "print(f\"Long words the user inputted: \" + \", \".join(long_words))"
   ]
  }
 ],
 "metadata": {
  "kernelspec": {
   "display_name": "Python 3",
   "language": "python",
   "name": "python3"
  },
  "language_info": {
   "codemirror_mode": {
    "name": "ipython",
    "version": 3
   },
   "file_extension": ".py",
   "mimetype": "text/x-python",
   "name": "python",
   "nbconvert_exporter": "python",
   "pygments_lexer": "ipython3",
   "version": "3.11.4"
  }
 },
 "nbformat": 4,
 "nbformat_minor": 5
}
