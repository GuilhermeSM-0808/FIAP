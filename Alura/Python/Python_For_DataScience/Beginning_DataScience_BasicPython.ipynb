{
 "cells": [
  {
   "cell_type": "markdown",
   "id": "1dfa79ed",
   "metadata": {},
   "source": [
    "# chr() e ord() funcitons\n",
    "Usar o Unicode (ASCII) https://en.wikipedia.org/wiki/List_of_Unicode_characters#:~:text=U%2B0040-,%40,-64"
   ]
  },
  {
   "cell_type": "markdown",
   "id": "bdd6c7f1",
   "metadata": {},
   "source": [
    "encryption for fun"
   ]
  },
  {
   "cell_type": "code",
   "execution_count": 24,
   "id": "53d7013f",
   "metadata": {},
   "outputs": [
    {
     "name": "stdout",
     "output_type": "stream",
     "text": [
      "ÒîÖÜÔÎèÞÎ\n"
     ]
    }
   ],
   "source": [
    "nome = 'guilherme'\n",
    "nome = list(nome)\n",
    "\n",
    "for n in range(len(nome)):\n",
    "    a = (ord(nome[n]) + 2) * 2\n",
    "    nome[n] = chr(a)\n",
    "    \n",
    "nome = str(\"\".join(nome))\n",
    "\n",
    "print(nome)  "
   ]
  },
  {
   "cell_type": "code",
   "execution_count": 47,
   "id": "1c76db37",
   "metadata": {},
   "outputs": [
    {
     "name": "stdout",
     "output_type": "stream",
     "text": [
      "Help on built-in function chr in module builtins:\n",
      "\n",
      "chr(i, /)\n",
      "    Return a Unicode string of one character with ordinal i; 0 <= i <= 0x10ffff.\n",
      "\n"
     ]
    }
   ],
   "source": [
    "help(chr)"
   ]
  },
  {
   "cell_type": "code",
   "execution_count": 48,
   "id": "cf25fc80",
   "metadata": {},
   "outputs": [
    {
     "name": "stdout",
     "output_type": "stream",
     "text": [
      "Help on built-in function ord in module builtins:\n",
      "\n",
      "ord(c, /)\n",
      "    Return the Unicode code point for a one-character string.\n",
      "\n"
     ]
    }
   ],
   "source": [
    "help(ord)"
   ]
  },
  {
   "cell_type": "code",
   "execution_count": 54,
   "id": "61597742",
   "metadata": {},
   "outputs": [
    {
     "data": {
      "text/plain": [
       "'206'"
      ]
     },
     "execution_count": 54,
     "metadata": {},
     "output_type": "execute_result"
    }
   ],
   "source": [
    "ascii(a)"
   ]
  },
  {
   "cell_type": "code",
   "execution_count": 61,
   "id": "7fba9570",
   "metadata": {},
   "outputs": [
    {
     "data": {
      "text/plain": [
       "'206'"
      ]
     },
     "execution_count": 61,
     "metadata": {},
     "output_type": "execute_result"
    }
   ],
   "source": [
    "repr(a)"
   ]
  },
  {
   "cell_type": "code",
   "execution_count": 62,
   "id": "fb84c2cb",
   "metadata": {},
   "outputs": [
    {
     "data": {
      "text/plain": [
       "['__add__',\n",
       " '__class__',\n",
       " '__class_getitem__',\n",
       " '__contains__',\n",
       " '__delattr__',\n",
       " '__delitem__',\n",
       " '__dir__',\n",
       " '__doc__',\n",
       " '__eq__',\n",
       " '__format__',\n",
       " '__ge__',\n",
       " '__getattribute__',\n",
       " '__getitem__',\n",
       " '__getstate__',\n",
       " '__gt__',\n",
       " '__hash__',\n",
       " '__iadd__',\n",
       " '__imul__',\n",
       " '__init__',\n",
       " '__init_subclass__',\n",
       " '__iter__',\n",
       " '__le__',\n",
       " '__len__',\n",
       " '__lt__',\n",
       " '__mul__',\n",
       " '__ne__',\n",
       " '__new__',\n",
       " '__reduce__',\n",
       " '__reduce_ex__',\n",
       " '__repr__',\n",
       " '__reversed__',\n",
       " '__rmul__',\n",
       " '__setattr__',\n",
       " '__setitem__',\n",
       " '__sizeof__',\n",
       " '__str__',\n",
       " '__subclasshook__',\n",
       " 'append',\n",
       " 'clear',\n",
       " 'copy',\n",
       " 'count',\n",
       " 'extend',\n",
       " 'index',\n",
       " 'insert',\n",
       " 'pop',\n",
       " 'remove',\n",
       " 'reverse',\n",
       " 'sort']"
      ]
     },
     "execution_count": 62,
     "metadata": {},
     "output_type": "execute_result"
    }
   ],
   "source": [
    "list = [1,2,3]\n",
    "dir(list)"
   ]
  },
  {
   "cell_type": "markdown",
   "id": "3d2a7e67",
   "metadata": {},
   "source": [
    "## Metodos alternativos de inserir informacoes em prints/strings"
   ]
  },
  {
   "cell_type": "code",
   "execution_count": 26,
   "id": "2ddf632d",
   "metadata": {},
   "outputs": [
    {
     "name": "stdout",
     "output_type": "stream",
     "text": [
      "Nome do aluno: Guilherme Macedo\n"
     ]
    }
   ],
   "source": [
    "nome_aluno = 'Guilherme Macedo'\n",
    "\n",
    "print('Nome do aluno: %s' %(nome_aluno))"
   ]
  },
  {
   "cell_type": "code",
   "execution_count": 27,
   "id": "9da8527c",
   "metadata": {},
   "outputs": [
    {
     "name": "stdout",
     "output_type": "stream",
     "text": [
      "Valor de x: True\n"
     ]
    }
   ],
   "source": [
    "x = True\n",
    "print(\"Valor de x: %s\" % str(x))"
   ]
  },
  {
   "cell_type": "code",
   "execution_count": 30,
   "id": "62d5f706",
   "metadata": {},
   "outputs": [
    {
     "name": "stdout",
     "output_type": "stream",
     "text": [
      "Nome do aluno é Guilherme Macedo, ele tem 26 anos e sua média é 9.20.\n"
     ]
    }
   ],
   "source": [
    "idade_aluno = 26\n",
    "media_aluno = 9.2\n",
    "\n",
    "print('Nome do aluno é %s, ele tem %d anos e sua média é %.2f.' %(nome_aluno, idade_aluno, media_aluno))"
   ]
  },
  {
   "cell_type": "code",
   "execution_count": 32,
   "id": "73570bc7",
   "metadata": {},
   "outputs": [
    {
     "name": "stdout",
     "output_type": "stream",
     "text": [
      "Nome do aluno: Guilherme S.M.\n"
     ]
    }
   ],
   "source": [
    "nome_aluno = 'Guilherme S.M.'\n",
    "\n",
    "print('Nome do aluno: {}'.format(nome_aluno))"
   ]
  },
  {
   "cell_type": "code",
   "execution_count": 34,
   "id": "9bb9e6ca",
   "metadata": {},
   "outputs": [
    {
     "name": "stdout",
     "output_type": "stream",
     "text": [
      "Nome do aluno é Guilherme S.M., ele tem 27 anos e sua média é 9.3.\n"
     ]
    }
   ],
   "source": [
    "idade_aluno = 27\n",
    "media_aluno = 9.3\n",
    "\n",
    "print('Nome do aluno é {}, ele tem {} anos e sua média é {}.' .format(nome_aluno, idade_aluno, media_aluno))"
   ]
  },
  {
   "cell_type": "markdown",
   "id": "7b9cb82e",
   "metadata": {},
   "source": [
    "### \\t é o caractere de tabulação usado para adicionar um espaço de tabulação no texto. Exemplo:"
   ]
  },
  {
   "cell_type": "code",
   "execution_count": 35,
   "id": "eddbd4db",
   "metadata": {},
   "outputs": [
    {
     "name": "stdout",
     "output_type": "stream",
     "text": [
      "Quantidade\tQualidade\n",
      "5 amostras\tAlta\n",
      "3 amostras\tBaixa\n"
     ]
    }
   ],
   "source": [
    "print('Quantidade\\tQualidade\\n5 amostras\\tAlta\\n3 amostras\\tBaixa')"
   ]
  },
  {
   "cell_type": "markdown",
   "id": "113c1995",
   "metadata": {},
   "source": [
    "##### \\\\ barra dupla para usar uma unica barra, ja que uma unica barra eh usada para chamar caracters especiasi (exemplos acima: aka \\t)"
   ]
  },
  {
   "cell_type": "code",
   "execution_count": 36,
   "id": "17843d8b",
   "metadata": {},
   "outputs": [
    {
     "name": "stdout",
     "output_type": "stream",
     "text": [
      "Caminho do arquivo: C:\\arquivos\\documento.csv\n"
     ]
    }
   ],
   "source": [
    "print(\"Caminho do arquivo: C:\\\\arquivos\\\\documento.csv\")"
   ]
  },
  {
   "cell_type": "markdown",
   "id": "310d0a6e",
   "metadata": {},
   "source": [
    "\\\\\" aspas duplas"
   ]
  },
  {
   "cell_type": "code",
   "execution_count": 38,
   "id": "d3daab3e",
   "metadata": {},
   "outputs": [
    {
     "name": "stdout",
     "output_type": "stream",
     "text": [
      "Ouvi uma vez \"Os frutos do conhecimento são os mais doces e duradouros de todos.\"\n"
     ]
    }
   ],
   "source": [
    "print(\"Ouvi uma vez \\\"Os frutos do conhecimento são os mais doces e duradouros de todos.\\\"\")"
   ]
  },
  {
   "cell_type": "markdown",
   "id": "b6a8f268",
   "metadata": {},
   "source": [
    "\\\\' aspas simples"
   ]
  },
  {
   "cell_type": "code",
   "execution_count": 39,
   "id": "2ec4ed68",
   "metadata": {},
   "outputs": [
    {
     "name": "stdout",
     "output_type": "stream",
     "text": [
      "Minha professora uma vez disse 'Estudar é a chave do sucesso.' \n"
     ]
    }
   ],
   "source": [
    "print('Minha professora uma vez disse \\'Estudar é a chave do sucesso.\\' ')"
   ]
  },
  {
   "cell_type": "markdown",
   "id": "27845059",
   "metadata": {},
   "source": [
    "## Ex 09 e 10"
   ]
  },
  {
   "cell_type": "code",
   "execution_count": 43,
   "id": "0df61ef0",
   "metadata": {},
   "outputs": [
    {
     "name": "stdout",
     "output_type": "stream",
     "text": [
      "@doro chocol@te e d@nc@r $@mb@\n"
     ]
    }
   ],
   "source": [
    "frase = input(\"Insert a sentence: \").replace('a', '@').replace('s','$')\n",
    "        \n",
    "print(frase)"
   ]
  },
  {
   "cell_type": "markdown",
   "id": "abea0fc1",
   "metadata": {},
   "source": [
    "##### multipla atribuicao de variaveis"
   ]
  },
  {
   "cell_type": "code",
   "execution_count": 46,
   "id": "c1cc3ce9",
   "metadata": {},
   "outputs": [
    {
     "name": "stdout",
     "output_type": "stream",
     "text": [
      "Guilherme\n",
      "Guilherme\n",
      "True True\n"
     ]
    }
   ],
   "source": [
    "nome1 = nome2 = \"Guilherme\"\n",
    "t1 = t2 = True\n",
    "print(nome1)\n",
    "print(nome2)\n",
    "print(t2, t1)"
   ]
  }
 ],
 "metadata": {
  "kernelspec": {
   "display_name": "Python 3",
   "language": "python",
   "name": "python3"
  },
  "language_info": {
   "codemirror_mode": {
    "name": "ipython",
    "version": 3
   },
   "file_extension": ".py",
   "mimetype": "text/x-python",
   "name": "python",
   "nbconvert_exporter": "python",
   "pygments_lexer": "ipython3",
   "version": "3.11.4"
  }
 },
 "nbformat": 4,
 "nbformat_minor": 5
}
