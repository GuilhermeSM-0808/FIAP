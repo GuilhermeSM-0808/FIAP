{
 "cells": [
  {
   "cell_type": "markdown",
   "id": "ed1d2dc2",
   "metadata": {},
   "source": [
    "### Ex 01"
   ]
  },
  {
   "cell_type": "code",
   "execution_count": 2,
   "id": "b82ceeaf",
   "metadata": {},
   "outputs": [
    {
     "name": "stdout",
     "output_type": "stream",
     "text": [
      "sum of [4, 6, 5, 9] = 24\n",
      "sum of [1, 0, 7, 2] = 10\n",
      "sum of [3, 4, 1, 8] = 16\n"
     ]
    }
   ],
   "source": [
    "list_of_lists = [[4,6,5,9], [1,0,7,2], [3,4,1,8]]\n",
    "\n",
    "sum_list = [sum(numbers) for numbers in list_of_lists]\n",
    "\n",
    "for i in range(3):\n",
    "    print(f\"sum of {list_of_lists[i]} = {sum_list[i]}\")"
   ]
  },
  {
   "cell_type": "markdown",
   "id": "3b2ffafc",
   "metadata": {},
   "source": [
    "### Ex 02"
   ]
  },
  {
   "cell_type": "code",
   "execution_count": 6,
   "id": "e7d601d4",
   "metadata": {},
   "outputs": [
    {
     "data": {
      "text/plain": [
       "[81, 67, 83]"
      ]
     },
     "execution_count": 6,
     "metadata": {},
     "output_type": "execute_result"
    }
   ],
   "source": [
    "list_of_tuples = [('Pedro', 1.74, 81), ('Júlia', 1.65, 67), ('Otávio', 1.81, 83)]\n",
    "\n",
    "age = [list_of_tuples[item][2] for item in range(len(list_of_tuples))]\n",
    "age"
   ]
  },
  {
   "cell_type": "markdown",
   "id": "541541a8",
   "metadata": {},
   "source": [
    "### Ex 03"
   ]
  },
  {
   "cell_type": "code",
   "execution_count": 7,
   "id": "5fa6a769",
   "metadata": {},
   "outputs": [
    {
     "data": {
      "text/plain": [
       "[(0, 'Pedro'), (1, 'Júlia'), (2, 'Otávio'), (3, 'Eduardo')]"
      ]
     },
     "execution_count": 7,
     "metadata": {},
     "output_type": "execute_result"
    }
   ],
   "source": [
    "names = ['Pedro', 'Júlia', 'Otávio', 'Eduardo']\n",
    "\n",
    "result = list(zip(range(len(names)),names))\n",
    "result"
   ]
  },
  {
   "cell_type": "markdown",
   "id": "a792b7e1",
   "metadata": {},
   "source": [
    "### Ex 04"
   ]
  },
  {
   "cell_type": "code",
   "execution_count": 8,
   "id": "e2d0a69a",
   "metadata": {},
   "outputs": [
    {
     "data": {
      "text/plain": [
       "[1700, 1400, 1900]"
      ]
     },
     "execution_count": 8,
     "metadata": {},
     "output_type": "execute_result"
    }
   ],
   "source": [
    "aluguel = [('Apartamento', 1700), ('Apartamento', 1400), ('Casa', 2150), ('Apartamento', 1900), ('Casa', 1100)]\n",
    "\n",
    "custos = [dados[1] for dados in aluguel if dados[0] == 'Apartamento' ]\n",
    "custos"
   ]
  },
  {
   "cell_type": "markdown",
   "id": "95b85f1b",
   "metadata": {},
   "source": [
    "### Ex 05"
   ]
  },
  {
   "cell_type": "code",
   "execution_count": 9,
   "id": "7d30c44b",
   "metadata": {},
   "outputs": [
    {
     "data": {
      "text/plain": [
       "{'Jan': 860,\n",
       " 'Fev': 490,\n",
       " 'Mar': 1010,\n",
       " 'Abr': 780,\n",
       " 'Mai': 900,\n",
       " 'Jun': 630,\n",
       " 'Jul': 590,\n",
       " 'Ago': 770,\n",
       " 'Set': 620,\n",
       " 'Out': 560,\n",
       " 'Nov': 840,\n",
       " 'Dez': 360}"
      ]
     },
     "execution_count": 9,
     "metadata": {},
     "output_type": "execute_result"
    }
   ],
   "source": [
    "meses = ['Jan', 'Fev', 'Mar', 'Abr', 'Mai', 'Jun', 'Jul', 'Ago', 'Set', 'Out', 'Nov', 'Dez']\n",
    "despesa = [860, 490, 1010, 780, 900, 630, 590, 770, 620, 560, 840, 360]\n",
    "\n",
    "year_cost = {month:cost for month, cost in zip(meses,despesa)}\n",
    "year_cost\n"
   ]
  },
  {
   "cell_type": "markdown",
   "id": "1d7c3d14",
   "metadata": {},
   "source": [
    "### Ex 06"
   ]
  },
  {
   "cell_type": "code",
   "execution_count": 10,
   "id": "b36ea32b",
   "metadata": {},
   "outputs": [
    {
     "data": {
      "text/plain": [
       "[8883, 7688, 9544, 8190]"
      ]
     },
     "execution_count": 10,
     "metadata": {},
     "output_type": "execute_result"
    }
   ],
   "source": [
    "sales = [('2023', 4093), ('2021', 4320), ('2021', 5959), ('2022', 8883), ('2023', 9859), ('2022', 5141), ('2022', 7688), ('2022', 9544), ('2023', 4794), ('2021', 7178), ('2022', 3030), ('2021', 7471), ('2022', 4226), ('2022', 8190), ('2021', 9680), ('2022', 5616)]\n",
    "\n",
    "top_sale_values_2022 = [sales[i][1] for i in range(len(sales)) if sales[i][0] == '2022' and sales[i][1] > 6000]\n",
    "top_sale_values_2022"
   ]
  },
  {
   "cell_type": "markdown",
   "id": "c05a6a9f",
   "metadata": {},
   "source": [
    "solucao\n"
   ]
  },
  {
   "cell_type": "code",
   "execution_count": 37,
   "id": "2d21ce83",
   "metadata": {},
   "outputs": [
    {
     "name": "stdout",
     "output_type": "stream",
     "text": [
      "[8883, 7688, 9544, 8190]\n"
     ]
    }
   ],
   "source": [
    "filtro = [tupla[1] for tupla in sales if tupla[0] == '2022' and tupla[1] > 6000]\n",
    "print(filtro)"
   ]
  },
  {
   "cell_type": "markdown",
   "id": "268ba15b",
   "metadata": {},
   "source": [
    "### Ex 07"
   ]
  },
  {
   "cell_type": "code",
   "execution_count": null,
   "id": "1e5fc1ac",
   "metadata": {},
   "outputs": [
    {
     "data": {
      "text/plain": [
       "[('Diabetic', 129),\n",
       " ('Normal', 82),\n",
       " ('Hipoglicemia', 60),\n",
       " ('Normal', 97),\n",
       " ('Altered', 101),\n",
       " ('Hipoglicemia', 65),\n",
       " ('Hipoglicemia', 62),\n",
       " ('Diabetic', 167),\n",
       " ('Normal', 87),\n",
       " ('Hipoglicemia', 53),\n",
       " ('Hipoglicemia', 58),\n",
       " ('Normal', 92),\n",
       " ('Hipoglicemia', 66),\n",
       " ('Altered', 120),\n",
       " ('Altered', 109),\n",
       " ('Hipoglicemia', 62),\n",
       " ('Normal', 86),\n",
       " ('Normal', 96),\n",
       " ('Altered', 103),\n",
       " ('Normal', 88),\n",
       " ('Diabetic', 155),\n",
       " ('Hipoglicemia', 52),\n",
       " ('Normal', 89),\n",
       " ('Normal', 73)]"
      ]
     },
     "execution_count": 17,
     "metadata": {},
     "output_type": "execute_result"
    }
   ],
   "source": [
    "glicemia = [129, 82, 60, 97, 101, 65, 62, 167, 87, 53, 58, 92, 66, 120, 109, 62, 86, 96, 103, 88, 155, 52, 89, 73]\n",
    "\n",
    "def case(glice):\n",
    "    if glice <= 70:\n",
    "        return 'Hipoglicemia'\n",
    "    elif 70 < glice <= 99:\n",
    "        return 'Normal'\n",
    "    elif 100 <= glice <= 125:\n",
    "        return 'Altered'\n",
    "    else:\n",
    "        return 'Diabetic'\n",
    "    \n",
    "results = [ (case(g), g) for g in glicemia] \n",
    "results"
   ]
  },
  {
   "cell_type": "markdown",
   "id": "c33d32fc",
   "metadata": {},
   "source": [
    "solucao\n"
   ]
  },
  {
   "cell_type": "code",
   "execution_count": 38,
   "id": "908de031",
   "metadata": {},
   "outputs": [
    {
     "name": "stdout",
     "output_type": "stream",
     "text": [
      "[('Diabetes', 129), ('Normal', 82), ('Hipoglicemia', 60), ('Normal', 97), ('Alterada', 101), ('Hipoglicemia', 65), ('Hipoglicemia', 62), ('Diabetes', 167), ('Normal', 87), ('Hipoglicemia', 53), ('Hipoglicemia', 58), ('Normal', 92), ('Hipoglicemia', 66), ('Alterada', 120), ('Alterada', 109), ('Hipoglicemia', 62), ('Normal', 86), ('Normal', 96), ('Alterada', 103), ('Normal', 88), ('Diabetes', 155), ('Hipoglicemia', 52), ('Normal', 89), ('Normal', 73)]\n"
     ]
    }
   ],
   "source": [
    "rotulos = [('Hipoglicemia', glicose) if glicose <= 70 else ('Normal', glicose) if glicose < 100 else ('Alterada', glicose) if glicose < 125 else ('Diabetes', glicose) for glicose in glicemia]\n",
    "print(rotulos)"
   ]
  },
  {
   "cell_type": "markdown",
   "id": "21fbad92",
   "metadata": {},
   "source": [
    "### Ex 08"
   ]
  },
  {
   "cell_type": "code",
   "execution_count": null,
   "id": "b1e2d7cd",
   "metadata": {},
   "outputs": [
    {
     "data": {
      "text/plain": [
       "[(('id', 0), ('quantidade', 15), ('preco', 93.0), ('total', 1395.0)),\n",
       " (('id', 1), ('quantidade', 12), ('preco', 102.0), ('total', 1224.0)),\n",
       " (('id', 2), ('quantidade', 1), ('preco', 18.0), ('total', 18.0)),\n",
       " (('id', 3), ('quantidade', 15), ('preco', 41.0), ('total', 615.0)),\n",
       " (('id', 4), ('quantidade', 2), ('preco', 122.0), ('total', 244.0)),\n",
       " (('id', 5), ('quantidade', 11), ('preco', 14.0), ('total', 154.0)),\n",
       " (('id', 6), ('quantidade', 2), ('preco', 71.0), ('total', 142.0)),\n",
       " (('id', 7), ('quantidade', 12), ('preco', 48.0), ('total', 576.0)),\n",
       " (('id', 8), ('quantidade', 2), ('preco', 14.0), ('total', 28.0)),\n",
       " (('id', 9), ('quantidade', 4), ('preco', 144.0), ('total', 576.0))]"
      ]
     },
     "execution_count": 33,
     "metadata": {},
     "output_type": "execute_result"
    }
   ],
   "source": [
    "id = [0, 1, 2, 3, 4, 5, 6, 7, 8, 9]\n",
    "quantidade = [15, 12, 1, 15, 2, 11, 2, 12, 2, 4]\n",
    "preco = [93.0, 102.0, 18.0, 41.0, 122.0, 14.0, 71.0, 48.0, 14.0, 144.0]\n",
    "\n",
    "all_lists = [id,quantidade,preco]\n",
    "titulo = ['id','quantidade','preco','total']\n",
    "\n",
    "data = [((titulo[0], all_lists[0][i]), (titulo[1], all_lists[1][i]), (titulo[2], all_lists[2][i]), (titulo[3], (all_lists[1][i] * all_lists[2][i]))) for i in range(len(id))]\n",
    "data"
   ]
  },
  {
   "cell_type": "markdown",
   "id": "f6772e25",
   "metadata": {},
   "source": [
    "solucao"
   ]
  },
  {
   "cell_type": "code",
   "execution_count": null,
   "id": "dc2efa4d",
   "metadata": {},
   "outputs": [
    {
     "name": "stdout",
     "output_type": "stream",
     "text": [
      "('id', 'quantidade', 'preco', 'total')\n",
      "(0, 15, 93.0, 1395.0)\n",
      "(1, 12, 102.0, 1224.0)\n",
      "(2, 1, 18.0, 18.0)\n",
      "(3, 15, 41.0, 615.0)\n",
      "(4, 2, 122.0, 244.0)\n",
      "(5, 11, 14.0, 154.0)\n",
      "(6, 2, 71.0, 142.0)\n",
      "(7, 12, 48.0, 576.0)\n",
      "(8, 2, 14.0, 28.0)\n",
      "(9, 4, 144.0, 576.0)\n"
     ]
    }
   ],
   "source": [
    "tabela = [('id', 'quantidade', 'preco', 'total')]\n",
    "tabela += [(id[i], quantidade[i], preco[i], quantidade[i]*preco[i]) for i in range(len(id))]\n",
    "\n",
    "# I added this, cus provided solution above didnt print to screen\n",
    "for i in tabela:\n",
    "    print(i)\n"
   ]
  },
  {
   "cell_type": "markdown",
   "id": "92f62b4e",
   "metadata": {},
   "source": [
    "### Ex 09"
   ]
  },
  {
   "cell_type": "code",
   "execution_count": 34,
   "id": "102ffb58",
   "metadata": {},
   "outputs": [
    {
     "data": {
      "text/plain": [
       "{'SP': 8, 'ES': 6, 'MG': 7, 'RJ': 2}"
      ]
     },
     "execution_count": 34,
     "metadata": {},
     "output_type": "execute_result"
    }
   ],
   "source": [
    "estados = ['SP', 'ES', 'MG', 'MG', 'SP', 'MG', 'ES', 'ES', 'ES', 'SP', 'SP', 'MG', 'ES', 'SP', 'RJ', 'MG', 'RJ', 'SP', 'MG', 'SP', 'ES', 'SP', 'MG']\n",
    "dados = {}\n",
    "\n",
    "for e in estados:\n",
    "    if e in dados:\n",
    "        dados[e] +=1\n",
    "    else:\n",
    "        dados[e] = 1\n",
    "        \n",
    "dados"
   ]
  },
  {
   "cell_type": "markdown",
   "id": "da513e2f",
   "metadata": {},
   "source": [
    "Solution that was given, very ineficient"
   ]
  },
  {
   "cell_type": "code",
   "execution_count": 44,
   "id": "0c62ff1c",
   "metadata": {},
   "outputs": [
    {
     "name": "stdout",
     "output_type": "stream",
     "text": [
      "[['MG', 'MG', 'MG', 'MG', 'MG', 'MG', 'MG'], ['SP', 'SP', 'SP', 'SP', 'SP', 'SP', 'SP', 'SP'], ['ES', 'ES', 'ES', 'ES', 'ES', 'ES'], ['RJ', 'RJ']]\n",
      "{'MG': 7, 'SP': 8, 'ES': 6, 'RJ': 2}\n"
     ]
    }
   ],
   "source": [
    "# Armazenando os estados sem repetição de valor\n",
    "estados_unicos = list(set(estados))\n",
    "\n",
    "# Criando uma lista de listas com valores repetidos de cada estado\n",
    "lista_de_listas = []\n",
    "for estado in estados_unicos:\n",
    "    lista = [uf for uf in estados if uf == estado]\n",
    "    lista_de_listas.append(lista)\n",
    "print(lista_de_listas)\n",
    "\n",
    "# Criando um dicionário em que a chave é o nome de cada estado único e o valor é a contagem de elementos\n",
    "contagem_valores = {estados_unicos[i]: len(lista_de_listas[i]) for i in range(len(estados_unicos))}\n",
    "print(contagem_valores)"
   ]
  },
  {
   "cell_type": "markdown",
   "id": "5b404b68",
   "metadata": {},
   "source": [
    "Solution found in forum"
   ]
  },
  {
   "cell_type": "code",
   "execution_count": 49,
   "id": "92873d8b",
   "metadata": {},
   "outputs": [
    {
     "data": {
      "text/plain": [
       "{'SP': 8, 'ES': 6, 'MG': 7, 'RJ': 2}"
      ]
     },
     "execution_count": 49,
     "metadata": {},
     "output_type": "execute_result"
    }
   ],
   "source": [
    "\n",
    "estados = ['SP', 'ES', 'MG', 'MG', 'SP', 'MG', 'ES', 'ES', 'ES', 'SP', 'SP', 'MG', 'ES', 'SP', 'RJ', 'MG', 'RJ', 'SP', 'MG', 'SP', 'ES', 'SP', 'MG']\n",
    "\n",
    "#Criando o dicionário com a quantidade de vezes que cada estado aparece\n",
    "\n",
    "filiais = {estado: estados.count(estado) for estado in estados}\n",
    "filiais"
   ]
  },
  {
   "cell_type": "markdown",
   "id": "2c9a6013",
   "metadata": {},
   "source": [
    "### Ex 10"
   ]
  },
  {
   "cell_type": "code",
   "execution_count": 35,
   "id": "77b6dbd8",
   "metadata": {},
   "outputs": [
    {
     "name": "stdout",
     "output_type": "stream",
     "text": [
      "{'SP': [16, 10, 7, 11, 9, 12, 7, 10], 'ES': [8, 9, 7, 12, 8, 14], 'MG': [9, 6, 4, 8, 5, 10, 12], 'RJ': [13, 9]}\n",
      "{'SP': 82, 'ES': 58, 'MG': 54, 'RJ': 22}\n"
     ]
    }
   ],
   "source": [
    "funcionarios = [('SP', 16), ('ES', 8), ('MG', 9), ('MG', 6), ('SP', 10), ('MG', 4), ('ES',9), ('ES', 7), ('ES', 12), ('SP', 7), ('SP', 11), ('MG',8), ('ES',8), ('SP',9), ('RJ', 13), ('MG', 5), ('RJ', 9), ('SP', 12), ('MG', 10), ('SP', 7), ('ES', 14), ('SP', 10), ('MG', 12)]\n",
    "\n",
    "funcionarios_por_estado = {}\n",
    "funcionarios_total_por_estado = {}\n",
    "\n",
    "for f in funcionarios:\n",
    "    if f[0] in funcionarios_por_estado:\n",
    "        funcionarios_por_estado[f[0]].append(f[1])\n",
    "    else:\n",
    "        funcionarios_por_estado[f[0]] = [f[1]]\n",
    "\n",
    "print(funcionarios_por_estado)\n",
    "        \n",
    "funcionarios_total_por_estado = funcionarios_por_estado\n",
    "\n",
    "for g in funcionarios_total_por_estado:\n",
    "    funcionarios_total_por_estado[g] = sum(funcionarios_total_por_estado[g])\n",
    "    \n",
    "print(funcionarios_total_por_estado)"
   ]
  }
 ],
 "metadata": {
  "kernelspec": {
   "display_name": "Python 3",
   "language": "python",
   "name": "python3"
  },
  "language_info": {
   "codemirror_mode": {
    "name": "ipython",
    "version": 3
   },
   "file_extension": ".py",
   "mimetype": "text/x-python",
   "name": "python",
   "nbconvert_exporter": "python",
   "pygments_lexer": "ipython3",
   "version": "3.11.4"
  }
 },
 "nbformat": 4,
 "nbformat_minor": 5
}
