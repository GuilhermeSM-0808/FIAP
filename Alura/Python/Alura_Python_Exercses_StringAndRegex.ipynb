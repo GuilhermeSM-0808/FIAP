{
 "cells": [
  {
   "cell_type": "code",
   "execution_count": 20,
   "metadata": {},
   "outputs": [
    {
     "name": "stdout",
     "output_type": "stream",
     "text": [
      "WowGuilherme Satler MacedoTired\n"
     ]
    }
   ],
   "source": [
    "name = \" Guilherme Satler Macedo \"\n",
    "\n",
    "print(\"Wow\" + name.strip() + \"Tired\")"
   ]
  },
  {
   "cell_type": "code",
   "execution_count": 24,
   "metadata": {},
   "outputs": [
    {
     "name": "stdout",
     "output_type": "stream",
     "text": [
      "Hello Python!\n"
     ]
    }
   ],
   "source": [
    "classic = \"Hello World!\"\n",
    "\n",
    "print(classic.replace(\"World\",\"Python\"))"
   ]
  },
  {
   "cell_type": "code",
   "execution_count": 3,
   "metadata": {},
   "outputs": [
    {
     "name": "stdout",
     "output_type": "stream",
     "text": [
      "yth\n",
      "Pyt\n",
      "Pto\n"
     ]
    }
   ],
   "source": [
    "text = \"Python\"\n",
    "\n",
    "print(text[1:4])\n",
    "print(text[:3])\n",
    "print(text[::2])"
   ]
  },
  {
   "cell_type": "code",
   "execution_count": 4,
   "metadata": {},
   "outputs": [
    {
     "name": "stdout",
     "output_type": "stream",
     "text": [
      "True\n",
      "False\n"
     ]
    }
   ],
   "source": [
    "text = \"Python\"\n",
    "\n",
    "print(\"Py\" in text)\n",
    "\n",
    "print(\"Java\" in text)"
   ]
  },
  {
   "cell_type": "code",
   "execution_count": 5,
   "metadata": {},
   "outputs": [
    {
     "data": {
      "text/plain": [
       "<re.Match object; span=(15, 19), match='8198'>"
      ]
     },
     "execution_count": 5,
     "metadata": {},
     "output_type": "execute_result"
    }
   ],
   "source": [
    "re.search(r\"\\d+\", \"I have exactly 8198 paper clips\")"
   ]
  },
  {
   "cell_type": "code",
   "execution_count": 7,
   "metadata": {},
   "outputs": [
    {
     "name": "stdout",
     "output_type": "stream",
     "text": [
      "Email found: support@example.com\n"
     ]
    }
   ],
   "source": [
    "import re\n",
    "\n",
    "text = \"Contact us trhough the email: support@example.com\"\n",
    "\n",
    "email_pattern = r\"[a-zA-Z0-9._%+-]+@[a-zA-Z0-9.-]+\\.[a-zA-z]{2,}\"\n",
    "\n",
    "result = re.search(email_pattern, text)\n",
    "\n",
    "if result:\n",
    "    print(f\"Email found:\", result.group())\n",
    "else:\n",
    "    print(\"No email found.\")"
   ]
  },
  {
   "cell_type": "code",
   "execution_count": 8,
   "metadata": {},
   "outputs": [
    {
     "name": "stdout",
     "output_type": "stream",
     "text": [
      "chocolate branco\n"
     ]
    }
   ],
   "source": [
    "example01 = \" ChocoLAte Branco \" \n",
    "\n",
    "example01 = example01.strip().lower()\n",
    "\n",
    "print(example01)"
   ]
  },
  {
   "cell_type": "code",
   "execution_count": 10,
   "metadata": {},
   "outputs": [
    {
     "name": "stdout",
     "output_type": "stream",
     "text": [
      "chocolate branco\n"
     ]
    }
   ],
   "source": [
    "product_name = input(\"Insert product name\")\n",
    "standarized_product = product_name.strip().lower()\n",
    "print(standarized_product)"
   ]
  },
  {
   "cell_type": "code",
   "execution_count": 11,
   "metadata": {},
   "outputs": [
    {
     "name": "stdout",
     "output_type": "stream",
     "text": [
      "Hello Gui, welcome to the website of Sao Paulo\n"
     ]
    }
   ],
   "source": [
    "name = input(\"Insert your name: \")\n",
    "city = input(\"Insert the City you're in: \")\n",
    "\n",
    "print(f\"Hello {name}, welcome to the website of {city}\")"
   ]
  },
  {
   "cell_type": "code",
   "execution_count": 23,
   "metadata": {},
   "outputs": [
    {
     "name": "stdout",
     "output_type": "stream",
     "text": [
      "Mis\n",
      "ous\n"
     ]
    }
   ],
   "source": [
    "word = \"Misterious\"\n",
    "\n",
    "\n",
    "print(word[:3])\n",
    "print(word[-3:])"
   ]
  },
  {
   "cell_type": "code",
   "execution_count": 24,
   "metadata": {},
   "outputs": [
    {
     "name": "stdout",
     "output_type": "stream",
     "text": [
      "Valid URL!\n"
     ]
    }
   ],
   "source": [
    "website = input(\"Insert your website URL for registration: \")\n",
    "\n",
    "if website.startswith(\"https://\") and website.endswith(\".com\"):\n",
    "    print(\"Valid URL!\")\n",
    "else:\n",
    "    print(\"URL Invalid.\")"
   ]
  },
  {
   "cell_type": "code",
   "execution_count": null,
   "metadata": {},
   "outputs": [
    {
     "name": "stdout",
     "output_type": "stream",
     "text": [
      "The receipt number is: 1087568\n"
     ]
    }
   ],
   "source": [
    "import re\n",
    "\n",
    "receipt = input(\"Insert your receipt notification: \")\n",
    "\n",
    "number = re.search(r\"\\d+\", receipt)\n",
    "\n",
    "print(\"The receipt number is: \", number.group())"
   ]
  },
  {
   "cell_type": "code",
   "execution_count": null,
   "metadata": {},
   "outputs": [],
   "source": [
    "##Alura example:\n",
    "import re\n",
    "\n",
    "texto = input(\"Digite a descrição da receita: \")  \n",
    "numero = re.findall(r'\\d+', texto)[0]  \n",
    "print(f\"O número da receita é: {numero}\")"
   ]
  },
  {
   "cell_type": "code",
   "execution_count": 32,
   "metadata": {},
   "outputs": [
    {
     "name": "stdout",
     "output_type": "stream",
     "text": [
      "Today is great, everything is great.\n"
     ]
    }
   ],
   "source": [
    "text = input(\"Insert the text you would like to fix: \")\n",
    "wrong_word = input(\"Insert the word you would like to be replaced: \")\n",
    "correct_word = input(\"Insert the word you want to replace the incorrect one: \")\n",
    "\n",
    "print(text.replace(wrong_word, correct_word))\n"
   ]
  },
  {
   "cell_type": "code",
   "execution_count": 41,
   "metadata": {},
   "outputs": [
    {
     "name": "stdout",
     "output_type": "stream",
     "text": [
      "Valid Name.\n"
     ]
    }
   ],
   "source": [
    "import re\n",
    "\n",
    "name = input(\"Insert your name: \")\n",
    "\n",
    "if re.match(r\"[A-Z][a-z]+\", name):\n",
    "    print(\"Valid Name.\")\n",
    "else:\n",
    "    print(\"Invalid name.\")"
   ]
  },
  {
   "cell_type": "code",
   "execution_count": null,
   "metadata": {},
   "outputs": [
    {
     "name": "stdout",
     "output_type": "stream",
     "text": [
      "Invalid input!\n"
     ]
    }
   ],
   "source": [
    "CPF = input(\"Insert your CPF in the format XXX.XXX.XXX-XX: \")\n",
    "\n",
    "if re.fullmatch(r'\\d{3}.\\d{3}.\\d{3}-\\d{2}', CPF):\n",
    "    print(\"Valid CPF formmating!\")\n",
    "else:\n",
    "    print(\"Invalid formatting or input!\")\n",
    "\n"
   ]
  },
  {
   "cell_type": "code",
   "execution_count": null,
   "metadata": {},
   "outputs": [],
   "source": [
    "#Alura example:\n",
    "\n",
    "import re\n",
    "\n",
    "CPF = input(\"Insert your CPF in the format XXX.XXX.XXX-XX: \")\n",
    "standart_format = r'\\d{3}.\\d{3}.\\d{3}-\\d{2}'\n",
    "\n",
    "if re.fullmatch(standart_format, CPF):\n",
    "    print(\"Valid CPF formmating!\")\n",
    "else:\n",
    "    print(\"Invalid formatting or input!\")\n"
   ]
  },
  {
   "cell_type": "code",
   "execution_count": 55,
   "metadata": {},
   "outputs": [
    {
     "name": "stdout",
     "output_type": "stream",
     "text": [
      "['As', 'Aventuras', 'Alice']\n"
     ]
    }
   ],
   "source": [
    "import re\n",
    "\n",
    "books = input(\"Insert the book titles: \")\n",
    "letter = input(\"Insert one letter for the search: \")\n",
    "\n",
    "words = re.findall(rf'\\b{letter}[a-zA-Z]*', books, re.IGNORECASE)\n",
    "print(words)"
   ]
  },
  {
   "cell_type": "code",
   "execution_count": null,
   "metadata": {},
   "outputs": [
    {
     "name": "stdout",
     "output_type": "stream",
     "text": [
      "Name Nº1: Guilherme\n",
      "Name Nº2: Satler\n",
      "Name Nº3: Santos\n",
      "Name Nº4: Dummond\n",
      "Birht year wasn't provided\n"
     ]
    }
   ],
   "source": [
    "paciente_info = input(\"Insert your full name and year of birth: \")\n",
    "\n",
    "year = re.search(r'\\d{4}', paciente_info)\n",
    "\n",
    "\n",
    "names = re.findall(r\"[A-Z][a-z]*\", paciente_info)\n",
    "amount = len(names)\n",
    "\n",
    "for n in range(0,amount): \n",
    "    print(f\"Name Nº{n+1}: {names[n]}\")   \n",
    "# first_name = re.findall(r\"[A-Z][a-z]*\", paciente_info)[0]\n",
    "# second_name = re.findall(r\"[A-Z][a-z]*\", paciente_info)[1]\n",
    "# third_name\n",
    "\n",
    "# print(f\"First name: {first_name}\")\n",
    "# print(f\"Second name: {second_name}\")\n",
    "\n",
    "if year:\n",
    "    print(f\"Birth year: {year.group()}\")\n",
    "else:\n",
    "    print(\"Birht year wasn't provided\")\n"
   ]
  },
  {
   "cell_type": "code",
   "execution_count": 71,
   "metadata": {},
   "outputs": [
    {
     "name": "stdout",
     "output_type": "stream",
     "text": [
      "First name: Guilherme\n",
      "Family name: de Santos de Andrade Dummond\n",
      "Birth year: 1998\n"
     ]
    }
   ],
   "source": [
    "paciente_info = input(\"Insert your full name and year of birth: \")\n",
    "\n",
    "pattern = r'(\\w+) (\\w+\\s?\\w*\\s?\\w*\\s?\\w*\\s?\\w*\\s?\\w*\\s?\\w*\\s?\\w*) - (\\d{4})'\n",
    "\n",
    "result = re.search(pattern, paciente_info)\n",
    "\n",
    "if result:\n",
    "    first_name = result.group(1)\n",
    "    family_name = result.group(2)\n",
    "    birth_year = result.group(3)\n",
    "    \n",
    "    print(f\"First name: {first_name}\")\n",
    "    print(f\"Family name: {family_name}\")\n",
    "    print(f\"Birth year: {birth_year}\")\n",
    "else:\n",
    "    print(\"Invalid input!\")"
   ]
  }
 ],
 "metadata": {
  "kernelspec": {
   "display_name": "Python 3",
   "language": "python",
   "name": "python3"
  },
  "language_info": {
   "codemirror_mode": {
    "name": "ipython",
    "version": 3
   },
   "file_extension": ".py",
   "mimetype": "text/x-python",
   "name": "python",
   "nbconvert_exporter": "python",
   "pygments_lexer": "ipython3",
   "version": "3.11.4"
  }
 },
 "nbformat": 4,
 "nbformat_minor": 2
}
