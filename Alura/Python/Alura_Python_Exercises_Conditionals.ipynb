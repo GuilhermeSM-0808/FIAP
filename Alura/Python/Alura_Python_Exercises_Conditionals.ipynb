{
 "cells": [
  {
   "cell_type": "code",
   "execution_count": 3,
   "metadata": {},
   "outputs": [
    {
     "name": "stdout",
     "output_type": "stream",
     "text": [
      "The number is even.\n"
     ]
    }
   ],
   "source": [
    "n = int(input(\"Insert a whole number: \"))\n",
    "\n",
    "if n % 2 == 0:\n",
    "    print(\"The number is even.\")\n",
    "else:\n",
    "    print(\"The number is odd.\")"
   ]
  },
  {
   "cell_type": "code",
   "execution_count": 8,
   "metadata": {},
   "outputs": [
    {
     "name": "stdout",
     "output_type": "stream",
     "text": [
      "You're an adult!\n",
      "Amazing, congrats on making to 100!\n"
     ]
    }
   ],
   "source": [
    "age = int(input(\"What's your age? Insert here: \"))\n",
    "\n",
    "if 0 <= age <= 12:\n",
    "    print(\"You're a child!\")\n",
    "elif 13 <= age <= 18:\n",
    "    print(\"You're a teenager!\")\n",
    "elif 18 < age:\n",
    "    print(\"You're an adult!\")\n",
    "    if 100 <= age:\n",
    "        print(\"Amazing, congrats on making to 100!\")\n",
    "else:\n",
    "    print(\"Invalid number inserted.\")"
   ]
  },
  {
   "cell_type": "code",
   "execution_count": 9,
   "metadata": {},
   "outputs": [
    {
     "name": "stdout",
     "output_type": "stream",
     "text": [
      "Logged In! Credencials accepted.\n"
     ]
    }
   ],
   "source": [
    "c_user = 'Gui'\n",
    "c_pass = '1234'\n",
    "\n",
    "input_user = str(input(\"Insert your user name: \"))\n",
    "input_pass = str(input(\"Insert your password: \"))\n",
    "\n",
    "if c_user == input_user and input_pass == c_pass:\n",
    "    print(\"Logged In! Credencials accepted.\")\n",
    "else:\n",
    "    print(\"Invalid Credentials.\")"
   ]
  },
  {
   "cell_type": "code",
   "execution_count": 15,
   "metadata": {},
   "outputs": [
    {
     "name": "stdout",
     "output_type": "stream",
     "text": [
      "Point is inside the third Quadrant.\n"
     ]
    }
   ],
   "source": [
    "x = float(input(\"Insert X coordinates: \"))\n",
    "y = float(input(\"Insert Y coordinates: \"))\n",
    "\n",
    "if x > 0:\n",
    "    if y > 0:\n",
    "        print(\"Point is inside first Quadrant.\")\n",
    "    elif y < 0:\n",
    "       print(\"Point is inside fourth Quadrant.\")\n",
    "    else:\n",
    "        print(\"Point is on the Axis between the first and fourth Quadrants.\") \n",
    "elif x < 0:\n",
    "    if y > 0:\n",
    "        print(\"Point is inside the second Quadrant.\")\n",
    "    elif y < 0:\n",
    "        print(\"Point is inside the third Quadrant.\")\n",
    "    else:\n",
    "        print(\"Point is on the Axis between the second and third Quadrant.\")\n",
    "else:\n",
    "    if y > 0:\n",
    "        print(\"Point is on the Axis between the first and second Quadrant.\")\n",
    "    elif y < 0:\n",
    "        print(\"Point is on the Axis between the third and fourth Quadrant.\")\n",
    "    else:\n",
    "        print(\"Point is on the origin.\")\n",
    "    "
   ]
  }
 ],
 "metadata": {
  "kernelspec": {
   "display_name": "Python 3",
   "language": "python",
   "name": "python3"
  },
  "language_info": {
   "codemirror_mode": {
    "name": "ipython",
    "version": 3
   },
   "file_extension": ".py",
   "mimetype": "text/x-python",
   "name": "python",
   "nbconvert_exporter": "python",
   "pygments_lexer": "ipython3",
   "version": "3.11.4"
  }
 },
 "nbformat": 4,
 "nbformat_minor": 2
}
