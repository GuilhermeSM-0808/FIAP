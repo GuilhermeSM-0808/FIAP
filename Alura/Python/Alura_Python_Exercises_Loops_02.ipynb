{
 "cells": [
  {
   "cell_type": "code",
   "execution_count": null,
   "metadata": {},
   "outputs": [
    {
     "name": "stdout",
     "output_type": "stream",
     "text": [
      "Projeto: website\n",
      "Projeto: jogo\n",
      "Projeto: análise de dados\n",
      "Projeto nao disponivel\n",
      "Projeto: aplicativo móvel\n"
     ]
    }
   ],
   "source": [
    "##Example 01\n",
    "\n",
    "projetos = [\"website\", \"jogo\", \"análise de dados\", None, \"aplicativo móvel\"]\n",
    "\n",
    "for p in projetos:\n",
    "    if p:\n",
    "        print(f\"Projeto: {p}\")\n",
    "    else:\n",
    "        print(\"Projeto nao disponivel\")"
   ]
  },
  {
   "cell_type": "code",
   "execution_count": null,
   "metadata": {},
   "outputs": [
    {
     "name": "stdout",
     "output_type": "stream",
     "text": [
      "1\n",
      "2\n",
      "3\n",
      "4\n",
      "5\n",
      "6\n",
      "7\n",
      "8\n",
      "9\n",
      "10\n"
     ]
    }
   ],
   "source": [
    "numbers = [1, 2, 3, 4, 5, 6, 7, 8, 9, 10]\n",
    "names = ['foo','bar','foobar','qux']\n",
    "year = [1998, 2025]\n",
    "\n",
    "for n in numbers:\n",
    "    print(n)"
   ]
  },
  {
   "cell_type": "code",
   "execution_count": 25,
   "metadata": {},
   "outputs": [
    {
     "name": "stdout",
     "output_type": "stream",
     "text": [
      "Sum of odd numbers is 25\n"
     ]
    }
   ],
   "source": [
    "numbers = [1, 2, 3, 4, 5, 6, 7, 8, 9, 10]\n",
    "\n",
    "r = 0\n",
    "\n",
    "for n in numbers:\n",
    "    if n % 2 != 0:\n",
    "        r = r + int(n)\n",
    "print(f'Sum of odd numbers is {r}')"
   ]
  },
  {
   "cell_type": "code",
   "execution_count": 32,
   "metadata": {},
   "outputs": [
    {
     "name": "stdout",
     "output_type": "stream",
     "text": [
      "10\n",
      "9\n",
      "8\n",
      "7\n",
      "6\n",
      "5\n",
      "4\n",
      "3\n",
      "2\n",
      "1\n"
     ]
    }
   ],
   "source": [
    "numbers = [1, 2, 3, 4, 5, 6, 7, 8, 9, 10]\n",
    "\n",
    "n = len(numbers) - 1\n",
    "\n",
    "while n >= 0:\n",
    "    print(numbers[n])\n",
    "    n = n -1"
   ]
  },
  {
   "cell_type": "code",
   "execution_count": 33,
   "metadata": {},
   "outputs": [
    {
     "name": "stdout",
     "output_type": "stream",
     "text": [
      "10\n",
      "9\n",
      "8\n",
      "7\n",
      "6\n",
      "5\n",
      "4\n",
      "3\n",
      "2\n",
      "1\n"
     ]
    }
   ],
   "source": [
    "# Exercise Example: \n",
    "\n",
    "for i in range(10, 0, -1):\n",
    "    print(i)"
   ]
  },
  {
   "cell_type": "code",
   "execution_count": 5,
   "metadata": {},
   "outputs": [
    {
     "name": "stdout",
     "output_type": "stream",
     "text": [
      "7\n",
      "14\n",
      "21\n",
      "28\n",
      "35\n",
      "42\n",
      "49\n",
      "56\n",
      "63\n",
      "70\n"
     ]
    }
   ],
   "source": [
    "numbers = [1, 2, 3, 4, 5, 6, 7, 8, 9, 10]\n",
    "\n",
    "n = int(input(\"Insert a whole number: \"))\n",
    "\n",
    "for m in numbers:\n",
    "    m = m * n\n",
    "    print(m)"
   ]
  },
  {
   "cell_type": "code",
   "execution_count": 37,
   "metadata": {},
   "outputs": [
    {
     "name": "stdout",
     "output_type": "stream",
     "text": [
      "Unknown value not added\n",
      "Unknown value not added\n",
      "29\n"
     ]
    }
   ],
   "source": [
    "numbers = [1, -2, 10, 30, -55, 12, 31, None, 2, None]\n",
    "\n",
    "m = 0\n",
    "\n",
    "try:\n",
    "    for n in numbers:\n",
    "        if n:\n",
    "            m += int(n)\n",
    "        else:\n",
    "            print(\"Unknown value not added\")\n",
    "    print(m)\n",
    "except Exception as e:\n",
    "    print(f'Error: {e}')"
   ]
  },
  {
   "cell_type": "code",
   "execution_count": 41,
   "metadata": {},
   "outputs": [
    {
     "name": "stdout",
     "output_type": "stream",
     "text": [
      "2.9\n"
     ]
    }
   ],
   "source": [
    "numbers = [1, -2, 10, 30, -55, 12, 31, None, 2, None]\n",
    "\n",
    "m = 0\n",
    "l = len(numbers)\n",
    "\n",
    "try:\n",
    "    for n in numbers:\n",
    "        if n:\n",
    "            m += n\n",
    "    print(m/l)\n",
    "except ZeroDivisionError:\n",
    "    print(\"The list is empty, can`t calculate the average\")\n",
    "except Exception as e:\n",
    "    print(f\"Error: {e}\")"
   ]
  },
  {
   "cell_type": "code",
   "execution_count": null,
   "metadata": {},
   "outputs": [],
   "source": []
  }
 ],
 "metadata": {
  "kernelspec": {
   "display_name": "Python 3",
   "language": "python",
   "name": "python3"
  },
  "language_info": {
   "codemirror_mode": {
    "name": "ipython",
    "version": 3
   },
   "file_extension": ".py",
   "mimetype": "text/x-python",
   "name": "python",
   "nbconvert_exporter": "python",
   "pygments_lexer": "ipython3",
   "version": "3.11.4"
  }
 },
 "nbformat": 4,
 "nbformat_minor": 2
}
