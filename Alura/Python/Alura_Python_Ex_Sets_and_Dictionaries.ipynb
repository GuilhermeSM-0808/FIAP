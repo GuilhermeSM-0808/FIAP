{
 "cells": [
  {
   "cell_type": "code",
   "execution_count": 1,
   "id": "dc45dc5b",
   "metadata": {},
   "outputs": [
    {
     "name": "stdout",
     "output_type": "stream",
     "text": [
      "{'name': 'foo', 'age': 26}\n",
      "('age', 26)\n",
      "{'name': 'qux'}\n"
     ]
    }
   ],
   "source": [
    "test = {\"name\": \"foo\",\"age\":26}\n",
    "\n",
    "print(test)\n",
    "\n",
    "test[\"name\"] = \"qux\"\n",
    "\n",
    "print(test.popitem())\n",
    "\n",
    "print(test)\n",
    "\n"
   ]
  },
  {
   "cell_type": "code",
   "execution_count": null,
   "id": "99d8e723",
   "metadata": {},
   "outputs": [
    {
     "name": "stdout",
     "output_type": "stream",
     "text": [
      "{'frutas': {'morango', 'maça', 'uva'}, 'verduras': {'cenoura'}}\n"
     ]
    }
   ],
   "source": [
    "estoque = {\n",
    "  \"frutas\": {\"maça\", \"uva\"},\n",
    "  \"verduras\": {\"cenoura\", \"alface\"}\n",
    "}\n",
    "\n",
    "estoque[\"frutas\"].add(\"morango\") #Tem que usar .add pois esta adicionando a um conjunto (set)\n",
    "estoque[\"verduras\"].discard(\"alface\")\n",
    "\n",
    "print(estoque)\n",
    "# Saída: {'frutas: {'maça', 'morango', 'uva'}, 'verduras': {'cenoura'}}"
   ]
  },
  {
   "cell_type": "code",
   "execution_count": 62,
   "id": "f4549c64",
   "metadata": {},
   "outputs": [
    {
     "name": "stdout",
     "output_type": "stream",
     "text": [
      "Confirmed guests: Qux, Foobar, Bar, Foo\n"
     ]
    }
   ],
   "source": [
    "#Ex 1\n",
    "\n",
    "guests = set()\n",
    "\n",
    "while \"exit\" not in guests:\n",
    "    guests.add(input(\"Insert the guest's name: (Insert exit to stop)\"))\n",
    "guests.remove(\"exit\")\n",
    "\n",
    "print(f\"Confirmed guests: {', '.join(guests)}\")\n"
   ]
  },
  {
   "cell_type": "code",
   "execution_count": null,
   "id": "1b7db5f1",
   "metadata": {},
   "outputs": [
    {
     "name": "stdout",
     "output_type": "stream",
     "text": [
      "Words in common:  {'the', 'bright', 'sky', 'sun'}\n"
     ]
    }
   ],
   "source": [
    "#Ex 2\n",
    "\n",
    "text01 = set(input(\"Insert text 01: \").lower().split())\n",
    "text02 = set(input(\"Insert text 02: \").lower().split())\n",
    "\n",
    "\n",
    "print(\"Words in common: \", set(text01)&set(text02))\n"
   ]
  },
  {
   "cell_type": "code",
   "execution_count": 19,
   "id": "f854a9d6",
   "metadata": {},
   "outputs": [
    {
     "name": "stdout",
     "output_type": "stream",
     "text": [
      "Common items found in both lists: bread, coffee\n",
      "Items exclusive to Foo's list: sugar, milk\n",
      "Items exclusive to Bar's list: cookies, chocolate\n"
     ]
    }
   ],
   "source": [
    "#Ex 3\n",
    "\n",
    "Foo_list = set(input(\"Insert Foo's list: \").lower().split(', '))\n",
    "Bar_list = set(input(\"Insert Bar's list: \").lower().split(', '))\n",
    "\n",
    "common = Foo_list&Bar_list\n",
    "Foo_exclusive = Foo_list-Bar_list\n",
    "Bar_exclusive = Bar_list-Foo_list\n",
    "\n",
    "print(f\"Common items found in both lists: {', '.join(common)}\")\n",
    "print(f\"Items exclusive to Foo's list: {', '.join(Foo_exclusive)}\")\n",
    "print(f\"Items exclusive to Bar's list: {', '.join(Bar_exclusive)}\")"
   ]
  },
  {
   "cell_type": "code",
   "execution_count": null,
   "id": "bc77aa9f",
   "metadata": {},
   "outputs": [
    {
     "name": "stdout",
     "output_type": "stream",
     "text": [
      "Requested access is not permitted.\n"
     ]
    }
   ],
   "source": [
    "#Ex 4\n",
    "\n",
    "access_list = set(input(\"Insert the user's access authorization list: \").lower().split(', '))\n",
    "request_list = set(input(\"Insert the user's access request list: \").lower().split(', '))\n",
    "\n",
    "if request_list<=access_list:\n",
    "    print(\"Requested access allowed.\")\n",
    "else:\n",
    "    print(\"Requested access is not permitted.\")"
   ]
  },
  {
   "cell_type": "code",
   "execution_count": 41,
   "id": "6e4e6452",
   "metadata": {},
   "outputs": [
    {
     "name": "stdout",
     "output_type": "stream",
     "text": [
      "False\n"
     ]
    }
   ],
   "source": [
    "#Personal test\n",
    "\n",
    "test = bool(input(\"Press enter to confirm or esc to stop: \"))\n",
    "\n",
    "print(test)"
   ]
  },
  {
   "cell_type": "code",
   "execution_count": null,
   "id": "44d9a535",
   "metadata": {},
   "outputs": [
    {
     "name": "stdout",
     "output_type": "stream",
     "text": [
      "Remaining tasks: {'system planning', 'bug fix', 'test meeting'}\n"
     ]
    }
   ],
   "source": [
    "#Ex 5\n",
    "\n",
    "tasks_a = set(input(\"Insert tasks of team A: \").lower().split(', '))\n",
    "tasks_b = set(input(\"Insert tasks of team B: \").lower().split(', '))\n",
    "remove_task = set()\n",
    "\n",
    "remove = input(\"Do you want to remove a task? Inser Yes or y to confirm.\")\n",
    "if remove.lower() == \"yes\" or remove.lower() == \"y\":\n",
    "    remove_task = input(\"Insert the name of the task you wish to remove: \").lower()\n",
    "\n",
    "all_tasks = tasks_a|tasks_b\n",
    "all_tasks.discard(remove_task)\n",
    "\n",
    "print(f\"Remaining tasks: {all_tasks}\")"
   ]
  },
  {
   "cell_type": "code",
   "execution_count": 51,
   "id": "0ba5e773",
   "metadata": {},
   "outputs": [
    {
     "name": "stdout",
     "output_type": "stream",
     "text": [
      "Available stock: {'Pen': 50, 'Pencil': 100, 'Notebook': 30, 'Eraser': 80}\n"
     ]
    }
   ],
   "source": [
    "#Ex 6\n",
    "\n",
    "stock = dict()\n",
    "\n",
    "while True:\n",
    "    item_name = input(\"Insert the item name: (Press enter with empty input to stop)\")\n",
    "    try:\n",
    "        item_quantity = int(input(\"Insert the quantity available of the item: (Press enter with empty input to stop)\"))\n",
    "    except:\n",
    "        if item_name == \"\" or str(item_quantity) == \"\":\n",
    "            print(f\"Available stock: {stock}\")\n",
    "            break\n",
    "    stock[item_name] = item_quantity"
   ]
  },
  {
   "cell_type": "code",
   "execution_count": 52,
   "id": "e1f01240",
   "metadata": {},
   "outputs": [
    {
     "name": "stdout",
     "output_type": "stream",
     "text": [
      "Updated stock: {'Notebook': 20, 'Blue pen': 120, 'Eraser': 30}\n"
     ]
    }
   ],
   "source": [
    "#Ex 7\n",
    "\n",
    "current_stock = {\"Notebook\" : 50, \"Blue pen\": 120, \"Eraser\": 30}\n",
    "\n",
    "item_name = input(\"Name of the item to be updated: \")\n",
    "if item_name in current_stock:\n",
    "    item_quantity = int(input(\"Insert the quantity the item will be updated to: \"))\n",
    "    \n",
    "    current_stock[item_name] = item_quantity\n",
    "    \n",
    "    print(f\"Updated stock: {current_stock}\")\n",
    "else:\n",
    "    print(\"Item not found in stock.\")\n",
    "\n"
   ]
  },
  {
   "cell_type": "code",
   "execution_count": null,
   "id": "3c3f0605",
   "metadata": {},
   "outputs": [
    {
     "name": "stdout",
     "output_type": "stream",
     "text": [
      "The Marathon runners names are: Foo, Bar, Foobar, Qux\n",
      "The Marathon runners ages are: 26, 21, 32, 45\n",
      "Participants full infos: \n",
      "\n",
      "- Foo: 26 years old\n",
      "- Bar: 21 years old\n",
      "- Foobar: 32 years old\n",
      "- Qux: 45 years old\n"
     ]
    }
   ],
   "source": [
    "#Ex 8 - Solution by material\n",
    "\n",
    "runners = {\"Foo\": 26, \"Bar\": 21, \"Foobar\": 32, \"Qux\": 45}\n",
    "\n",
    "print(f\"The Marathon runners names are: {', '.join(runners.keys())}\")\n",
    "print(f\"The Marathon runners ages are: {', '.join(str(ages) for ages in runners.values())}\")\n",
    "print(f\"Participants full infos: \\n\")\n",
    "for name, age in runners.items():\n",
    "    print(f\"- {name}: {age} years old\")"
   ]
  },
  {
   "cell_type": "code",
   "execution_count": null,
   "id": "e3bd58ef",
   "metadata": {},
   "outputs": [
    {
     "name": "stdout",
     "output_type": "stream",
     "text": [
      "Updated participant list: \n",
      "\n",
      " Workshop 1: {'Qux', 'Foobar', 'Foo'} \n",
      "\n",
      " Workshop 2: {'Hanna', 'James', 'Gui', 'Cat'}\n"
     ]
    }
   ],
   "source": [
    "#Ex 9\n",
    "\n",
    "participants = {\n",
    "    \"Workshop 1\": {\"Foo\",\"Bar\",\"Foobar\",\"Qux\"},\n",
    "    \"Workshop 2\": {\"Gui\",\"James\",\"Hanna\",\"Cat\"}\n",
    "}\n",
    "remove = input(\"Insert the name of the participant to be removed: \")\n",
    "\n",
    "if remove in participants[\"Workshop 1\"] or remove in participants[\"Workshop 2\"]:\n",
    "    participants[\"Workshop 1\"].discard(remove)\n",
    "    participants[\"Workshop 2\"].discard(remove)\n",
    "    print(f\"Updated participant list: \\n\\n Workshop 1: {participants['Workshop 1']} \\n\\n Workshop 2: {participants['Workshop 2']}\")\n",
    "else:\n",
    "    print(\"Name not found among participants.\")\n",
    "    "
   ]
  },
  {
   "cell_type": "code",
   "execution_count": null,
   "id": "22d891c7",
   "metadata": {},
   "outputs": [
    {
     "name": "stdout",
     "output_type": "stream",
     "text": [
      "Updated participant list: \n",
      "Workshop 1: {'Qux', 'Foobar', 'Bar', 'Foo'}\n",
      "Workshop 2: {'Hanna', 'James', 'Gui', 'Cat'}\n"
     ]
    }
   ],
   "source": [
    "#Ex 9 given soution\n",
    "\n",
    "participants = {\n",
    "    \"Workshop 1\": {\"Foo\",\"Bar\",\"Foobar\",\"Qux\"},\n",
    "    \"Workshop 2\": {\"Gui\",\"James\",\"Hanna\",\"Cat\"}\n",
    "}\n",
    "\n",
    "remove = input(\"Insert the name of the participant to be removed: \")\n",
    "\n",
    "for workshop, nomes in participants.items():\n",
    "    nomes.discard(remove)\n",
    "    \n",
    "print(\"Updated participant list: \")\n",
    "\n",
    "for workshop, nomes in participants.items():\n",
    "    \n",
    "    print(f\"{workshop}: {nomes}\")"
   ]
  },
  {
   "cell_type": "markdown",
   "id": "c0170605",
   "metadata": {},
   "source": [
    "# Ex 10"
   ]
  },
  {
   "cell_type": "code",
   "execution_count": null,
   "id": "04b76f67",
   "metadata": {},
   "outputs": [
    {
     "name": "stdout",
     "output_type": "stream",
     "text": [
      "Total value sold by category: \n",
      "- Eletronics: R$ 14500.00\n",
      "- Household appliances: R$ 9200.00\n",
      "- Books: R$1000.00\n",
      "Total value, all categories: R$ 24700\n"
     ]
    }
   ],
   "source": [
    "e_sales = 0\n",
    "h_sales = 0\n",
    "b_sales = 0\n",
    "total_sales = 0\n",
    "\n",
    "#Dictionary = table of contents\n",
    "sales = { \n",
    "\n",
    "    \"Eletronics\": [ \n",
    "\n",
    "        {\"product\": \"Smartphone\", \"quantity\": 5, \"unit_price\": 2000}, \n",
    "\n",
    "        {\"product\"\"product\": \"Tablet\", \"quantity\": 3, \"unit_price\": 1500} \n",
    "\n",
    "    ], \n",
    "\n",
    "    \"Household appliance\": [ \n",
    "\n",
    "        {\"product\": \"Refrigerator\", \"quantity\": 2, \"unit_price\": 3000}, \n",
    "\n",
    "        {\"product\": \"Microwave\", \"quantity\": 4, \"unit_price\": 800} \n",
    "\n",
    "    ], \n",
    "\n",
    "    \"Books\": [ \n",
    "\n",
    "        {\"product\": \"Book A\", \"quantity\": 10, \"unit_price\": 50}, \n",
    "\n",
    "        {\"product\": \"Book B\", \"quantity\": 5, \"unit_price\": 100} \n",
    "\n",
    "    ] \n",
    "\n",
    "} \n",
    "\n",
    "#Test print\n",
    "# print(sales[\"Eletronics\"][0].values())\n",
    "\n",
    "# x, y, z = sales[\"Eletronics\"][0].values()\n",
    "\n",
    "# print(y * z )\n",
    "\n",
    "##Total amount\n",
    "for types in sales.keys():\n",
    "    for n in range(len(sales[types])):\n",
    "        product, quantity, value = sales[types][n].values()\n",
    "        total_sales += (quantity * value)\n",
    "# print(\"Total sales: R$ \",total_sales)\n",
    "\n",
    "for n in range(len(sales[\"Eletronics\"])):\n",
    "    product, quantity, value = sales[\"Eletronics\"][n].values()\n",
    "    e_sales += (quantity * value)\n",
    "\n",
    "for n in range(len(sales[\"Household appliance\"])):\n",
    "    product, quantity, value = sales[\"Household appliance\"][n].values()\n",
    "    h_sales += (quantity * value)\n",
    "    \n",
    "for n in range(len(sales[\"Books\"])):\n",
    "    product, quantity, value = sales[\"Books\"][n].values()\n",
    "    b_sales += (quantity * value)\n",
    "    \n",
    "print(f\"Total value sold by category: \\n- Eletronics: R$ {float(e_sales):.2f}\\n- Household appliances: R$ {float(h_sales):.2f}\\n- Books: R${float(b_sales):.2f}\\nTotal value, all categories: R$ {total_sales}\")\n",
    "\n"
   ]
  },
  {
   "cell_type": "markdown",
   "id": "7cf628e0",
   "metadata": {},
   "source": [
    "# Ex 10 - Solution Given"
   ]
  },
  {
   "cell_type": "code",
   "execution_count": null,
   "id": "179376e8",
   "metadata": {},
   "outputs": [
    {
     "name": "stdout",
     "output_type": "stream",
     "text": [
      "Total sales by category: \n",
      "Eletronics: R$ 14500.00\n",
      "Household appliance: R$ 9200.00\n",
      "Books: R$ 1000.00\n"
     ]
    }
   ],
   "source": [
    "sales = { \n",
    "\n",
    "    \"Eletronics\": [ \n",
    "\n",
    "        {\"product\": \"Smartphone\", \"quantity\": 5, \"unit_price\": 2000}, \n",
    "\n",
    "        {\"product\"\"product\": \"Tablet\", \"quantity\": 3, \"unit_price\": 1500} \n",
    "\n",
    "    ], \n",
    "\n",
    "    \"Household appliance\": [ \n",
    "\n",
    "        {\"product\": \"Refrigerator\", \"quantity\": 2, \"unit_price\": 3000}, \n",
    "\n",
    "        {\"product\": \"Microwave\", \"quantity\": 4, \"unit_price\": 800} \n",
    "\n",
    "    ], \n",
    "\n",
    "    \"Books\": [ \n",
    "\n",
    "        {\"product\": \"Book A\", \"quantity\": 10, \"unit_price\": 50}, \n",
    "\n",
    "        {\"product\": \"Book B\", \"quantity\": 5, \"unit_price\": 100} \n",
    "\n",
    "    ] \n",
    "\n",
    "} \n",
    "\n",
    "print(\"Total sales by category: \")\n",
    "\n",
    "for category, items in sales.items():\n",
    "    total = 0\n",
    "    for item in items:\n",
    "        total += item[\"quantity\"] * item[\"unit_price\"]\n",
    "        \n",
    "    print(f\"{category}: R$ {total:.2f}\")"
   ]
  },
  {
   "cell_type": "markdown",
   "id": "70d4f9fc",
   "metadata": {},
   "source": [
    "Adding my tweak"
   ]
  },
  {
   "cell_type": "code",
   "execution_count": 5,
   "id": "11c2f170",
   "metadata": {},
   "outputs": [
    {
     "name": "stdout",
     "output_type": "stream",
     "text": [
      "Total sales by category: \n",
      "Eletronics: R$ 14500.00\n",
      "Household appliance: R$ 9200.00\n",
      "Books: R$ 1000.00\n",
      "Total all categories: R$ 24700.00\n"
     ]
    }
   ],
   "source": [
    "print(\"Total sales by category: \")\n",
    "\n",
    "total_sales = 0\n",
    "\n",
    "for category, items in sales.items():\n",
    "    total = 0\n",
    "    for item in items:\n",
    "        total += item[\"quantity\"] * item[\"unit_price\"]\n",
    "    total_sales += total\n",
    "    print(f\"{category}: R$ {total:.2f}\")\n",
    "print(f\"Total all categories: R$ {total_sales:.2f}\")"
   ]
  }
 ],
 "metadata": {
  "kernelspec": {
   "display_name": "Python 3",
   "language": "python",
   "name": "python3"
  },
  "language_info": {
   "codemirror_mode": {
    "name": "ipython",
    "version": 3
   },
   "file_extension": ".py",
   "mimetype": "text/x-python",
   "name": "python",
   "nbconvert_exporter": "python",
   "pygments_lexer": "ipython3",
   "version": "3.11.4"
  }
 },
 "nbformat": 4,
 "nbformat_minor": 5
}
