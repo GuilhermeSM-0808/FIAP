{
 "cells": [
  {
   "cell_type": "code",
   "execution_count": 1,
   "id": "42cdd405",
   "metadata": {},
   "outputs": [
    {
     "name": "stdout",
     "output_type": "stream",
     "text": [
      "1 2 3\n"
     ]
    }
   ],
   "source": [
    "numbers = [ 1, 2, 3]\n",
    "a, b, c = numbers\n",
    "print(a,b,c)"
   ]
  },
  {
   "cell_type": "code",
   "execution_count": 2,
   "id": "540a51f6",
   "metadata": {},
   "outputs": [
    {
     "name": "stdout",
     "output_type": "stream",
     "text": [
      "Cidade: Sao Paulo, Latidude: -23.5505, Longitude: -46.6333\n",
      "Cidade: Rio de Janeiro, Latidude: -22.9068, Longitude: -43.1729\n",
      "Cidade: Brasilia, Latidude: -15.7801, Longitude: -47.9292\n"
     ]
    }
   ],
   "source": [
    "cidade1 = (\"Sao Paulo\", -23.5505, -46.6333)\n",
    "cidade2 = (\"Rio de Janeiro\", -22.9068, -43.1729)\n",
    "cidade3 = (\"Brasilia\", -15.7801,-47.9292)\n",
    "\n",
    "cidades = [cidade1, cidade2, cidade3]\n",
    "\n",
    "for cidade in cidades:\n",
    "    nome, latidude, longitude = cidade\n",
    "    print(f\"Cidade: {nome}, Latidude: {latidude}, Longitude: {longitude}\")"
   ]
  },
  {
   "cell_type": "code",
   "execution_count": 4,
   "id": "2deb4951",
   "metadata": {},
   "outputs": [
    {
     "name": "stdout",
     "output_type": "stream",
     "text": [
      "Turkey needs to be purchased.\n"
     ]
    }
   ],
   "source": [
    "#Exercise 01\n",
    "\n",
    "available = False\n",
    "available_itens = [\"Foo\", \"Bar\", \"Foobar\", \"Sugar\", \"Bacon\", \"Apples\",\"Bananas\",\"Bread\"]\n",
    "\n",
    "check_item = str(input(\"Input the item you would like to check availability: \"))\n",
    "\n",
    "for item in available_itens:\n",
    "    if check_item == item:\n",
    "        available = True\n",
    "\n",
    "if available == True:\n",
    "    print(\"Item is available in Stock\")\n",
    "else:\n",
    "    print(f\"{check_item} needs to be purchased.\")"
   ]
  },
  {
   "cell_type": "code",
   "execution_count": 7,
   "id": "91204227",
   "metadata": {},
   "outputs": [
    {
     "name": "stdout",
     "output_type": "stream",
     "text": [
      "The item Turkey Bacon needs to be purchased.\n"
     ]
    }
   ],
   "source": [
    "#Exercise 01 provided solution\n",
    "\n",
    "available_itens = [\"Foo\", \"Bar\", \"Foobar\", \"Sugar\", \"Bacon\", \"Apples\",\"Bananas\",\"Bread\"]\n",
    "\n",
    "check_item = str(input(\"Input the item you would like to check availability: \"))\n",
    "\n",
    "if check_item in available_itens:\n",
    "   print(f\"The item {check_item} is available in stock.\")\n",
    "else:\n",
    "    print(f\"The item {check_item} needs to be purchased.\")"
   ]
  },
  {
   "cell_type": "code",
   "execution_count": 9,
   "id": "d236273d",
   "metadata": {},
   "outputs": [
    {
     "name": "stdout",
     "output_type": "stream",
     "text": [
      "Sorted grades:  [60, 70, 75, 85, 90]\n"
     ]
    }
   ],
   "source": [
    "grades = [85, 70, 90, 60, 75]\n",
    "\n",
    "grades.sort()\n",
    "\n",
    "print(\"Sorted grades: \",grades)"
   ]
  },
  {
   "cell_type": "code",
   "execution_count": 9,
   "id": "7e4acff6",
   "metadata": {},
   "outputs": [
    {
     "name": "stdout",
     "output_type": "stream",
     "text": [
      "Registered donators:  ['Foo', 'Bar', 'Foobar']\n"
     ]
    }
   ],
   "source": [
    "#Exercise 02\n",
    "\n",
    "food_donators = []\n",
    "name = str\n",
    "\n",
    "while name:\n",
    "    name = (input(\"Insert the name of the food donator: \"))\n",
    "    if name.lower() == \"exit\":\n",
    "        break\n",
    "    food_donators.append(name)\n",
    "    \n",
    "print(\"Registered donators: \",food_donators)"
   ]
  },
  {
   "cell_type": "code",
   "execution_count": 3,
   "id": "19843608",
   "metadata": {},
   "outputs": [
    {
     "name": "stdout",
     "output_type": "stream",
     "text": [
      "Registered Donators:  ['Foo', 'Bar', 'Foobar']\n"
     ]
    }
   ],
   "source": [
    "#Exercise 02 provided solution\n",
    "\n",
    "food_donators = []\n",
    "\n",
    "while True:\n",
    "    name = input(\"Insert the donators name: (Or exit to end program)\")\n",
    "    if name.lower() == \"exit\":\n",
    "        break\n",
    "    food_donators.append(name)\n",
    "    \n",
    "print(\"Registered Donators: \",food_donators)"
   ]
  },
  {
   "cell_type": "code",
   "execution_count": null,
   "id": "a56278f0",
   "metadata": {},
   "outputs": [
    {
     "name": "stdout",
     "output_type": "stream",
     "text": [
      "All available stock: \n",
      "('Rice', 'Benas', 'Pasta', 'Oil', 'Salt', 'Sugar')\n"
     ]
    }
   ],
   "source": [
    "#Exericse 03\n",
    "\n",
    "stock01 = (\"Rice\",\"Benas\",\"Pasta\")\n",
    "stock02 = (\"Oil\",\"Salt\",\"Sugar\")\n",
    "\n",
    "all_stock = stock01 + stock02\n",
    "\n",
    "print(f\"All available stock: \\n{all_stock}\")"
   ]
  },
  {
   "cell_type": "code",
   "execution_count": null,
   "id": "34270736",
   "metadata": {},
   "outputs": [
    {
     "name": "stdout",
     "output_type": "stream",
     "text": [
      "All available stock: \n",
      "('Rice', 'Beans', 'Pasta', 'Flour', 'Oil', 'Salt', 'Sugar', 'Black Pepper')\n"
     ]
    }
   ],
   "source": [
    "#Exercise 03 provided solution\n",
    "\n",
    "stock01 = tuple(input(\"Insert the product names in stock 1 (separeted by commas ',') : \").split(\", \"))\n",
    "stock02 = tuple(input(\"Insert the product names in stock 2 (separeted by commas ',') : \").split(\", \"))\n",
    "\n",
    "all_stock = stock01 + stock02\n",
    "\n",
    "print(f\"All available stock: \\n{all_stock}\")"
   ]
  },
  {
   "cell_type": "code",
   "execution_count": null,
   "id": "549e18a7",
   "metadata": {},
   "outputs": [
    {
     "name": "stdout",
     "output_type": "stream",
     "text": [
      "Current guest list: \n",
      "['Foo', 'Bar', 'Foobar']\n",
      "Updated guest list: \n",
      "['Qux', 'Foo', 'Bar', 'Foobar']\n"
     ]
    }
   ],
   "source": [
    "#Exercise 04\n",
    "\n",
    "Guest_List = [\"Foo\",\"Bar\",\"Foobar\"]\n",
    "print(f\"Current guest list: \\n{Guest_List}\")\n",
    "\n",
    "name = str(input(\"Insert the name of the guest: \"))\n",
    "position = int(input(\"Insert the position you would to add the guest in: \")) - 1\n",
    "\n",
    "Guest_List.insert(position, name)\n",
    "\n",
    "print(f\"Updated guest list: \\n{Guest_List}\")"
   ]
  },
  {
   "cell_type": "code",
   "execution_count": 21,
   "id": "f5586a1f",
   "metadata": {},
   "outputs": [
    {
     "name": "stdout",
     "output_type": "stream",
     "text": [
      "Corrected event order:  ['Opening Ceremony', 'Foo Conference', 'Bar Presentation', 'Closing Ceromony']\n"
     ]
    }
   ],
   "source": [
    "#Exercise 05\n",
    "\n",
    "registered_events = ['Closing Ceromony','Bar Presentation','Foo Conference','Opening Ceremony']\n",
    "\n",
    "registered_events.reverse()\n",
    "\n",
    "print(f\"Corrected event order: \", registered_events)"
   ]
  },
  {
   "cell_type": "code",
   "execution_count": null,
   "id": "c6f341d6",
   "metadata": {},
   "outputs": [
    {
     "name": "stdout",
     "output_type": "stream",
     "text": [
      "The name Bar was replaced by Qux.\n",
      "Updated list: ['Foo', 'Foobar', 'Qux']\n"
     ]
    }
   ],
   "source": [
    "#Exercise 06\n",
    "\n",
    "a_list = [\"Foo\",\"Bar\",\"Foobar\"]\n",
    "\n",
    "incorrect = str(input(\"Insert the incorrect name: \"))\n",
    "correction = str(input(\"Insert the correct name: \"))\n",
    "\n",
    "list.remove(incorrect)\n",
    "list.append(correction)\n",
    "\n",
    "print(f\"The name {incorrect} was replaced by {correction}.\\nUpdated list: {list}\")"
   ]
  },
  {
   "cell_type": "code",
   "execution_count": null,
   "id": "4739a0e5",
   "metadata": {},
   "outputs": [
    {
     "name": "stdout",
     "output_type": "stream",
     "text": [
      "The name Bar was replaced by Qux.\n",
      "Updated list: ['Foo', 'Qux', 'Foobar']\n"
     ]
    }
   ],
   "source": [
    "#Exercise 06 v2\n",
    "\n",
    "a_list = ['Foo','Bar','Foobar']\n",
    "\n",
    "incorrect = str(input('Insert the name incorrect name: '))\n",
    "correction = str(input('Insert the correct name: '))\n",
    "\n",
    "position = list.index(incorrect)\n",
    "list.remove(incorrect)\n",
    "list.insert(position, correction)\n",
    "\n",
    "print(f\"The name {incorrect} was replaced by {correction}.\\nUpdated list: {list}\")"
   ]
  },
  {
   "cell_type": "code",
   "execution_count": null,
   "id": "719619c0",
   "metadata": {},
   "outputs": [
    {
     "name": "stdout",
     "output_type": "stream",
     "text": [
      "Current List:  ['Foo', 'Bar', 'Foobar']\n",
      "The name Bar was replaced by Qux.\n",
      "The updated list: ['Foo', 'Qux', 'Foobar']\n"
     ]
    }
   ],
   "source": [
    "#Exercise 06 solution provided\n",
    "\n",
    "a_list = ['Foo','Bar','Foobar']\n",
    "print(\"Current List: \", list)\n",
    "\n",
    "incorrect = str(input(\"Insert the name to be corrected: \"))\n",
    "if incorrect in list:\n",
    "    correction = str(input('Insert the correct name: '))\n",
    "    position = list.index(incorrect)\n",
    "    list.remove(incorrect)\n",
    "    list.insert(position, correction)\n",
    "    \n",
    "    print(f'The name {incorrect} was replaced by {correction}.\\nThe updated list: {list}')\n",
    "else:\n",
    "    print('Incorrect name was not found on the list.')"
   ]
  },
  {
   "cell_type": "code",
   "execution_count": 17,
   "id": "fad77655",
   "metadata": {},
   "outputs": [
    {
     "name": "stdout",
     "output_type": "stream",
     "text": [
      "Updated order:  ['Foo', 'Bar', 'Foobar', 'Qux']\n"
     ]
    }
   ],
   "source": [
    "# Exercise 07\n",
    "\n",
    "Orders = (input(\"Insert the ordered items (separated by commas ','): \").split(\", \"))\n",
    "\n",
    "rmv_last = input('Remove last item? Input y or n')\n",
    "\n",
    "if rmv_last == 'y':\n",
    "    Orders.remove(Orders[-1])\n",
    "    \n",
    "    print(\"Updated order: \", Orders)\n",
    "else:\n",
    "    print(\"Inserted Order: \", Orders)    "
   ]
  },
  {
   "cell_type": "code",
   "execution_count": null,
   "id": "0b63aee9",
   "metadata": {},
   "outputs": [
    {
     "name": "stdout",
     "output_type": "stream",
     "text": [
      "Final Order:  ['Foo', 'Bar', 'Foobar', 'Qux']\n"
     ]
    }
   ],
   "source": [
    "#Exercise 07 provided solution\n",
    "\n",
    "Orders = input(\"Insert the order (items separated by comma ','): \").split(\", \")\n",
    "\n",
    "Orders.pop()\n",
    "\n",
    "print(\"Final Order: \", Orders)"
   ]
  },
  {
   "cell_type": "code",
   "execution_count": 32,
   "id": "5a5ade98",
   "metadata": {},
   "outputs": [
    {
     "name": "stdout",
     "output_type": "stream",
     "text": [
      "The class average grade is 7.88\n"
     ]
    }
   ],
   "source": [
    "#Exercise 08\n",
    "total = 0\n",
    "\n",
    "\n",
    "grades = (input('Insert the students grades (separated by comma \",\"): ').split(', '))\n",
    "\n",
    "\n",
    "for g in grades:\n",
    "    total += float(g)\n",
    "avg = total / len(grades)\n",
    "\n",
    "print(f\"The class average grade is {avg:.2f}\")"
   ]
  },
  {
   "cell_type": "code",
   "execution_count": null,
   "id": "8f9131db",
   "metadata": {},
   "outputs": [
    {
     "name": "stdout",
     "output_type": "stream",
     "text": [
      "['8.5', '7.0', '9.2', '6.8']\n",
      "[8.5, 7.0, 9.2, 6.8]\n",
      "The class average is 7.88\n"
     ]
    }
   ],
   "source": [
    "#Exercise 08 provided solution\n",
    "\n",
    "grades = input(\"Insert the student grades separated by comma ','\").split(\", \")\n",
    "grades = [float(g) for g in grades]\n",
    "avg = sum(grades) / len(grades)\n",
    "\n",
    "print(f\"The class average is {avg:.2f}\")"
   ]
  },
  {
   "cell_type": "code",
   "execution_count": 54,
   "id": "9710c757",
   "metadata": {},
   "outputs": [
    {
     "name": "stdout",
     "output_type": "stream",
     "text": [
      "Student: Foo\n",
      "Age: 16\n",
      "Grade: 8.0\n",
      "\n",
      "Student: Bar\n",
      "Age: 21\n",
      "Grade: 3.2\n",
      "\n",
      "Student: Foobar\n",
      "Age: 15\n",
      "Grade: 9.3\n",
      "\n",
      "Student: Qux\n",
      "Age: 17\n",
      "Grade: 6.4\n",
      "\n"
     ]
    }
   ],
   "source": [
    "#Exercise 09\n",
    "\n",
    "info = input(\"Insert the name, age and final grade of each student separated by commas ',': \").split(\", \")\n",
    "\n",
    "if len(info)%3 == 0:\n",
    "    for i in range(0, (len(info)), 3):\n",
    "        name = info[i]\n",
    "        age = info[i+1]\n",
    "        grade = info[i+2]        \n",
    "        print(f\"Student: {name}\\nAge: {age}\\nGrade: {grade}\\n\")\n",
    "else:\n",
    "    print(\"Incorrect amount inputed\")"
   ]
  },
  {
   "cell_type": "code",
   "execution_count": 55,
   "id": "956794d8",
   "metadata": {},
   "outputs": [
    {
     "name": "stdout",
     "output_type": "stream",
     "text": [
      "Student: Foo\n",
      "Age: 16\n",
      "Grade: 8.0\n",
      "\n",
      "Student: Bar\n",
      "Age: 21\n",
      "Grade: 3.2\n",
      "\n",
      "Student: Foobar\n",
      "Age: 15\n",
      "Grade: 9.3\n",
      "\n",
      "Student: Qux\n",
      "Age: 17\n",
      "Grade: 6.4\n",
      "\n"
     ]
    }
   ],
   "source": [
    "#Exercise 09 provided solution\n",
    "\n",
    "info = input(\"Insert the name, age and final grade of each student separated by commas ',': \").split(\", \")\n",
    "\n",
    "if len(info)%3 == 0:\n",
    "    for i in range(0, (len(info)), 3):\n",
    "        name, age, grade = info[i], info[i+1], info[i+2]       \n",
    "        print(f\"Student: {name}\\nAge: {age}\\nGrade: {grade}\\n\")\n",
    "else:\n",
    "    print(\"Incorrect amount inputed\")"
   ]
  }
 ],
 "metadata": {
  "kernelspec": {
   "display_name": "Python 3",
   "language": "python",
   "name": "python3"
  },
  "language_info": {
   "codemirror_mode": {
    "name": "ipython",
    "version": 3
   },
   "file_extension": ".py",
   "mimetype": "text/x-python",
   "name": "python",
   "nbconvert_exporter": "python",
   "pygments_lexer": "ipython3",
   "version": "3.11.4"
  }
 },
 "nbformat": 4,
 "nbformat_minor": 5
}
