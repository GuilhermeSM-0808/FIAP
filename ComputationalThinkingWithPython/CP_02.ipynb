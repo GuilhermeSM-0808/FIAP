{
 "cells": [
  {
   "cell_type": "markdown",
   "metadata": {},
   "source": [
    "#### 4\n",
    "Crie um algoritmo que permita ao usuário adicionar 10 itens e seus respectivos valores a duas listas (lista_produtos e lista_preco).\n",
    "Utilize uma estrutura de repetição while para solicitar as informações dos itens e seus valores. Em seguida, utilize uma estrutura de repetição for ou while para calcular o valor total da compra e o valor médio dos itens."
   ]
  },
  {
   "cell_type": "code",
   "execution_count": 6,
   "metadata": {},
   "outputs": [
    {
     "name": "stdout",
     "output_type": "stream",
     "text": [
      "O valor total da compra é: R$50.00\n",
      "O valor médio da compra é: R$5.00\n"
     ]
    }
   ],
   "source": [
    "lista_produtos = []\n",
    "lista_precos = []\n",
    "\n",
    "while (len(lista_produtos) < 10) and (len(lista_precos) < 10):\n",
    "    lista_produtos.append(input(\"Insira o nome do produto: \"))\n",
    "    lista_precos.append(float(input(\"Insira o preço do produto: \")))\n",
    "\n",
    "\n",
    "valor_total = 0\n",
    "media_do_total = 0\n",
    "\n",
    "for valor in lista_precos:\n",
    "    valor_total += valor\n",
    "\n",
    "media_do_total = valor_total / len(lista_precos)\n",
    "\n",
    "print(f\"O valor total da compra é: R${valor_total:.2f}\\nO valor médio da compra é: R${media_do_total:.2f}\")\n",
    "\n",
    "# O programa pede ao usuario pelo nome de produtos e seus preços e os adiciona a listas, até as listas possuirem 10 produtos e 10 preços\n",
    "#Depois o programa calcula a total e a media e depois os mostra na tela"
   ]
  },
  {
   "cell_type": "markdown",
   "metadata": {},
   "source": [
    "### 5\n",
    "\n",
    "Crie um algoritmo para filtrar nomes curtos e longos.\n",
    "Inicialmente, solicite 10 nomes ao usuário e armazene-os em uma lista. Posteriormente, crie um filtro que permita separar os nomes com até 5 caracteres (inclusive) e os com mais de 5 caracteres, armazenando-os em duas listas: lista_nomes_curtos e lista_nomes_longos.\n",
    "Utilize uma estrutura de repetição for ou while: uma para solicitar os nomes ao usuário e outra para realizar o filtro."
   ]
  },
  {
   "cell_type": "code",
   "execution_count": 8,
   "metadata": {},
   "outputs": [
    {
     "name": "stdout",
     "output_type": "stream",
     "text": [
      "Nomes curtos:  Foo, Bar, Fubar, James, Hanna, Gui\n",
      "Nomes longos:  Guilherme, Python, HelloWorld, Quuuuuux\n"
     ]
    }
   ],
   "source": [
    "lista_nomes = []\n",
    "lista_nomes_curtos = []\n",
    "lista_nomes_longos = []\n",
    "\n",
    "while len(lista_nomes) < 10:\n",
    "    lista_nomes.append(input(\"Insira um nome para a lista: \"))\n",
    "\n",
    "for nome in lista_nomes:\n",
    "    if len(nome) <= 5:\n",
    "        lista_nomes_curtos.append(nome)\n",
    "    else:    \n",
    "        lista_nomes_longos.append(nome)\n",
    "\n",
    "print(\"Nomes curtos: \", ', '.join(lista_nomes_curtos))\n",
    "print(\"Nomes longos: \", ', '.join(lista_nomes_longos))\n",
    "\n",
    "# O programa pede para ao usuario um nome e o adiciona a lista (lista_nomes), até a lista possuir 10 nomes\n",
    "# Depois o programa verifica todos os nomes e caso eles possuam menos de 5 caracteres, os adiciona a lista de nomes curtos (lista_nomes_curtos), caso contrario a lista de nomes longos (lista_nomes_longos)\n",
    "# Finalizando mostrando as duas listas para o Usuario (print das listas)"
   ]
  },
  {
   "cell_type": "markdown",
   "metadata": {},
   "source": [
    "### 6\n",
    "\n",
    "Crie um algoritmo que permita ao usuário criar uma lista de tarefas com prioridade.\n",
    "Permita que o usuário adicione 8 tarefas com suas respectivas prioridades (por exemplo: \"Estudar Python - Alta\"). Armazene cada tarefa como uma string em uma lista vazia. Use uma estrutura de repetição for ou while para a entrada de dados e, ao final, retorne a lista de tarefas ordenada por prioridade (Alta, Média, Baixa)."
   ]
  },
  {
   "cell_type": "code",
   "execution_count": 13,
   "metadata": {},
   "outputs": [
    {
     "name": "stdout",
     "output_type": "stream",
     "text": [
      "Lista de tarefas: \n",
      "Dormir - ALTA\n",
      "wow - Alta\n",
      "Comer - meDIA\n",
      "Dor - BaixA\n"
     ]
    }
   ],
   "source": [
    "lista_tarefas = []\n",
    "\n",
    "while len(lista_tarefas) < 8:\n",
    "    lista_tarefas.append(input(\"Insira o nome da tarefa e o nivel de prioridade no final (Alta, Media, Baixa)\"))\n",
    "\n",
    "print(\"Lista de tarefas: \")\n",
    "\n",
    "for tarefa in lista_tarefas:\n",
    "    if \"alta\" in tarefa.lower():\n",
    "        print(tarefa)\n",
    "for tarefa in lista_tarefas:\n",
    "    if \"media\" in tarefa.lower():\n",
    "        print(tarefa)\n",
    "for tarefa in lista_tarefas:\n",
    "    if \"baixa\" in tarefa.lower():\n",
    "        print(tarefa)\n",
    "\n",
    "# O programa pede ao usuario por tarefas e seus niveis de prioridade no mesmo input e depois adiciona o input do usuario a lista de tarefas (lista_tarefas)\n",
    "# Depois o programa verifica todos os itens da lista três vezes, na primeria vez SE o item da lista possui a prioridade mais alta (\"alta\") dentro do item (string), ele mostra o item primeiro ao usuario (dá print da string)."
   ]
  }
 ],
 "metadata": {
  "kernelspec": {
   "display_name": "base",
   "language": "python",
   "name": "python3"
  },
  "language_info": {
   "codemirror_mode": {
    "name": "ipython",
    "version": 3
   },
   "file_extension": ".py",
   "mimetype": "text/x-python",
   "name": "python",
   "nbconvert_exporter": "python",
   "pygments_lexer": "ipython3",
   "version": "3.11.7"
  }
 },
 "nbformat": 4,
 "nbformat_minor": 2
}
