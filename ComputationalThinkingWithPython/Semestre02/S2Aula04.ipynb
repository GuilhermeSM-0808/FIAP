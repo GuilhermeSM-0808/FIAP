{
 "cells": [
  {
   "cell_type": "markdown",
   "id": "c122b176",
   "metadata": {},
   "source": [
    "# Aula 04 - lambda"
   ]
  },
  {
   "cell_type": "markdown",
   "id": "8a5c6fb0",
   "metadata": {},
   "source": [
    "lambda, map, sort, filter"
   ]
  },
  {
   "cell_type": "code",
   "execution_count": 65,
   "id": "bcc9dc70",
   "metadata": {},
   "outputs": [
    {
     "name": "stdout",
     "output_type": "stream",
     "text": [
      "7\n"
     ]
    }
   ],
   "source": [
    "soma = lambda x, y: x + y\n",
    "\n",
    "print(soma(2,5))"
   ]
  },
  {
   "cell_type": "markdown",
   "id": "b5af8ec9",
   "metadata": {},
   "source": [
    "### Ex. 1"
   ]
  },
  {
   "cell_type": "code",
   "execution_count": 66,
   "id": "8ef2ef99",
   "metadata": {},
   "outputs": [],
   "source": [
    "soma = lambda x, y: x + y\n",
    "subtracao = lambda x, y: x - y\n",
    "divisao = lambda x, y: x/y\n",
    "multiplicacao = lambda x, y: x*y"
   ]
  },
  {
   "cell_type": "code",
   "execution_count": 67,
   "id": "c7096c02",
   "metadata": {},
   "outputs": [
    {
     "data": {
      "text/plain": [
       "12"
      ]
     },
     "execution_count": 67,
     "metadata": {},
     "output_type": "execute_result"
    }
   ],
   "source": [
    "soma(4,8)"
   ]
  },
  {
   "cell_type": "code",
   "execution_count": 68,
   "id": "816edf19",
   "metadata": {},
   "outputs": [
    {
     "data": {
      "text/plain": [
       "-4"
      ]
     },
     "execution_count": 68,
     "metadata": {},
     "output_type": "execute_result"
    }
   ],
   "source": [
    "subtracao(4,8)"
   ]
  },
  {
   "cell_type": "code",
   "execution_count": 69,
   "id": "06e0b9ab",
   "metadata": {},
   "outputs": [
    {
     "data": {
      "text/plain": [
       "0.5"
      ]
     },
     "execution_count": 69,
     "metadata": {},
     "output_type": "execute_result"
    }
   ],
   "source": [
    "divisao(4,8)"
   ]
  },
  {
   "cell_type": "code",
   "execution_count": 70,
   "id": "887e4be2",
   "metadata": {},
   "outputs": [
    {
     "data": {
      "text/plain": [
       "32"
      ]
     },
     "execution_count": 70,
     "metadata": {},
     "output_type": "execute_result"
    }
   ],
   "source": [
    "multiplicacao(4,8)"
   ]
  },
  {
   "cell_type": "markdown",
   "id": "e2dfac2b",
   "metadata": {},
   "source": [
    "### Ex. 2"
   ]
  },
  {
   "cell_type": "code",
   "execution_count": 71,
   "id": "284a5db6",
   "metadata": {},
   "outputs": [
    {
     "data": {
      "text/plain": [
       "'Hoje é Quarta-feira.'"
      ]
     },
     "execution_count": 71,
     "metadata": {},
     "output_type": "execute_result"
    }
   ],
   "source": [
    "concatenar = lambda var1, var2: var1 + \" é \" + var2\n",
    "concatenar(\"Hoje\",\"Quarta-feira.\")"
   ]
  },
  {
   "cell_type": "markdown",
   "id": "e7aeda2a",
   "metadata": {},
   "source": [
    "### Ex. 3"
   ]
  },
  {
   "cell_type": "code",
   "execution_count": 72,
   "id": "2914553c",
   "metadata": {},
   "outputs": [
    {
     "data": {
      "text/plain": [
       "('TINY', 'big')"
      ]
     },
     "execution_count": 72,
     "metadata": {},
     "output_type": "execute_result"
    }
   ],
   "source": [
    "maiusculo = lambda z: z.upper()\n",
    "minusculo = lambda n: n.lower()\n",
    "\n",
    "maiusculo(\"tiny\"), minusculo(\"BIG\")"
   ]
  },
  {
   "cell_type": "markdown",
   "id": "1776260f",
   "metadata": {},
   "source": [
    "### Ex. 4 - condição"
   ]
  },
  {
   "cell_type": "code",
   "execution_count": 73,
   "id": "8b1e283a",
   "metadata": {},
   "outputs": [
    {
     "data": {
      "text/plain": [
       "'boa'"
      ]
     },
     "execution_count": 73,
     "metadata": {},
     "output_type": "execute_result"
    }
   ],
   "source": [
    "avaliacao = lambda nota: 'boa' if nota >= 7 else('regular' if nota >= 5 else 'ruim')\n",
    "avaliacao(7)"
   ]
  },
  {
   "cell_type": "markdown",
   "id": "727cc0ff",
   "metadata": {},
   "source": [
    "### Ex. 5 - exercicio"
   ]
  },
  {
   "cell_type": "code",
   "execution_count": 74,
   "id": "e4148132",
   "metadata": {},
   "outputs": [
    {
     "data": {
      "text/plain": [
       "('criança', 'adulto', 'adolescente', 'idoso')"
      ]
     },
     "execution_count": 74,
     "metadata": {},
     "output_type": "execute_result"
    }
   ],
   "source": [
    "fase = lambda idade: 'criança' if idade < 12 else('adolescente' if idade < 18 else('adulto' if idade < 60 else 'idoso'))\n",
    "\n",
    "fase(6), fase(30), fase(17), fase(64)"
   ]
  },
  {
   "cell_type": "markdown",
   "id": "f1612bc4",
   "metadata": {},
   "source": [
    "### Ex. 6 - lambda e listas"
   ]
  },
  {
   "cell_type": "code",
   "execution_count": 75,
   "id": "dc4a858e",
   "metadata": {},
   "outputs": [
    {
     "data": {
      "text/plain": [
       "[100, 400, 900, 1600, 2500]"
      ]
     },
     "execution_count": 75,
     "metadata": {},
     "output_type": "execute_result"
    }
   ],
   "source": [
    "numeros = [10, 20, 30, 40, 50]\n",
    "\n",
    "quadrado = list(map(lambda x: x**2, numeros))\n",
    "\n",
    "quadrado"
   ]
  },
  {
   "cell_type": "markdown",
   "id": "e83dc6f2",
   "metadata": {},
   "source": [
    "### Ex. 7"
   ]
  },
  {
   "cell_type": "code",
   "execution_count": 76,
   "id": "f0a388fa",
   "metadata": {},
   "outputs": [
    {
     "data": {
      "text/plain": [
       "['LAMBDA', 'É', 'MUITO', 'UTIL!']"
      ]
     },
     "execution_count": 76,
     "metadata": {},
     "output_type": "execute_result"
    }
   ],
   "source": [
    "palavras = ['lambda','é','muito', 'util!']\n",
    "\n",
    "maiusculas = list(map(lambda x: x.upper(), palavras))\n",
    "\n",
    "maiusculas"
   ]
  },
  {
   "cell_type": "markdown",
   "id": "4d487045",
   "metadata": {},
   "source": [
    "### Ex. 8"
   ]
  },
  {
   "cell_type": "code",
   "execution_count": 77,
   "id": "e9d3b73b",
   "metadata": {},
   "outputs": [
    {
     "data": {
      "text/plain": [
       "[6, 1, 5, 5]"
      ]
     },
     "execution_count": 77,
     "metadata": {},
     "output_type": "execute_result"
    }
   ],
   "source": [
    "palavras = ['lambda','é','muito', 'util!']\n",
    "comprimento = list(map(lambda p: len(p), palavras))\n",
    "\n",
    "comprimento"
   ]
  },
  {
   "cell_type": "markdown",
   "id": "c3ab4ac3",
   "metadata": {},
   "source": [
    "### Ex. 8.5 - exemplo próprio"
   ]
  },
  {
   "cell_type": "code",
   "execution_count": 78,
   "id": "a0e1f7e6",
   "metadata": {},
   "outputs": [
    {
     "data": {
      "text/plain": [
       "['adbmal', 'é', 'otium', '!litu']"
      ]
     },
     "execution_count": 78,
     "metadata": {},
     "output_type": "execute_result"
    }
   ],
   "source": [
    "palavras = ['lambda','é','muito', 'util!']\n",
    "\n",
    "inverso = list(map(lambda p: p[::-1], palavras))\n",
    "\n",
    "inverso"
   ]
  },
  {
   "cell_type": "markdown",
   "id": "7d0793fe",
   "metadata": {},
   "source": [
    "### Ex. 9 - filter"
   ]
  },
  {
   "cell_type": "code",
   "execution_count": 79,
   "id": "52bc376b",
   "metadata": {},
   "outputs": [
    {
     "data": {
      "text/plain": [
       "[10, 40, 52, 1000]"
      ]
     },
     "execution_count": 79,
     "metadata": {},
     "output_type": "execute_result"
    }
   ],
   "source": [
    "numeros = [10, 21, 33, 40, 52, 101, 1000]\n",
    "\n",
    "pares = list(filter(lambda n: n % 2 == 0, numeros))\n",
    "\n",
    "pares"
   ]
  },
  {
   "cell_type": "code",
   "execution_count": 80,
   "id": "7d967f92",
   "metadata": {},
   "outputs": [
    {
     "data": {
      "text/plain": [
       "[21, 33, 101]"
      ]
     },
     "execution_count": 80,
     "metadata": {},
     "output_type": "execute_result"
    }
   ],
   "source": [
    "impares = list(filter(lambda n: n % 2 != 0, numeros))\n",
    "\n",
    "impares"
   ]
  },
  {
   "cell_type": "markdown",
   "id": "27d958f5",
   "metadata": {},
   "source": [
    "### Ex. 10"
   ]
  },
  {
   "cell_type": "code",
   "execution_count": 81,
   "id": "67ef8790",
   "metadata": {},
   "outputs": [
    {
     "data": {
      "text/plain": [
       "['carro', 'caminhão']"
      ]
     },
     "execution_count": 81,
     "metadata": {},
     "output_type": "execute_result"
    }
   ],
   "source": [
    "palavras = ['carro', 'bicicleta', 'avião', 'caminhão']\n",
    "\n",
    "correcao = list(filter(lambda var1: var1.startswith('c'), palavras))\n",
    "\n",
    "correcao"
   ]
  },
  {
   "cell_type": "markdown",
   "id": "fc21e96b",
   "metadata": {},
   "source": [
    "### Ex. 11"
   ]
  },
  {
   "cell_type": "code",
   "execution_count": 82,
   "id": "b6db9bec",
   "metadata": {},
   "outputs": [
    {
     "data": {
      "text/plain": [
       "['Olá, foo!', 'Olá, bar!', 'Olá, quox!']"
      ]
     },
     "execution_count": 82,
     "metadata": {},
     "output_type": "execute_result"
    }
   ],
   "source": [
    "nomes = ['foo', 'bar', 'quox']\n",
    "\n",
    "formatados = list(map(lambda p: f'Olá, {p}!', nomes))\n",
    "\n",
    "formatados"
   ]
  },
  {
   "cell_type": "markdown",
   "id": "9684af72",
   "metadata": {},
   "source": [
    "### Ex. 12 - sort"
   ]
  },
  {
   "cell_type": "code",
   "execution_count": 83,
   "id": "f84af786",
   "metadata": {},
   "outputs": [
    {
     "data": {
      "text/plain": [
       "[['uva', 15], ['pera', 4], ['maça', 2], ['banana', 10]]"
      ]
     },
     "execution_count": 83,
     "metadata": {},
     "output_type": "execute_result"
    }
   ],
   "source": [
    "tuplas = (['maça', 2], ['banana', 10], ['pera', 4], ['uva', 15])\n",
    "\n",
    "ordena = sorted(tuplas, key=lambda x: x[0], reverse=True)\n",
    "\n",
    "ordena"
   ]
  },
  {
   "cell_type": "markdown",
   "id": "13fe0bd5",
   "metadata": {},
   "source": [
    "### Ex. 13"
   ]
  },
  {
   "cell_type": "code",
   "execution_count": 84,
   "id": "72a0976c",
   "metadata": {},
   "outputs": [
    {
     "data": {
      "text/plain": [
       "[['banana', 10], ['uva', 15]]"
      ]
     },
     "execution_count": 84,
     "metadata": {},
     "output_type": "execute_result"
    }
   ],
   "source": [
    "tuplas = (['maça', 2], ['banana', 10], ['pera', 4], ['uva', 15])\n",
    "\n",
    "filtrar_quantidades = list(filter(lambda x: x[1] > 9, tuplas))\n",
    "\n",
    "filtrar_quantidades"
   ]
  },
  {
   "cell_type": "markdown",
   "id": "91cd6e09",
   "metadata": {},
   "source": [
    "### Ex. 14"
   ]
  },
  {
   "cell_type": "code",
   "execution_count": 85,
   "id": "2298ac27",
   "metadata": {},
   "outputs": [
    {
     "data": {
      "text/plain": [
       "[['João', 42]]"
      ]
     },
     "execution_count": 85,
     "metadata": {},
     "output_type": "execute_result"
    }
   ],
   "source": [
    "nomes = (['Ana', 23], ['Bruno', 35],['Gui', 27], ['João', 42])\n",
    "\n",
    "filtrar_nomes = (list(filter(lambda x: len(x[0]) == 4, nomes)))\n",
    "\n",
    "filtrar_nomes"
   ]
  },
  {
   "cell_type": "markdown",
   "id": "f925b738",
   "metadata": {},
   "source": [
    "### Ex. 14.5"
   ]
  },
  {
   "cell_type": "code",
   "execution_count": 86,
   "id": "22a77d71",
   "metadata": {},
   "outputs": [
    {
     "data": {
      "text/plain": [
       "[['Bruno', 35], ['Gui', 27]]"
      ]
     },
     "execution_count": 86,
     "metadata": {},
     "output_type": "execute_result"
    }
   ],
   "source": [
    "nomes = (['Ana', 23], ['Bruno', 35],['Gui', 27], ['João', 42])\n",
    "\n",
    "filtrar_nomes = (list(filter(lambda x: 'u' in x[0], nomes)))\n",
    "\n",
    "filtrar_nomes"
   ]
  },
  {
   "cell_type": "markdown",
   "id": "703f3988",
   "metadata": {},
   "source": [
    "### Ex. 15 -  minha solução"
   ]
  },
  {
   "cell_type": "code",
   "execution_count": 97,
   "id": "fd81f112",
   "metadata": {},
   "outputs": [
    {
     "name": "stdout",
     "output_type": "stream",
     "text": [
      "[1] - Clinico Geral\n",
      "[2] - Dermatologista\n",
      "[3] - Cardiologista\n",
      "[4] - Ortopedista\n",
      "\n",
      "Lista Original:[['Gui', 27, 'Clinico Geral', 500.0], ['Jose', 33, 'Cardiologista', 800.0], ['Ana', 19, 'Dermatologista', 700.0], ['Bruno', 45, 'Cardiologista', 800.0], ['Foobar', 64, 'Ortopedista', 600.0]]\n",
      "\n",
      "Lista ordenada por Especilidade: [['Jose', 33, 'Cardiologista', 800.0], ['Bruno', 45, 'Cardiologista', 800.0], ['Gui', 27, 'Clinico Geral', 500.0], ['Ana', 19, 'Dermatologista', 700.0], ['Foobar', 64, 'Ortopedista', 600.0]]\n",
      "Lista ordenada por Nome: [['Ana', 19, 'Dermatologista', 700.0], ['Bruno', 45, 'Cardiologista', 800.0], ['Foobar', 64, 'Ortopedista', 600.0], ['Gui', 27, 'Clinico Geral', 500.0], ['Jose', 33, 'Cardiologista', 800.0]]\n",
      "Lista ordenada por Custo: [['Gui', 27, 'Clinico Geral', 500.0], ['Foobar', 64, 'Ortopedista', 600.0], ['Ana', 19, 'Dermatologista', 700.0], ['Jose', 33, 'Cardiologista', 800.0], ['Bruno', 45, 'Cardiologista', 800.0]]\n"
     ]
    }
   ],
   "source": [
    "especialidades = ('Clinico Geral', 'Dermatologista','Cardiologista','Ortopedista')\n",
    "custos_por_especialidade = []\n",
    "\n",
    "for i in range(len(especialidades)):\n",
    "    print(f\"[{i+1}] - {especialidades[i]}\")\n",
    "\n",
    "lista_pacientes = []\n",
    "for i in range(5):\n",
    "    info_paciente = []\n",
    "    nome = input(\"Insira o nome do paciente: \")\n",
    "    info_paciente.append(nome)\n",
    "    idade = int(input(\"Insira a idade do paciente: \"))\n",
    "    info_paciente.append(idade)\n",
    "    especialidade = int(input(\"Insira o numero referente a especialidade que o paciente quer ser atendido por: \"))\n",
    "    info_paciente.append(especialidades[especialidade - 1])\n",
    "    lista_pacientes.append(info_paciente)\n",
    "\n",
    "for esp in especialidades:\n",
    "    custo = float(input(f\"Insira o custo da consulta para {esp}:\"))\n",
    "    custos_por_especialidade.append(custo)\n",
    "\n",
    "custo_esp = lambda x: custos_por_especialidade[0] if x == especialidades[0] else(custos_por_especialidade[1] if x == especialidades[1] else(custos_por_especialidade[2] if x == especialidades[2] else custos_por_especialidade[3] ) ) \n",
    "\n",
    "for p in lista_pacientes:\n",
    "    p.append(custo_esp(p[2]))\n",
    "\n",
    "\n",
    "\n",
    "print('\\nLista Original:' + str(lista_pacientes) + '\\n')\n",
    "\n",
    "\n",
    "\n",
    "ordenar_esp = sorted(lista_pacientes, key=lambda e: e[2])\n",
    "\n",
    "ordenar_nome = sorted(lista_pacientes, key=lambda e: e[0])\n",
    "\n",
    "ordenar_custo = sorted(lista_pacientes, key=lambda e: e[3])\n",
    "\n",
    "print(\"Lista ordenada por Especilidade: \" + str(ordenar_esp))\n",
    "print(\"Lista ordenada por Nome: \" + str(ordenar_nome))\n",
    "print(\"Lista ordenada por Custo: \" + str(ordenar_custo))\n",
    "    "
   ]
  },
  {
   "cell_type": "markdown",
   "id": "3fe411f1",
   "metadata": {},
   "source": [
    "### Ex. 16 - com dicionario - solução da aula"
   ]
  },
  {
   "cell_type": "code",
   "execution_count": null,
   "id": "9c1a159e",
   "metadata": {},
   "outputs": [
    {
     "name": "stdout",
     "output_type": "stream",
     "text": [
      "[1] - Clinico Geral\n",
      "[2] - Dermatologista\n",
      "[3] - Cardiologista\n",
      "[4] - Ortopedista\n",
      "{'nome': ['Gui', 'Jose'], 'idade': [27, 33], 'especialidade': ['Dermatologista', 'Ortopedista'], 'custo': [600, 700]}\n"
     ]
    }
   ],
   "source": [
    "especialidades = ('Clinico Geral', 'Dermatologista','Cardiologista','Ortopedista')\n",
    "custos_por_especialidade = []\n",
    "\n",
    "for i in range(len(especialidades)):\n",
    "    print(f\"[{i+1}] - {especialidades[i]}\")\n",
    "\n",
    "pacientes = {\n",
    "    'nome':[],\n",
    "    'idade':[],\n",
    "    'especialidade':[],\n",
    "    'custo':[]\n",
    "}\n",
    "\n",
    "calcular_custo = lambda custo: (\n",
    "    500 if custo == especialidades[0] else\n",
    "    600 if custo == especialidades[1] else\n",
    "    800 if custo == especialidades[2] else\n",
    "    700 if custo == especialidades[3] else\n",
    "    0\n",
    ")\n",
    "\n",
    "for i in range(2):\n",
    "    nome = input(\"Insira o nome do paciente: \")\n",
    "    idade = int(input(\"Insira a idade do paciente: \"))\n",
    "    especialidade = int(input(\"Insira o numero referente a especialidade que o paciente quer ser atendido por: \"))\n",
    "    custo = calcular_custo(especialidades[especialidade])\n",
    "    \n",
    "    pacientes['nome'].append(nome)\n",
    "    pacientes['idade'].append(idade)\n",
    "    pacientes['especialidade'].append(especialidades[especialidade])\n",
    "    pacientes['custo'].append(custo)\n",
    "\n",
    "print(pacientes)\n",
    "\n",
    "\n"
   ]
  }
 ],
 "metadata": {
  "kernelspec": {
   "display_name": "anaconda-toolbox",
   "language": "python",
   "name": "python3"
  },
  "language_info": {
   "codemirror_mode": {
    "name": "ipython",
    "version": 3
   },
   "file_extension": ".py",
   "mimetype": "text/x-python",
   "name": "python",
   "nbconvert_exporter": "python",
   "pygments_lexer": "ipython3",
   "version": "3.13.5"
  }
 },
 "nbformat": 4,
 "nbformat_minor": 5
}
