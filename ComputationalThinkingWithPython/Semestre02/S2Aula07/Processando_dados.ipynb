{
 "cells": [
  {
   "cell_type": "code",
   "execution_count": null,
   "id": "49d97275",
   "metadata": {},
   "outputs": [
    {
     "data": {
      "text/plain": [
       "Traceback (most recent call last):\n",
       "  File \"C:\\Users\\Administrator\\.vscode\\extensions\\ms-python.python-2025.14.0-win32-x64\\python_files\\python_server.py\", line 133, in exec_user_input\n",
       "    retval = callable_(user_input, user_globals)\n",
       "  File \"<string>\", line 3, in <module>\n",
       "  File \"C:\\ProgramData\\anaconda3\\Lib\\site-packages\\pandas\\io\\parsers\\readers.py\", line 1026, in read_csv\n",
       "    return _read(filepath_or_buffer, kwds)\n",
       "  File \"C:\\ProgramData\\anaconda3\\Lib\\site-packages\\pandas\\io\\parsers\\readers.py\", line 620, in _read\n",
       "    parser = TextFileReader(filepath_or_buffer, **kwds)\n",
       "  File \"C:\\ProgramData\\anaconda3\\Lib\\site-packages\\pandas\\io\\parsers\\readers.py\", line 1620, in __init__\n",
       "    self._engine = self._make_engine(f, self.engine)\n",
       "                   ~~~~~~~~~~~~~~~~~^^^^^^^^^^^^^^^^\n",
       "  File \"C:\\ProgramData\\anaconda3\\Lib\\site-packages\\pandas\\io\\parsers\\readers.py\", line 1880, in _make_engine\n",
       "    self.handles = get_handle(\n",
       "                   ~~~~~~~~~~^\n",
       "        f,\n",
       "        ^^\n",
       "    ...<6 lines>...\n",
       "        storage_options=self.options.get(\"storage_options\", None),\n",
       "        ^^^^^^^^^^^^^^^^^^^^^^^^^^^^^^^^^^^^^^^^^^^^^^^^^^^^^^^^^^\n",
       "    )\n",
       "    ^\n",
       "  File \"C:\\ProgramData\\anaconda3\\Lib\\site-packages\\pandas\\io\\common.py\", line 873, in get_handle\n",
       "    handle = open(\n",
       "        handle,\n",
       "    ...<3 lines>...\n",
       "        newline=\"\",\n",
       "    )\n",
       "FileNotFoundError: [Errno 2] No such file or directory: './manutencao_preditiva.csv'\n",
       "\n"
      ]
     },
     "metadata": {},
     "output_type": "display_data"
    }
   ],
   "source": [
    "import pandas as pd\n",
    "\n",
    "dados = pd.read_csv('./manutencao_preditiva.csv')\n",
    "dados"
   ]
  },
  {
   "cell_type": "code",
   "execution_count": null,
   "id": "2513cd96",
   "metadata": {},
   "outputs": [],
   "source": [
    "def padronizar_tipo(valor):\n",
    "    if valor == 'L':\n",
    "        return 0.0\n",
    "    elif valor == 'M':\n",
    "        return 0.5\n",
    "    elif valor == 'H':\n",
    "        return 1.0\n",
    "    else:\n",
    "        return ValueError"
   ]
  },
  {
   "cell_type": "code",
   "execution_count": null,
   "id": "607872d2",
   "metadata": {},
   "outputs": [],
   "source": [
    "map_tipo = {\n",
    "    \"L\":1,\n",
    "    \"M\":2,\n",
    "    \"H\":0,\n",
    "}"
   ]
  },
  {
   "cell_type": "code",
   "execution_count": null,
   "id": "4a73bbef",
   "metadata": {},
   "outputs": [],
   "source": [
    "def normalziar_coluna(var1):\n",
    "    normalizado = []\n",
    "    for i in range(len(var1)):\n",
    "        normalizado.append((var1[i] - min(var1)) / (max(var1) - min(var1)))\n",
    "    return normalizado"
   ]
  },
  {
   "cell_type": "code",
   "execution_count": null,
   "id": "9ef5fea6",
   "metadata": {},
   "outputs": [],
   "source": [
    "def delta_entre_coluna(var1, var2):\n",
    "    diferenca = []\n",
    "    if len(var1) == len(var2):\n",
    "        for i in range(len(var1)):\n",
    "            diferenca.append( (abs(var1[i] - var2[i])) )\n",
    "        return diferenca\n",
    "    else:\n",
    "        return ValueError\n",
    "        "
   ]
  },
  {
   "cell_type": "code",
   "execution_count": null,
   "id": "376f4579",
   "metadata": {},
   "outputs": [],
   "source": [
    "def media_da_coluna(x):\n",
    "    return (sum(x)/len(x))"
   ]
  },
  {
   "cell_type": "code",
   "execution_count": null,
   "id": "6ca222e4",
   "metadata": {},
   "outputs": [],
   "source": [
    "def padronizar_falhas(valor):\n",
    "    if valor == 'No Failure':\n",
    "        return 0\n",
    "    if valor == 'Heat Dissipation Failure':\n",
    "        return 1\n",
    "    elif valor == 'Power Failure':\n",
    "        return 10\n",
    "    elif valor == 'Overstrain Failure':\n",
    "        return 100\n",
    "    elif valor == 'Tool Wear Failure':\n",
    "        return 1000\n",
    "    elif valor == 'Random Failures':\n",
    "        return 10000\n",
    "    else:\n",
    "        return ValueError"
   ]
  },
  {
   "cell_type": "code",
   "execution_count": null,
   "id": "b9b901d6",
   "metadata": {},
   "outputs": [],
   "source": [
    "map_falhas = {\n",
    "    'No Failure': 0,\n",
    "    'Heat Dissipation Failure':1,\n",
    "    'Power Failure': 2,\n",
    "    'Overstrain Failure': 3,\n",
    "    'Tool Wear Failure': 4,\n",
    "    'Random Failures': 5,\n",
    "}"
   ]
  },
  {
   "cell_type": "code",
   "execution_count": null,
   "id": "7d72b25e",
   "metadata": {},
   "outputs": [
    {
     "data": {
      "text/plain": [
       "Traceback (most recent call last):\n",
       "  File \"C:\\Users\\Administrator\\.vscode\\extensions\\ms-python.python-2025.14.0-win32-x64\\python_files\\python_server.py\", line 133, in exec_user_input\n",
       "    retval = callable_(user_input, user_globals)\n",
       "  File \"<string>\", line 1, in <module>\n",
       "NameError: name 'dados' is not defined\n",
       "\n"
      ]
     },
     "metadata": {},
     "output_type": "display_data"
    }
   ],
   "source": [
    "dados['Tipo'].value_counts()"
   ]
  },
  {
   "cell_type": "code",
   "execution_count": null,
   "id": "98066d51",
   "metadata": {},
   "outputs": [
    {
     "data": {
      "text/plain": [
       "Traceback (most recent call last):\n",
       "  File \"C:\\Users\\Administrator\\.vscode\\extensions\\ms-python.python-2025.14.0-win32-x64\\python_files\\python_server.py\", line 133, in exec_user_input\n",
       "    retval = callable_(user_input, user_globals)\n",
       "  File \"<string>\", line 1, in <module>\n",
       "NameError: name 'dados' is not defined\n",
       "\n"
      ]
     },
     "metadata": {},
     "output_type": "display_data"
    }
   ],
   "source": [
    "falhas = dados['Tipo da Falha'].value_counts()\n",
    "falhas"
   ]
  },
  {
   "cell_type": "code",
   "execution_count": null,
   "id": "fb0b9b18",
   "metadata": {},
   "outputs": [
    {
     "data": {
      "text/plain": [
       "Traceback (most recent call last):\n",
       "  File \"C:\\Users\\Administrator\\.vscode\\extensions\\ms-python.python-2025.14.0-win32-x64\\python_files\\python_server.py\", line 133, in exec_user_input\n",
       "    retval = callable_(user_input, user_globals)\n",
       "  File \"<string>\", line 1, in <module>\n",
       "NameError: name 'falhas' is not defined\n",
       "\n"
      ]
     },
     "metadata": {},
     "output_type": "display_data"
    }
   ],
   "source": [
    "int(falhas['No Failure'])"
   ]
  },
  {
   "cell_type": "code",
   "execution_count": null,
   "id": "d1da4748",
   "metadata": {},
   "outputs": [
    {
     "data": {
      "text/plain": [
       "Traceback (most recent call last):\n",
       "  File \"C:\\Users\\Administrator\\.vscode\\extensions\\ms-python.python-2025.14.0-win32-x64\\python_files\\python_server.py\", line 133, in exec_user_input\n",
       "    retval = callable_(user_input, user_globals)\n",
       "  File \"<string>\", line 1, in <module>\n",
       "NameError: name 'dados' is not defined\n",
       "\n"
      ]
     },
     "metadata": {},
     "output_type": "display_data"
    }
   ],
   "source": [
    "dados['Alvo'].value_counts()"
   ]
  },
  {
   "cell_type": "code",
   "execution_count": null,
   "id": "9f006d9a",
   "metadata": {},
   "outputs": [
    {
     "data": {
      "text/plain": [
       "Traceback (most recent call last):\n",
       "  File \"C:\\Users\\Administrator\\.vscode\\extensions\\ms-python.python-2025.14.0-win32-x64\\python_files\\python_server.py\", line 133, in exec_user_input\n",
       "    retval = callable_(user_input, user_globals)\n",
       "  File \"<string>\", line 1, in <module>\n",
       "NameError: name 'dados' is not defined\n",
       "\n"
      ]
     },
     "metadata": {},
     "output_type": "display_data"
    }
   ],
   "source": [
    "dados['Falhas Padronizadas'] = dados['Tipo da Falha'].map(map_falhas)"
   ]
  },
  {
   "cell_type": "code",
   "execution_count": null,
   "id": "61bedb81",
   "metadata": {},
   "outputs": [
    {
     "data": {
      "text/plain": [
       "Traceback (most recent call last):\n",
       "  File \"C:\\Users\\Administrator\\.vscode\\extensions\\ms-python.python-2025.14.0-win32-x64\\python_files\\python_server.py\", line 133, in exec_user_input\n",
       "    retval = callable_(user_input, user_globals)\n",
       "  File \"<string>\", line 1, in <module>\n",
       "NameError: name 'dados' is not defined\n",
       "\n"
      ]
     },
     "metadata": {},
     "output_type": "display_data"
    }
   ],
   "source": [
    "dados['Temp Ar Normalizado'] = normalziar_coluna(dados['Temperatura Ar [K]'])\n",
    "dados['Temp Processo Normalizado'] = normalziar_coluna(dados['Temperatura Processo [K]'])"
   ]
  },
  {
   "cell_type": "code",
   "execution_count": null,
   "id": "68a74355",
   "metadata": {},
   "outputs": [
    {
     "data": {
      "text/plain": [
       "Traceback (most recent call last):\n",
       "  File \"C:\\Users\\Administrator\\.vscode\\extensions\\ms-python.python-2025.14.0-win32-x64\\python_files\\python_server.py\", line 133, in exec_user_input\n",
       "    retval = callable_(user_input, user_globals)\n",
       "  File \"<string>\", line 1, in <module>\n",
       "NameError: name 'dados' is not defined\n",
       "\n"
      ]
     },
     "metadata": {},
     "output_type": "display_data"
    }
   ],
   "source": [
    "dados['RPM Normalizado'] = normalziar_coluna(dados['Velocidade Rotacao [rpm]'])\n",
    "dados['Torque Normalizado'] = normalziar_coluna(dados['Torque [Nm]'])\n",
    "dados['Desgaste Normalizado'] = normalziar_coluna(dados['Desgaste Ferramenta [min]'])"
   ]
  },
  {
   "cell_type": "code",
   "execution_count": null,
   "id": "56ea8c2e",
   "metadata": {},
   "outputs": [
    {
     "data": {
      "text/plain": [
       "Traceback (most recent call last):\n",
       "  File \"C:\\Users\\Administrator\\.vscode\\extensions\\ms-python.python-2025.14.0-win32-x64\\python_files\\python_server.py\", line 133, in exec_user_input\n",
       "    retval = callable_(user_input, user_globals)\n",
       "  File \"<string>\", line 1, in <module>\n",
       "NameError: name 'dados' is not defined\n",
       "\n"
      ]
     },
     "metadata": {},
     "output_type": "display_data"
    }
   ],
   "source": [
    "dados['Tipo padronizado'] = dados['Tipo'].map(map_tipo)\n"
   ]
  },
  {
   "cell_type": "code",
   "execution_count": null,
   "id": "ab40dc3f",
   "metadata": {},
   "outputs": [
    {
     "data": {
      "text/plain": [
       "Traceback (most recent call last):\n",
       "  File \"C:\\Users\\Administrator\\.vscode\\extensions\\ms-python.python-2025.14.0-win32-x64\\python_files\\python_server.py\", line 133, in exec_user_input\n",
       "    retval = callable_(user_input, user_globals)\n",
       "  File \"<string>\", line 1, in <module>\n",
       "NameError: name 'dados' is not defined\n",
       "\n"
      ]
     },
     "metadata": {},
     "output_type": "display_data"
    }
   ],
   "source": [
    "dados['Delta Temp'] = delta_entre_coluna(dados['Temperatura Processo [K]'], dados['Temperatura Ar [K]'])\n",
    "dados['Delta Temp Normalizado'] = normalziar_coluna(dados['Delta Temp'])\n"
   ]
  },
  {
   "cell_type": "code",
   "execution_count": null,
   "id": "3a922368",
   "metadata": {},
   "outputs": [
    {
     "data": {
      "text/plain": [
       "Traceback (most recent call last):\n",
       "  File \"C:\\Users\\Administrator\\.vscode\\extensions\\ms-python.python-2025.14.0-win32-x64\\python_files\\python_server.py\", line 133, in exec_user_input\n",
       "    retval = callable_(user_input, user_globals)\n",
       "  File \"<string>\", line 1, in <module>\n",
       "NameError: name 'dados' is not defined\n",
       "\n"
      ]
     },
     "metadata": {},
     "output_type": "display_data"
    }
   ],
   "source": [
    "dados['Delta RPM-Torque Norm'] = delta_entre_coluna(dados['RPM Normalizado'], dados['Torque Normalizado'])"
   ]
  },
  {
   "cell_type": "code",
   "execution_count": null,
   "id": "88e00bf7",
   "metadata": {},
   "outputs": [],
   "source": [
    "nova_ordem = ['Tipo', 'Tipo padronizado', 'Temperatura Ar [K]', 'Temp Ar Normalizado', 'Temperatura Processo [K]', 'Temp Processo Normalizado', 'Delta Temp', 'Delta Temp Normalizado', 'Velocidade Rotacao [rpm]', 'RPM Normalizado', 'Torque [Nm]', 'Torque Normalizado', 'Delta RPM-Torque Norm', 'Desgaste Ferramenta [min]', 'Desgaste Normalizado', 'Falhas Padronizadas','Tipo da Falha']"
   ]
  },
  {
   "cell_type": "code",
   "execution_count": null,
   "id": "1f5b80d4",
   "metadata": {},
   "outputs": [],
   "source": [
    "dados_normalizado = ['Tipo padronizado', 'Temp Ar Normalizado', 'Temp Processo Normalizado', 'Delta Temp Normalizado','RPM Normalizado', 'Torque Normalizado', 'Delta RPM-Torque Norm', 'Falhas Padronizadas']"
   ]
  },
  {
   "cell_type": "code",
   "execution_count": null,
   "id": "9325ce5d",
   "metadata": {},
   "outputs": [],
   "source": [
    "sort_order = ['Tipo padronizado', 'Falhas Padronizadas', 'Delta Temp Normalizado', 'Delta RPM-Torque Norm']\n",
    "sort_ascending = [True, True, True, True]"
   ]
  },
  {
   "cell_type": "code",
   "execution_count": null,
   "id": "4c17eaf3",
   "metadata": {},
   "outputs": [
    {
     "data": {
      "text/plain": [
       "Traceback (most recent call last):\n",
       "  File \"C:\\Users\\Administrator\\.vscode\\extensions\\ms-python.python-2025.14.0-win32-x64\\python_files\\python_server.py\", line 133, in exec_user_input\n",
       "    retval = callable_(user_input, user_globals)\n",
       "  File \"<string>\", line 1, in <module>\n",
       "NameError: name 'dados' is not defined\n",
       "\n"
      ]
     },
     "metadata": {},
     "output_type": "display_data"
    }
   ],
   "source": [
    "dados = dados[nova_ordem]\n",
    "dadosNorm = dados[dados_normalizado]\n",
    "dados = dados.sort_values(by=sort_order, ascending=sort_ascending)\n",
    "dadosNorm = dadosNorm.sort_values(by=sort_order, ascending=sort_ascending)\n",
    "dados"
   ]
  },
  {
   "cell_type": "code",
   "execution_count": null,
   "id": "dbd6b20e",
   "metadata": {},
   "outputs": [
    {
     "data": {
      "text/plain": [
       "Traceback (most recent call last):\n",
       "  File \"C:\\Users\\Administrator\\.vscode\\extensions\\ms-python.python-2025.14.0-win32-x64\\python_files\\python_server.py\", line 133, in exec_user_input\n",
       "    retval = callable_(user_input, user_globals)\n",
       "  File \"<string>\", line 1, in <module>\n",
       "NameError: name 'dadosNorm' is not defined\n",
       "\n"
      ]
     },
     "metadata": {},
     "output_type": "display_data"
    }
   ],
   "source": [
    "dadosNorm"
   ]
  },
  {
   "cell_type": "code",
   "execution_count": null,
   "id": "2ea510af",
   "metadata": {},
   "outputs": [
    {
     "data": {
      "text/plain": [
       "Traceback (most recent call last):\n",
       "  File \"C:\\Users\\Administrator\\.vscode\\extensions\\ms-python.python-2025.14.0-win32-x64\\python_files\\python_server.py\", line 133, in exec_user_input\n",
       "    retval = callable_(user_input, user_globals)\n",
       "  File \"<string>\", line 1, in <module>\n",
       "NameError: name 'dados' is not defined\n",
       "\n"
      ]
     },
     "metadata": {},
     "output_type": "display_data"
    }
   ],
   "source": [
    "colunas = dados.columns\n",
    "\n",
    "print(\"Valores originais:\")\n",
    "for col in colunas[3:8]:\n",
    "    print(f\"Media da coluna - {col} é: {media_da_coluna(dados[col]):.02f}\")\n",
    "\n",
    "print(\"-------------------\\nValores normalizados: \")\n",
    "for col in colunas[10:14]:\n",
    "    print(f\"Media da coluna - {col} é: {media_da_coluna(dados[col]):.02f}\")\n",
    "\n",
    "print(\"-------------------\\nValores de Deltas: \")\n",
    "for col in colunas[14:16]:\n",
    "    print(f\"Media da coluna - {col} é: {media_da_coluna(dados[col]):.02f}\")"
   ]
  },
  {
   "cell_type": "markdown",
   "id": "eab9d89f",
   "metadata": {},
   "source": [
    "## 70% a 80% para treinar\n",
    "\n",
    "## 30% a 20% para teste"
   ]
  },
  {
   "cell_type": "code",
   "execution_count": null,
   "id": "f670705e",
   "metadata": {},
   "outputs": [],
   "source": [
    "# import seaborn as sns\n",
    "# import matplotlib.pyplot as plt\n",
    "# df_num = dados.select_dtypes(include=['int64','float64'])\n",
    "\n",
    "# corr_matrix = df_num.corr(method='pearson')\n",
    "\n",
    "# plt.figure(figsize=(6,5))\n",
    "# sns.heatmap(corr_matrix, annot=True, fmt='.2f',cmap='coolwarm',cbar=True, square=True)\n",
    "\n",
    "# plt.title('Matriz de Correlação de Pearson')\n",
    "# plt.show()"
   ]
  },
  {
   "cell_type": "code",
   "execution_count": null,
   "id": "8f089375",
   "metadata": {},
   "outputs": [
    {
     "data": {
      "text/plain": [
       "Traceback (most recent call last):\n",
       "  File \"C:\\Users\\Administrator\\.vscode\\extensions\\ms-python.python-2025.14.0-win32-x64\\python_files\\python_server.py\", line 133, in exec_user_input\n",
       "    retval = callable_(user_input, user_globals)\n",
       "  File \"<string>\", line 1, in <module>\n",
       "NameError: name 'dadosNorm' is not defined\n",
       "\n"
      ]
     },
     "metadata": {},
     "output_type": "display_data"
    }
   ],
   "source": [
    "entradas = dadosNorm[['Tipo padronizado',\n",
    "                      'Temp Ar Normalizado',\n",
    "                      'Temp Processo Normalizado',\n",
    "                      'Delta Temp Normalizado',\n",
    "                      'RPM Normalizado',\n",
    "                      'Torque Normalizado',\n",
    "                      'Delta RPM-Torque Norm'\n",
    "                      ]]\n",
    "\n",
    "saida = dadosNorm[['Falhas Padronizadas']]"
   ]
  },
  {
   "cell_type": "code",
   "execution_count": null,
   "id": "e3b6d391",
   "metadata": {},
   "outputs": [
    {
     "data": {
      "text/plain": [
       "Traceback (most recent call last):\n",
       "  File \"C:\\Users\\Administrator\\.vscode\\extensions\\ms-python.python-2025.14.0-win32-x64\\python_files\\python_server.py\", line 133, in exec_user_input\n",
       "    retval = callable_(user_input, user_globals)\n",
       "  File \"<string>\", line 3, in <module>\n",
       "NameError: name 'entradas' is not defined\n",
       "\n"
      ]
     },
     "metadata": {},
     "output_type": "display_data"
    }
   ],
   "source": [
    "from sklearn.model_selection import train_test_split\n",
    "\n",
    "xtreino, xteste, ytreino, yteste, = train_test_split(entradas,saida,test_size=3)\n",
    "xtreino\n"
   ]
  }
 ],
 "metadata": {
  "kernelspec": {
   "display_name": "Orange",
   "language": "python",
   "name": "python3"
  },
  "language_info": {
   "codemirror_mode": {
    "name": "ipython",
    "version": 3
   },
   "file_extension": ".py",
   "mimetype": "text/x-python",
   "name": "python",
   "nbconvert_exporter": "python",
   "pygments_lexer": "ipython3",
   "version": "3.11.8"
  }
 },
 "nbformat": 4,
 "nbformat_minor": 5
}
