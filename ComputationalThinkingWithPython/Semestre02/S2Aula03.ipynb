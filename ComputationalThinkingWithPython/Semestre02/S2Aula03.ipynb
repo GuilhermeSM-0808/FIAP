{
 "cells": [
  {
   "cell_type": "markdown",
   "id": "291c68f7",
   "metadata": {},
   "source": [
    "# Função dentro de função"
   ]
  },
  {
   "cell_type": "code",
   "execution_count": 40,
   "id": "627d8841",
   "metadata": {},
   "outputs": [],
   "source": [
    "def multiplicador(n):\n",
    "    def multiplica(x):\n",
    "        return x*n\n",
    "    return multiplica"
   ]
  },
  {
   "cell_type": "code",
   "execution_count": 41,
   "id": "80d46b3a",
   "metadata": {},
   "outputs": [
    {
     "data": {
      "text/plain": [
       "15"
      ]
     },
     "execution_count": 41,
     "metadata": {},
     "output_type": "execute_result"
    }
   ],
   "source": [
    "triplo = multiplicador(3)\n",
    "\n",
    "triplo(5)"
   ]
  },
  {
   "cell_type": "markdown",
   "id": "44f5cb5d",
   "metadata": {},
   "source": [
    "# Função Recursiva"
   ]
  },
  {
   "cell_type": "code",
   "execution_count": 42,
   "id": "70fcac8e",
   "metadata": {},
   "outputs": [],
   "source": [
    "def factorial(n):\n",
    "    if n == 0:\n",
    "        return 1\n",
    "    return n * factorial(n-1)"
   ]
  },
  {
   "cell_type": "code",
   "execution_count": 43,
   "id": "8716b399",
   "metadata": {},
   "outputs": [
    {
     "data": {
      "text/plain": [
       "120"
      ]
     },
     "execution_count": 43,
     "metadata": {},
     "output_type": "execute_result"
    }
   ],
   "source": [
    "factorial(5)"
   ]
  },
  {
   "cell_type": "markdown",
   "id": "2ff3ba7e",
   "metadata": {},
   "source": [
    "### Exercicio 1"
   ]
  },
  {
   "cell_type": "code",
   "execution_count": 44,
   "id": "b3903cf2",
   "metadata": {},
   "outputs": [],
   "source": [
    "def func1(n):\n",
    "    def func2(n):\n",
    "        def func3(n):\n",
    "            return n + 3\n",
    "        return func3(n + 2) \n",
    "    return func2(n + 1)"
   ]
  },
  {
   "cell_type": "code",
   "execution_count": 45,
   "id": "bc9547d8",
   "metadata": {},
   "outputs": [
    {
     "data": {
      "text/plain": [
       "6"
      ]
     },
     "execution_count": 45,
     "metadata": {},
     "output_type": "execute_result"
    }
   ],
   "source": [
    "func1(0)"
   ]
  },
  {
   "cell_type": "markdown",
   "id": "23aceeb9",
   "metadata": {},
   "source": [
    "### Exercicio 2"
   ]
  },
  {
   "cell_type": "code",
   "execution_count": 46,
   "id": "12c82077",
   "metadata": {},
   "outputs": [],
   "source": [
    "def funcfunc(palavra):\n",
    "    def legal(palavra):\n",
    "        def upper(palavra):\n",
    "            return palavra[::-1].upper()\n",
    "        return upper(palavra + \" é legal\")\n",
    "    return legal(palavra)"
   ]
  },
  {
   "cell_type": "code",
   "execution_count": 47,
   "id": "c9693fa2",
   "metadata": {},
   "outputs": [
    {
     "data": {
      "text/plain": [
       "'LAGEL É NOHTYP'"
      ]
     },
     "execution_count": 47,
     "metadata": {},
     "output_type": "execute_result"
    }
   ],
   "source": [
    "funcfunc(\"Python\")"
   ]
  },
  {
   "cell_type": "markdown",
   "id": "386d2849",
   "metadata": {},
   "source": [
    "### Exercicio 3"
   ]
  },
  {
   "cell_type": "code",
   "execution_count": 48,
   "id": "16a73bf0",
   "metadata": {},
   "outputs": [
    {
     "data": {
      "text/plain": [
       "9"
      ]
     },
     "execution_count": 48,
     "metadata": {},
     "output_type": "execute_result"
    }
   ],
   "source": [
    "def func1(n):\n",
    "    def func2(n):\n",
    "        def func3(n):\n",
    "            return n // 2\n",
    "        return func3(n+10)\n",
    "    return func2(n*2)\n",
    "\n",
    "func1(4)"
   ]
  },
  {
   "cell_type": "markdown",
   "id": "d104492c",
   "metadata": {},
   "source": [
    "### Exercicio 4"
   ]
  },
  {
   "cell_type": "code",
   "execution_count": 49,
   "id": "cdaeccb9",
   "metadata": {},
   "outputs": [
    {
     "name": "stdout",
     "output_type": "stream",
     "text": [
      "[20, 6, 4, 2]\n"
     ]
    }
   ],
   "source": [
    "def func1(n):\n",
    "    def func2(n):\n",
    "        def func3(n):\n",
    "            return n[::-1]\n",
    "        #print(n)\n",
    "\n",
    "        ## Solução que pensei originalmente:\n",
    "        # for i in range(len(n)):\n",
    "        #     n[i] = n[i]*2\n",
    "\n",
    "        return func3([x*2 for x in n])\n",
    "    return func2(n + [10])\n",
    "    \n",
    "\n",
    "\n",
    "print(func1([1, 2 ,3]))"
   ]
  },
  {
   "cell_type": "markdown",
   "id": "1508687b",
   "metadata": {},
   "source": [
    "## [x*2 for x in lista]"
   ]
  },
  {
   "cell_type": "markdown",
   "id": "79165177",
   "metadata": {},
   "source": [
    "# Dicionarios"
   ]
  },
  {
   "cell_type": "code",
   "execution_count": 50,
   "id": "266a4144",
   "metadata": {},
   "outputs": [
    {
     "name": "stdout",
     "output_type": "stream",
     "text": [
      "{'nome': ['Ana', 'Pedro'], 'idade': [21, 43], 'curso': ['Engenharia de Software', 'Medicina']}\n",
      "\n",
      "\n",
      "    nome  idade                   curso\n",
      "0    Ana     21  Engenharia de Software\n",
      "1  Pedro     43                Medicina\n"
     ]
    }
   ],
   "source": [
    "alunos = {\n",
    "    \"nome\": [\"Ana\",\"Pedro\"],\n",
    "    \"idade\": [21, 43],\n",
    "    \"curso\": [\"Engenharia de Software\", \"Medicina\"]\n",
    "}\n",
    "\n",
    "print(alunos)\n",
    "print(\"\\n\")\n",
    "\n",
    "import pandas as pd\n",
    "\n",
    "alunos_df = pd.DataFrame(alunos)\n",
    "print(alunos_df)"
   ]
  },
  {
   "cell_type": "code",
   "execution_count": 51,
   "id": "5b4b27ff",
   "metadata": {},
   "outputs": [
    {
     "data": {
      "text/plain": [
       "'Ana'"
      ]
     },
     "execution_count": 51,
     "metadata": {},
     "output_type": "execute_result"
    }
   ],
   "source": [
    "alunos[\"nome\"][0]"
   ]
  },
  {
   "cell_type": "markdown",
   "id": "d78eb951",
   "metadata": {},
   "source": [
    "### Personal test"
   ]
  },
  {
   "cell_type": "code",
   "execution_count": 52,
   "id": "2c8b3615",
   "metadata": {},
   "outputs": [],
   "source": [
    "alunos = {\n",
    "    \"user1\":{\"nome\":\"Foo\", \"idade\":27, \"curso\":\"Medicina\"},\n",
    "    \"user2\":{\"nome\":\"Bar\", \"idade\":21, \"curso\":\"Bartender\"},\n",
    "    \"user3\":{\"nome\":\"Qux\", \"idade\":43, \"curso\":\"Game Dev\"}\n",
    "}"
   ]
  },
  {
   "cell_type": "code",
   "execution_count": 63,
   "id": "2e9b3824",
   "metadata": {},
   "outputs": [
    {
     "name": "stdout",
     "output_type": "stream",
     "text": [
      "Foo\n",
      "Bar\n",
      "Qux\n"
     ]
    }
   ],
   "source": [
    "for a in alunos:\n",
    "    print(alunos[a][\"nome\"])"
   ]
  },
  {
   "cell_type": "code",
   "execution_count": 54,
   "id": "f9fc3bc2",
   "metadata": {},
   "outputs": [
    {
     "name": "stdout",
     "output_type": "stream",
     "text": [
      "          user1      user2     user3\n",
      "nome        Foo        Bar       Qux\n",
      "idade        27         21        43\n",
      "curso  Medicina  Bartender  Game Dev\n"
     ]
    }
   ],
   "source": [
    "alunos_df = pd.DataFrame(alunos)\n",
    "\n",
    "print(alunos_df)"
   ]
  },
  {
   "cell_type": "markdown",
   "id": "7bd4fe76",
   "metadata": {},
   "source": [
    "#### Continuando aula"
   ]
  },
  {
   "cell_type": "code",
   "execution_count": 58,
   "id": "a6e5ab94",
   "metadata": {},
   "outputs": [
    {
     "name": "stdout",
     "output_type": "stream",
     "text": [
      "{'STK1': 12, 'Cloud9': 4, 'Teste': 2, 'UFG': 4}\n"
     ]
    }
   ],
   "source": [
    "times = {}\n",
    "\n",
    "for i in range(4):\n",
    "    time = input(\"Insira um time: \")\n",
    "    vitorias = int(input(\"Insira a quantidade de vitorias: \"))\n",
    "\n",
    "    times[time] = vitorias\n",
    "\n",
    "print(times)"
   ]
  },
  {
   "cell_type": "code",
   "execution_count": 59,
   "id": "65d305ac",
   "metadata": {},
   "outputs": [
    {
     "name": "stdout",
     "output_type": "stream",
     "text": [
      "{'time': ['aaa', 'bbb', 'super', 'wow'], 'vitorias': [3, 6, 99, 0]}\n"
     ]
    }
   ],
   "source": [
    "times = {\n",
    "    'time':[],\n",
    "    'vitorias':[]\n",
    "}\n",
    "\n",
    "for i in range(4):\n",
    "    time = input(\"Insira um time: \")\n",
    "    vitorias = int(input(\"Insira a quantidade de vitorias: \"))\n",
    "\n",
    "    times['time'].append(time)\n",
    "    times['vitorias'].append(vitorias)\n",
    "\n",
    "print(times)\n"
   ]
  },
  {
   "cell_type": "markdown",
   "id": "7f2594e1",
   "metadata": {},
   "source": [
    "### Exercicio 1"
   ]
  },
  {
   "cell_type": "code",
   "execution_count": 64,
   "id": "13bf79e8",
   "metadata": {},
   "outputs": [
    {
     "name": "stdout",
     "output_type": "stream",
     "text": [
      "{'cidade_nasc': ['sampa', 'bambu', 'bh', 'embu', 'van'], 'rg': [11111111123, 1, 99999999999, 23, 222222222], 'estado_civil': ['solteiro', 'morto', 'casada', 'nao', 'viuvo']}\n"
     ]
    }
   ],
   "source": [
    "banco_de_dados = {\n",
    "    \"cidade_nasc\":[],\n",
    "    \"rg\":[],\n",
    "    \"estado_civil\":[]\n",
    "}\n",
    "\n",
    "for i in range(5):\n",
    "    cidade = input(\"Insira sua cidade de nascimento: \")\n",
    "    rg = int(input(\"Insira apenas os digitos do seu rg: \"))\n",
    "    estado = input(\"Insira seu estado civil: \")\n",
    "\n",
    "    if cidade and rg and estado:\n",
    "        banco_de_dados[\"cidade_nasc\"].append(cidade)\n",
    "        banco_de_dados[\"rg\"].append(rg)\n",
    "        banco_de_dados[\"estado_civil\"].append(estado)\n",
    "    else:\n",
    "        print(\"Uma ou mais informacoes inseridas invalidas.\")\n",
    "\n",
    "print(banco_de_dados)"
   ]
  },
  {
   "cell_type": "code",
   "execution_count": 70,
   "id": "b8bfc6ca",
   "metadata": {},
   "outputs": [
    {
     "name": "stdout",
     "output_type": "stream",
     "text": [
      "  cidade_nasc           rg estado_civil\n",
      "0       sampa  11111111123     solteiro\n",
      "1       bambu            1        morto\n",
      "2          bh  99999999999       casada\n",
      "3        embu           23          nao\n",
      "4         van    222222222        viuvo\n"
     ]
    }
   ],
   "source": [
    "table = pd.DataFrame(banco_de_dados)\n",
    "\n",
    "print(table)"
   ]
  },
  {
   "cell_type": "markdown",
   "id": "6f00a1a4",
   "metadata": {},
   "source": [
    "##### aula"
   ]
  },
  {
   "cell_type": "code",
   "execution_count": 72,
   "id": "7f29cab5",
   "metadata": {},
   "outputs": [
    {
     "name": "stdout",
     "output_type": "stream",
     "text": [
      "nome: ['Ana', 'Pedro']\n",
      "idade: [27, 24]\n",
      "curso: ['Engenharia', 'Medicina']\n"
     ]
    }
   ],
   "source": [
    "alunos = {\n",
    "    \"nome\":[\"Ana\",\"Pedro\"],\n",
    "    \"idade\":[27,24],\n",
    "    \"curso\":[\"Engenharia\", \"Medicina\"]\n",
    "}\n",
    "\n",
    "for chave, valores in alunos.items():\n",
    "    print(f'{chave}: {valores}')"
   ]
  },
  {
   "cell_type": "code",
   "execution_count": 74,
   "id": "aa63a866",
   "metadata": {},
   "outputs": [
    {
     "name": "stdout",
     "output_type": "stream",
     "text": [
      "\n",
      " NOME\n",
      "- Ana\n",
      "- Pedro\n",
      "\n",
      " IDADE\n",
      "- 27\n",
      "- 24\n",
      "\n",
      " CURSO\n",
      "- Engenharia\n",
      "- Medicina\n"
     ]
    }
   ],
   "source": [
    "for chave, valores in alunos.items():\n",
    "    print(f'\\n {chave.upper()}')\n",
    "\n",
    "    for valor in valores:\n",
    "        print(f'- {valor}')"
   ]
  }
 ],
 "metadata": {
  "kernelspec": {
   "display_name": "anaconda-toolbox",
   "language": "python",
   "name": "python3"
  },
  "language_info": {
   "codemirror_mode": {
    "name": "ipython",
    "version": 3
   },
   "file_extension": ".py",
   "mimetype": "text/x-python",
   "name": "python",
   "nbconvert_exporter": "python",
   "pygments_lexer": "ipython3",
   "version": "3.13.5"
  }
 },
 "nbformat": 4,
 "nbformat_minor": 5
}
