{
 "cells": [
  {
   "cell_type": "markdown",
   "id": "2d3a967b",
   "metadata": {},
   "source": [
    "### Q. 1\n",
    "Utilizando o dataset apresentado abaixo, crie uma estrutura utilizando a função def e apply para normalizar os valores da coluna preço usando a normalização Min-Max. Explique a estrutura desenvolvida. Não é para comentar o código, explique a sua estrutura.\n",
    "\n",
    "Norm = (X - Xmin) / (Xmax - Xmin)"
   ]
  },
  {
   "cell_type": "code",
   "execution_count": 28,
   "id": "e8eacb6e",
   "metadata": {},
   "outputs": [
    {
     "name": "stdout",
     "output_type": "stream",
     "text": [
      "  produto  preco  desconto(%)\n",
      "0       A  0.250         10.0\n",
      "1       B  0.875          NaN\n",
      "2       C  0.000          0.0\n",
      "3       D  1.000         20.0\n"
     ]
    }
   ],
   "source": [
    "import pandas as pd\n",
    "\n",
    "df = pd.DataFrame({\n",
    "    \"produto\":[\"A\",\"B\",\"C\",\"D\"],\n",
    "    \"preco\":[10.0, 12.5, 9.0, 13.0],\n",
    "    \"desconto(%)\":[10, None, 0, 20]\n",
    "})\n",
    "\n",
    "def normalizar_preco(x):\n",
    "        return ((x - df[\"preco\"].min()) / (df[\"preco\"].max() - df[\"preco\"].min()))\n",
    "\n",
    "df[\"preco\"] = df[\"preco\"].apply(normalizar_preco)\n",
    "\n",
    "print(df)\n",
    "\n",
    "# Está estrutura demonstra uma função criada especificamente para normalizar a lista de precos.\n",
    "# Ela funciona utilizando uma built-in function \"apply\", essa função aplica alguma função (como tambem função lambda) especificada dentro de seu parenteses a todos os elementos de uma lista.\n",
    "# Neste caso a função que é aplicada a todos os preços, ou seja, a todos os elementos da lista de preços é uma função que normaliza um valor inserido em relação a lista de preços.\n",
    "# Não há conflitos em atribuir um valor (neste caso uma lista, os itens da lista) a própria variavel (a própria lista) que está sendo alterada, pois todos os valores são alterados antes de serem atribuidos a variavel\n",
    "# Por ultimo usamos o print para exibir que a coluna de preços foi normalizada.\n",
    "# Obs.: Alteramos o valor da coluna \"preco\" ao invés de criar uma nova coluna, pois é assim que foi exigido no enunciado. \n",
    "# Já que como em programação, o computador faz exatamente o que é pedido e nada mais.\n",
    "# Mas poderiamos facilmente criar uma nova coluna para possuirmos os valores normalizados E os valores originais.\n",
    "\n",
    "# E por ultimo, usamos o print para exibir o resultado ao usuario."
   ]
  },
  {
   "cell_type": "markdown",
   "id": "8c9e5d2c",
   "metadata": {},
   "source": [
    "### Q. 2\n",
    "\n",
    "Crie uma estrutura que permita incluir uma coluna chamada cidade e substitua as informações que estão na coluna produto pelas seguintes informações:\n",
    "\n",
    "A - São Paulo; B - Rio de Janeiro; C - Belo Horizonte; D - Curitiba\n",
    "\n",
    "Obs:  Explique a estrutura desenvolvida. Não é para comentar o código, explique a sua estrutura.\n",
    "(2 Points)"
   ]
  },
  {
   "cell_type": "code",
   "execution_count": 10,
   "id": "84221bec",
   "metadata": {},
   "outputs": [
    {
     "name": "stdout",
     "output_type": "stream",
     "text": [
      "              produto  preco  desconto(%)          cidade\n",
      "0       A - São Paulo   10.0         10.0       São Paulo\n",
      "1  B - Rio de Janeiro   12.5          NaN  Rio de Janeiro\n",
      "2  C - Belo Horizonte    9.0          0.0  Belo Horizonte\n",
      "3        D - Curitiba   13.0         20.0        Curitiba\n"
     ]
    }
   ],
   "source": [
    "import pandas as pd\n",
    "\n",
    "df = pd.DataFrame({\n",
    "    \"produto\":[\"A\",\"B\",\"C\",\"D\"],\n",
    "    \"preco\":[10.0, 12.5, 9.0, 13.0],\n",
    "    \"desconto(%)\":[10, None, 0, 20]\n",
    "})\n",
    "\n",
    "cidades = [\"São Paulo\", \"Rio de Janeiro\", \"Belo Horizonte\", \"Curitiba\"]\n",
    "\n",
    "df[\"cidade\"] = cidades\n",
    "\n",
    "df[\"produto\"] = df.apply(lambda x: f\"{x['produto']} - {x['cidade']}\", axis=1)\n",
    "\n",
    "print(df)\n",
    "\n",
    "# Está estrutura cria uma nova coluna na tabela, chamada cidade, e atribui a ela uma lista de cidades.\n",
    "# A lista que é atribuida é criada nesta estrutura com os valores requisitados na questão.\n",
    "# Depois utilizando as funções apply e lambda, à primeira coluna \"produto\". \n",
    "# A coluna \"produto\" é alterada combinando os valores da nova coluna \"cidade\" com os valores da coluna \"produto\".\n",
    "# Ao utilizar o apply a uma Dataframe, precisa-se especificar se a função (neste caso a função lambda) será aplicada as linhas ou colunas (axis=1 ou axis=0 resctivamente).\n",
    "# Assim espcificamos linha (axis=1) e pegamos os valores de todas as colunas que se encontram dentro da mesma linha.\n",
    "# (Neste caso os valores da coluna \"produto\" e os valores da coluna \"cidade\" que se encontram na mesma linha (no mesmo index)). \n",
    "# E aplicamos a aquela linha a função lambda, assim combinando os valores para alcaçar o resultado requisitado no exercicio.\n",
    "\n",
    "# E por ultimo utilizamos o print para mostrar o resultado ao usuario.\n"
   ]
  },
  {
   "cell_type": "markdown",
   "id": "875a12d3",
   "metadata": {},
   "source": [
    "### Q. 3\n",
    "Utilizando os dados da figura ao lado, crie uma nova coluna chamada Status e mostre o resultado de acordo com a situação abaixo: \n",
    "\n",
    "Crie uma estrutura para mostrar se o aluno está Aprovado, Reprovado, Recuperação, se nota >= 6.0 e frequencia >= 0.75, Aprovado, se nota >= 6.0 e frequencia < 0.75, Recuperação, se nota < 6.0 e frequencia >= 0.75, Recuperação, se nota < 6.0 e frequencia < 0.75, Reprovado.\n",
    "\n",
    "Obs: Utilize as estruturas apresentadas em sala de aula e explique a estrutura desenvolvida. Não é para comentar o código, explique a sua estrutura."
   ]
  },
  {
   "cell_type": "code",
   "execution_count": 29,
   "id": "d0c92ac5",
   "metadata": {},
   "outputs": [
    {
     "name": "stdout",
     "output_type": "stream",
     "text": [
      "   nota  frequencia       Status\n",
      "0  5.90        0.80  Recuperação\n",
      "1  6.00        0.75     Aprovado\n",
      "2  7.50        0.70  Recuperação\n",
      "3  9.00        0.95     Aprovado\n",
      "4  5.95        0.90  Recuperação\n",
      "5  4.00        0.60    Reprovado\n"
     ]
    }
   ],
   "source": [
    "import pandas as pd\n",
    "\n",
    "df = pd.DataFrame({\n",
    "    \"nota\":[5.9, 6.0, 7.5, 9.0, 5.95, 4.0],\n",
    "    \"frequencia\":[0.8, 0.75, 0.7, 0.95, 0.9, 0.6]\n",
    "})\n",
    "\n",
    "def definir_status(x):\n",
    "    if x[\"nota\"] >= 6 and x[\"frequencia\"] >= 0.75:\n",
    "        return \"Aprovado\"\n",
    "    elif x[\"nota\"] >= 6 or x[\"frequencia\"] >= 0.75:\n",
    "        return \"Recuperação\"\n",
    "    else:\n",
    "        return \"Reprovado\"\n",
    "\n",
    "df[\"Status\"] = df.apply(definir_status, axis=1)\n",
    "\n",
    "print(df)\n",
    "\n",
    "# Está estrutura cria uma nova coluna na tabela (DataFrame) chamada \"Status\" baseado nos valores de \"nota\" e \"frequencia\".\n",
    "# Essa nova coluna é criada utilizando a função apply e uma função criada especificamente para definir o status.\n",
    "# A função apply aplica essa nova função para cada linha da tabela, que em torno define o valor de cada linha da nova coluna \"status\".\n",
    "# A função criada segue o requisito do enunciado.\n",
    "# Em que se retorna \"Aprovado\", \"Reprovado\" ou \"Recuperação\"  dependendo da combinação dos valores de \"nota\" e \"frequencia\" em cada linha.\n",
    "# Para \"Aprovado\" a \"nota\" e \"frequencia\" de uma linha devem ser maiores ou iguais a 6 e 0.75 respectivamente.\n",
    "# Para \"Recuperação\" um dos valores da \"nota\" ou \"frequencia\" de estar acima dos mesmo valores necessarios para \"Aprovado\".\n",
    "# E caso nenhum dos valores alcance os valores necessarios para \"Aprovado\" ou \"Recuperação\", o valor retornado é \"Reprovado\".\n",
    "\n",
    "# Por ultimo utilizamos o print para mostrar o resultado ao usuario.\n",
    "# Obs.: Adicionei um valor a mais na lista para demonstrar o funcionamento da função no caso de \"Reprovado\" para exibir que todos os casos funcionam."
   ]
  },
  {
   "cell_type": "markdown",
   "id": "68d24829",
   "metadata": {},
   "source": [
    "### Q. 4\n",
    "Escreva uma função a ser usada com apply(axis=1) que retorne uma nova coluna chamada contagem e mostre o comprimento de cada palavra. Explique sua estrutura. "
   ]
  },
  {
   "cell_type": "code",
   "execution_count": 24,
   "id": "318b816e",
   "metadata": {},
   "outputs": [
    {
     "name": "stdout",
     "output_type": "stream",
     "text": [
      "                           Info  Contagem\n",
      "0           Engenharia Elétrica        19\n",
      "1        Aprendizado de Maquina        22\n",
      "2  Rede Neural Convulocional 2D        28\n",
      "3       Inteligencia Artificial        23\n"
     ]
    }
   ],
   "source": [
    "import pandas as pd\n",
    "\n",
    "df = pd.DataFrame({\n",
    "    \"Info\":[\n",
    "        \"Engenharia Elétrica\", \n",
    "        \"Aprendizado de Maquina\", \n",
    "        \"Rede Neural Convulocional 2D\", \n",
    "        \"Inteligencia Artificial\"]})\n",
    "\n",
    "#df[\"Contagem\"] = df[\"Info\"].apply(len)\n",
    "\n",
    "df[\"Contagem\"] = df.apply(lambda x: len(x[\"Info\"]), axis=1)\n",
    "\n",
    "print(df)\n",
    "\n",
    "\n",
    "# Está estrutura demonstra o uso da função apply com a necessidade de utilizar o axis=1.\n",
    "# Pois apesar de existir outros metodos simples, o enunciado pede especificamente o uso do apply com axis=1.\n",
    "# E o uso de axis=1 é necessario quando se utiliza o apply a um DataFrame, a uma tabela.\n",
    "# Pois é necessario especificar se a função (neste caso a função lambda) será aplicada as linhas ou colunas (axis=1 ou axis=0 resctivamente).\n",
    "# Então para alcançar os requisitos do enunciado, utilizamos o apply a todo o DataFrame (tabela) e especificamos que a função lambda será aplicada as linhas (axis=1).\n",
    "# Assim criamos uma nova coluna \"Contagem\" que recebe o valor da quantidade de caracteres (ou o tamanho da len) de cada elemento da coluna \"Info\".\n",
    "# Obs.:\n",
    "# No enunciado não é especificado se as strings que possuem espaço entre palavras devem ser consideradas como uma unica palavra ou mais de uma na hora de determinar a contagem de cada palavra/string.\n",
    "# Também não é especificado se os espaços devem ser considerados na contagem ou não.\n",
    "# Mas considerando o nivel de complexidade das questões, o mais simples foi assumido.\n",
    "\n",
    "# Novamente por ultimo, utilizamos o print para mostrar o resultado ao usuario."
   ]
  },
  {
   "cell_type": "markdown",
   "id": "aa6cbba1",
   "metadata": {},
   "source": [
    "### Q. 5\n",
    "Calcule a média de cada aluno/turma em função das notas 1 e 2, crie uma nova coluna chamada média para mostrar estas informações. Em seguida, em função da coluna média, crie uma nova coluna chamada status e mostre se o aluno está aprovado ou reprovado. Explique sua estrutura.\n",
    "\n",
    "Se media >= 7, aprovado; Se media < 7, reprovado.\n",
    "(2 Points)"
   ]
  },
  {
   "cell_type": "code",
   "execution_count": 27,
   "id": "83a7e690",
   "metadata": {},
   "outputs": [
    {
     "name": "stdout",
     "output_type": "stream",
     "text": [
      "   id  nota1  nota2  faltas turma  media     status\n",
      "0   1    6.0    7.0       1     A   6.50  Reprovado\n",
      "1   2    5.0    6.0       3     B   5.50  Reprovado\n",
      "2   3    8.0    7.0       0     A   7.50   Aprovado\n",
      "3   4    9.5    8.0       2     B   8.75   Aprovado\n",
      "4   5    7.0    7.0       5     A   7.00   Aprovado\n"
     ]
    }
   ],
   "source": [
    "import pandas as pd\n",
    "\n",
    "df = pd.DataFrame({\n",
    "    \"id\":[1,2,3,4,5],\n",
    "    \"nota1\":[6.0, 5.0, 8.0, 9.5, 7.0],\n",
    "    \"nota2\":[7.0, 6.0, 7.0, 8.0, 7.0],\n",
    "    \"faltas\":[1, 3, 0, 2, 5],\n",
    "    \"turma\":[\"A\",\"B\",\"A\",\"B\",\"A\"]\n",
    "})\n",
    "\n",
    "df[\"media\"] = df.apply(lambda x: (x[\"nota1\"] + x[\"nota2\"]) / 2, axis=1)\n",
    "\n",
    "df[\"status\"] = df.apply(lambda x: \"Aprovado\" if x[\"media\"] >= 7 else \"Reprovado\", axis=1)\n",
    "\n",
    "print(df)\n",
    "\n",
    "# Está estrutura cria duas colunas novas na tabela (DataFrame): \"media\" e \"status\".\n",
    "# As novas colunas são criadas utilizando cada uma função apply e uma função lambda.\n",
    "# A função apply é aplicada a toda a tabela (DataFrame) para que assim a função lambda possa acessar os valores de ambas as colunas \"nota1\" e \"nota2\".\n",
    "# Utilizamos axis=1 para especificar que a função lambda será aplicada as linhas, ou seja, ao mesmo index por coluna, que corresponde as notas de cada aluno.\n",
    "# A primeira função lambda calcula a média das duas notas e atribui o novo valor da média das notas a nova coluna \"media\".\n",
    "# A segunda função lambda funciona com base nos valores da nova coluna \"media\" para definir o valor de cada linha da nova coluna \"status\".\n",
    "# A segunda função lambda retorna \"Aprovado\" para a respectiva linha da nova coluna \"status\" se o valor na mesma linha da coluna \"media\" for maior ou igual a 7, e \"Reprovado\" caso contrario.\n",
    "# Ressaltando novamente que ao utilizarmos o apply com axis=1, a função lambda utiliza os valores da mesma linha (index) e posiciona o resultado na mesma linha (index) da nova coluna.\n",
    "# Assim cada aluno (index) tem sua média e status atribuidos corretamente.\n",
    "\n",
    "# Novamente utilizamos o print para mostrar o resultado ao usuario."
   ]
  }
 ],
 "metadata": {
  "kernelspec": {
   "display_name": "Python 3",
   "language": "python",
   "name": "python3"
  },
  "language_info": {
   "codemirror_mode": {
    "name": "ipython",
    "version": 3
   },
   "file_extension": ".py",
   "mimetype": "text/x-python",
   "name": "python",
   "nbconvert_exporter": "python",
   "pygments_lexer": "ipython3",
   "version": "3.11.9"
  }
 },
 "nbformat": 4,
 "nbformat_minor": 5
}
