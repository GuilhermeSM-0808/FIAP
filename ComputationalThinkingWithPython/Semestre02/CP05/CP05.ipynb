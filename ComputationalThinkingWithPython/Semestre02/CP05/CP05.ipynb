{
 "cells": [
  {
   "cell_type": "markdown",
   "id": "2d3a967b",
   "metadata": {},
   "source": [
    "### Q. 1\n",
    "Utilizando o dataset apresentado abaixo, crie uma estrutura utilizando a função def e apply para normalizar os valores da coluna preço usando a normalização Min-Max. Explique a estrutura desenvolvida. Não é para comentar o código, explique a sua estrutura.\n",
    "\n",
    "Norm = (X - Xmin) / (Xmax - Xmin)"
   ]
  },
  {
   "cell_type": "code",
   "execution_count": null,
   "id": "e8eacb6e",
   "metadata": {},
   "outputs": [
    {
     "name": "stdout",
     "output_type": "stream",
     "text": [
      "0    0.250\n",
      "1    0.875\n",
      "2    0.000\n",
      "3    1.000\n",
      "Name: preco, dtype: float64\n"
     ]
    }
   ],
   "source": [
    "import pandas as pd\n",
    "\n",
    "df = pd.DataFrame({\n",
    "    \"produto\":[\"A\",\"B\",\"C\",\"D\"],\n",
    "    \"preco\":[10.0, 12.5, 9.0, 13.0],\n",
    "    \"desconto(%)\":[10, None, 0, 20]\n",
    "})\n",
    "\n",
    "def normalizar_preco(x):\n",
    "        return ((x - df[\"preco\"].min()) / (df[\"preco\"].max() - df[\"preco\"].min()))\n",
    "\n",
    "df[\"preco\"] = df[\"preco\"].apply(normalizar_preco)\n",
    "\n",
    "print(df[\"preco\"])\n",
    "\n",
    "# Está estrutura demonstra uma função criada especificamente para normalizar a lista de precos.\n",
    "# Ela funciona utilizando uma built-in function \"apply\", essa função aplica alguma função (ou lambda) especificada dentro de seu parenteses a todos os elementos de uma lista.\n",
    "# Neste caso a função que é aplicada a todos os preços, ou seja, a todos os elementos da lista de preços é uma função que normaliza um valor inserido em relação a lista de preços.\n",
    "# Não há conflitos em atribuir um valor (neste caso uma lista, os itens da lista) a própria variavel (a própria lista) que está sendo alterada, pois todos os valores são alterados antes de serem atribuidos a variavel\n"
   ]
  },
  {
   "cell_type": "markdown",
   "id": "8c9e5d2c",
   "metadata": {},
   "source": [
    "### Q. 2\n",
    "\n",
    "Crie uma estrutura que permita incluir uma coluna chamada cidade e substitua as informações que estão na coluna produto pelas seguintes informações:\n",
    "\n",
    "A - São Paulo; B - Rio de Janeiro; C - Belo Horizonte; D - Curitiba\n",
    "Obs:  Explique a estrutura desenvolvida. Não é para comentar o código, explique a sua estrutura.\n",
    "(2 Points)"
   ]
  },
  {
   "cell_type": "code",
   "execution_count": null,
   "id": "84221bec",
   "metadata": {},
   "outputs": [],
   "source": [
    "import pandas as pd\n",
    "\n",
    "df = pd.DataFrame({\n",
    "    \"produto\":[\"A\",\"B\",\"C\",\"D\"],\n",
    "    \"preco\":[10.0, 12.5, 9.0, 13.0],\n",
    "    \"desconto(%)\":[10, None, 0, 20]\n",
    "})"
   ]
  },
  {
   "cell_type": "markdown",
   "id": "875a12d3",
   "metadata": {},
   "source": [
    "### Q. 3\n",
    "Utilizando os dados da figura ao lado, crie uma nova coluna chamada Status e mostre o resultado de acordo com a situação abaixo: \n",
    "Crie uma estrutura para mostrar se o aluno está Aprovado, Reprovado, Recuperação, se nota >= 6.0 e frequencia >= 0.75, Aprovado, se nota >= 6.0 e frequencia < 0.75, Recuperação, se nota < 6.0 e frequencia >= 0.75, Recuperação, se nota < 6.0 e frequencia < 0.75, Reprovado.\n",
    "\n",
    "Obs: Utilize as estruturas apresentadas em sala de aula e explique a estrutura desenvolvida. Não é para comentar o código, explique a sua estrutura."
   ]
  },
  {
   "cell_type": "code",
   "execution_count": null,
   "id": "d0c92ac5",
   "metadata": {},
   "outputs": [],
   "source": [
    "import pandas as pd\n",
    "\n",
    "df = pd.DataFrame({\n",
    "    \"nota\":[5.9, 6.0, 7.5, 9.0, 9.5],\n",
    "    \"frequencia\":[0.8, 0.75, 0.7, 0.95, 0.9]\n",
    "})"
   ]
  },
  {
   "cell_type": "markdown",
   "id": "68d24829",
   "metadata": {},
   "source": [
    "### Q. 4\n",
    "Escreva uma função a ser usada com apply(axis=1) que retorne uma nova coluna chamada contagem e mostre o comprimento de cada palavra. Explique sua estrutura. "
   ]
  },
  {
   "cell_type": "code",
   "execution_count": null,
   "id": "318b816e",
   "metadata": {},
   "outputs": [],
   "source": [
    "import pandas as pd\n",
    "\n",
    "df = pd.DataFrame({\n",
    "    \"Info\":[\"Engenharia Elétrica\", \"Aprendizado de Maquina\", \"Rede Neural Convulocional 2D\", \"Inteligencia Artificial\"]\n",
    "})"
   ]
  },
  {
   "cell_type": "markdown",
   "id": "aa6cbba1",
   "metadata": {},
   "source": [
    "### Q. 5\n",
    "Calcule a média de cada aluno/turma em função das notas 1 e 2, crie uma nova coluna chamada média para mostrar estas informações. Em seguida, em função da coluna média, crie uma nova coluna chamada status e mostre se o aluno está aprovado ou reprovado. Explique sua estrutura.\n",
    "\n",
    "Se media >= 7, aprovado; Se media < 7, reprovado.\n",
    "(2 Points)"
   ]
  },
  {
   "cell_type": "code",
   "execution_count": null,
   "id": "83a7e690",
   "metadata": {},
   "outputs": [],
   "source": [
    "import pandas as pd\n",
    "\n",
    "df = pd.DataFrame({\n",
    "    \"id\":[1,2,3,4,5],\n",
    "    \"nota1\":[5.9, 6.0, 7.5, 9.0, 9.5],\n",
    "    \"nota2\":[5.9, 6.0, 7.5, 9.0, 9.5],\n",
    "    \"faltas\":[1, 3, 0, 2, 5],\n",
    "    \"turma\":[\"A\",\"B\",\"A\",\"B\",\"A\"]\n",
    "})"
   ]
  }
 ],
 "metadata": {
  "kernelspec": {
   "display_name": "anaconda-toolbox",
   "language": "python",
   "name": "python3"
  },
  "language_info": {
   "codemirror_mode": {
    "name": "ipython",
    "version": 3
   },
   "file_extension": ".py",
   "mimetype": "text/x-python",
   "name": "python",
   "nbconvert_exporter": "python",
   "pygments_lexer": "ipython3",
   "version": "3.13.5"
  }
 },
 "nbformat": 4,
 "nbformat_minor": 5
}
