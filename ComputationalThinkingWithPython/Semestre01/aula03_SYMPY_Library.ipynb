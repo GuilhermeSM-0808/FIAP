{
 "cells": [
  {
   "cell_type": "code",
   "execution_count": 1,
   "metadata": {},
   "outputs": [
    {
     "ename": "ModuleNotFoundError",
     "evalue": "No module named 'sympy'",
     "output_type": "error",
     "traceback": [
      "\u001b[1;31m---------------------------------------------------------------------------\u001b[0m",
      "\u001b[1;31mModuleNotFoundError\u001b[0m                       Traceback (most recent call last)",
      "Cell \u001b[1;32mIn[1], line 1\u001b[0m\n\u001b[1;32m----> 1\u001b[0m \u001b[38;5;28;01mfrom\u001b[39;00m \u001b[38;5;21;01msympy\u001b[39;00m \u001b[38;5;28;01mimport\u001b[39;00m \u001b[38;5;241m*\u001b[39m\n",
      "\u001b[1;31mModuleNotFoundError\u001b[0m: No module named 'sympy'"
     ]
    }
   ],
   "source": [
    "from sympy import *"
   ]
  },
  {
   "cell_type": "code",
   "execution_count": 2,
   "metadata": {},
   "outputs": [
    {
     "name": "stdout",
     "output_type": "stream",
     "text": [
      "Collecting sympy\n",
      "  Downloading sympy-1.13.3-py3-none-any.whl.metadata (12 kB)\n",
      "Collecting mpmath<1.4,>=1.1.0 (from sympy)\n",
      "  Downloading mpmath-1.3.0-py3-none-any.whl.metadata (8.6 kB)\n",
      "Downloading sympy-1.13.3-py3-none-any.whl (6.2 MB)\n",
      "   ---------------------------------------- 0.0/6.2 MB ? eta -:--:--\n",
      "   - -------------------------------------- 0.2/6.2 MB 5.3 MB/s eta 0:00:02\n",
      "   ------- -------------------------------- 1.2/6.2 MB 18.8 MB/s eta 0:00:01\n",
      "   ----------- ---------------------------- 1.8/6.2 MB 19.3 MB/s eta 0:00:01\n",
      "   ----------- ---------------------------- 1.8/6.2 MB 19.3 MB/s eta 0:00:01\n",
      "   ----------- ---------------------------- 1.8/6.2 MB 19.3 MB/s eta 0:00:01\n",
      "   ----------- ---------------------------- 1.8/6.2 MB 19.3 MB/s eta 0:00:01\n",
      "   ----------- ---------------------------- 1.8/6.2 MB 19.3 MB/s eta 0:00:01\n",
      "   ----------- ---------------------------- 1.8/6.2 MB 19.3 MB/s eta 0:00:01\n",
      "   ----------- ---------------------------- 1.8/6.2 MB 19.3 MB/s eta 0:00:01\n",
      "   ----------- ---------------------------- 1.8/6.2 MB 19.3 MB/s eta 0:00:01\n",
      "   ----------- ---------------------------- 1.8/6.2 MB 19.3 MB/s eta 0:00:01\n",
      "   ----------- ---------------------------- 1.8/6.2 MB 19.3 MB/s eta 0:00:01\n",
      "   ----------- ---------------------------- 1.8/6.2 MB 19.3 MB/s eta 0:00:01\n",
      "   ----------- ---------------------------- 1.8/6.2 MB 19.3 MB/s eta 0:00:01\n",
      "   ----------- ---------------------------- 1.8/6.2 MB 19.3 MB/s eta 0:00:01\n",
      "   ------------ --------------------------- 1.9/6.2 MB 2.5 MB/s eta 0:00:02\n",
      "   --------------- ------------------------ 2.4/6.2 MB 3.0 MB/s eta 0:00:02\n",
      "   --------------------- ------------------ 3.3/6.2 MB 3.9 MB/s eta 0:00:01\n",
      "   ----------------------- ---------------- 3.7/6.2 MB 4.2 MB/s eta 0:00:01\n",
      "   ----------------------- ---------------- 3.7/6.2 MB 4.2 MB/s eta 0:00:01\n",
      "   ----------------------- ---------------- 3.7/6.2 MB 4.2 MB/s eta 0:00:01\n",
      "   ----------------------- ---------------- 3.7/6.2 MB 4.2 MB/s eta 0:00:01\n",
      "   ----------------------- ---------------- 3.7/6.2 MB 4.2 MB/s eta 0:00:01\n",
      "   ------------------------ --------------- 3.8/6.2 MB 3.3 MB/s eta 0:00:01\n",
      "   ----------------------------- ---------- 4.5/6.2 MB 3.7 MB/s eta 0:00:01\n",
      "   --------------------------------- ------ 5.1/6.2 MB 4.1 MB/s eta 0:00:01\n",
      "   ----------------------------------- ---- 5.5/6.2 MB 4.2 MB/s eta 0:00:01\n",
      "   ----------------------------------- ---- 5.5/6.2 MB 4.2 MB/s eta 0:00:01\n",
      "   ----------------------------------- ---- 5.5/6.2 MB 4.2 MB/s eta 0:00:01\n",
      "   ----------------------------------- ---- 5.5/6.2 MB 4.2 MB/s eta 0:00:01\n",
      "   ----------------------------------- ---- 5.5/6.2 MB 4.2 MB/s eta 0:00:01\n",
      "   ----------------------------------- ---- 5.5/6.2 MB 4.2 MB/s eta 0:00:01\n",
      "   ----------------------------------- ---- 5.5/6.2 MB 4.2 MB/s eta 0:00:01\n",
      "   ----------------------------------- ---- 5.5/6.2 MB 4.2 MB/s eta 0:00:01\n",
      "   ----------------------------------- ---- 5.5/6.2 MB 4.2 MB/s eta 0:00:01\n",
      "   ----------------------------------- ---- 5.5/6.2 MB 4.2 MB/s eta 0:00:01\n",
      "   ----------------------------------- ---- 5.5/6.2 MB 4.2 MB/s eta 0:00:01\n",
      "   ----------------------------------- ---- 5.5/6.2 MB 4.2 MB/s eta 0:00:01\n",
      "   ----------------------------------- ---- 5.5/6.2 MB 4.2 MB/s eta 0:00:01\n",
      "   ----------------------------------- ---- 5.6/6.2 MB 2.8 MB/s eta 0:00:01\n",
      "   ------------------------------------- -- 5.9/6.2 MB 2.9 MB/s eta 0:00:01\n",
      "   ---------------------------------------  6.1/6.2 MB 3.0 MB/s eta 0:00:01\n",
      "   ---------------------------------------- 6.2/6.2 MB 3.0 MB/s eta 0:00:00\n",
      "Downloading mpmath-1.3.0-py3-none-any.whl (536 kB)\n",
      "   ---------------------------------------- 0.0/536.2 kB ? eta -:--:--\n",
      "   --------------- ------------------------ 204.8/536.2 kB 6.3 MB/s eta 0:00:01\n",
      "   ---------------------------------------  532.5/536.2 kB 6.7 MB/s eta 0:00:01\n",
      "   ---------------------------------------- 536.2/536.2 kB 5.7 MB/s eta 0:00:00\n",
      "Installing collected packages: mpmath, sympy\n",
      "Successfully installed mpmath-1.3.0 sympy-1.13.3\n",
      "Note: you may need to restart the kernel to use updated packages.\n"
     ]
    },
    {
     "name": "stderr",
     "output_type": "stream",
     "text": [
      "DEPRECATION: Loading egg at c:\\program files\\python312\\lib\\site-packages\\vboxapi-1.0-py3.12.egg is deprecated. pip 24.3 will enforce this behaviour change. A possible replacement is to use pip for package installation.. Discussion can be found at https://github.com/pypa/pip/issues/12330\n",
      "\n",
      "[notice] A new release of pip is available: 24.0 -> 25.0.1\n",
      "[notice] To update, run: python.exe -m pip install --upgrade pip\n"
     ]
    }
   ],
   "source": [
    "pip install sympy"
   ]
  },
  {
   "cell_type": "code",
   "execution_count": 3,
   "metadata": {},
   "outputs": [],
   "source": [
    "from sympy import *"
   ]
  },
  {
   "cell_type": "code",
   "execution_count": 4,
   "metadata": {},
   "outputs": [],
   "source": [
    "x = Symbol('x')"
   ]
  },
  {
   "cell_type": "code",
   "execution_count": 5,
   "metadata": {},
   "outputs": [
    {
     "data": {
      "text/latex": [
       "$\\displaystyle x^{3} + \\sin{\\left(x \\right)}$"
      ],
      "text/plain": [
       "x**3 + sin(x)"
      ]
     },
     "execution_count": 5,
     "metadata": {},
     "output_type": "execute_result"
    }
   ],
   "source": [
    "x**3 + sin(x)"
   ]
  },
  {
   "cell_type": "code",
   "execution_count": 6,
   "metadata": {},
   "outputs": [
    {
     "data": {
      "text/latex": [
       "$\\displaystyle \\frac{d}{d x} \\left(x^{2} + \\sin{\\left(x \\right)}\\right)$"
      ],
      "text/plain": [
       "Derivative(x**2 + sin(x), x)"
      ]
     },
     "execution_count": 6,
     "metadata": {},
     "output_type": "execute_result"
    }
   ],
   "source": [
    "Derivative(x**2 + sin(x))"
   ]
  },
  {
   "cell_type": "code",
   "execution_count": 7,
   "metadata": {},
   "outputs": [
    {
     "data": {
      "text/latex": [
       "$\\displaystyle \\int \\left(x^{2} + \\sin{\\left(x \\right)}\\right)\\, dx$"
      ],
      "text/plain": [
       "Integral(x**2 + sin(x), x)"
      ]
     },
     "execution_count": 7,
     "metadata": {},
     "output_type": "execute_result"
    }
   ],
   "source": [
    "Integral(x**2 + sin(x))"
   ]
  }
 ],
 "metadata": {
  "kernelspec": {
   "display_name": "Python 3",
   "language": "python",
   "name": "python3"
  },
  "language_info": {
   "codemirror_mode": {
    "name": "ipython",
    "version": 3
   },
   "file_extension": ".py",
   "mimetype": "text/x-python",
   "name": "python",
   "nbconvert_exporter": "python",
   "pygments_lexer": "ipython3",
   "version": "3.12.3"
  }
 },
 "nbformat": 4,
 "nbformat_minor": 2
}
