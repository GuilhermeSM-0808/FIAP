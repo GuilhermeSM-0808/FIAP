{
 "cells": [
  {
   "cell_type": "code",
   "execution_count": 1,
   "metadata": {},
   "outputs": [
    {
     "ename": "ValueError",
     "evalue": "invalid literal for int() with base 10: ''",
     "output_type": "error",
     "traceback": [
      "\u001b[1;31m---------------------------------------------------------------------------\u001b[0m",
      "\u001b[1;31mValueError\u001b[0m                                Traceback (most recent call last)",
      "Cell \u001b[1;32mIn[1], line 1\u001b[0m\n\u001b[1;32m----> 1\u001b[0m val_01 \u001b[38;5;241m=\u001b[39m \u001b[38;5;28mint\u001b[39m(\u001b[38;5;28minput\u001b[39m(\u001b[38;5;124m\"\u001b[39m\u001b[38;5;124mInsert a whole number N°1: \u001b[39m\u001b[38;5;124m\"\u001b[39m))\n\u001b[0;32m      2\u001b[0m val_02 \u001b[38;5;241m=\u001b[39m \u001b[38;5;28mint\u001b[39m(\u001b[38;5;28minput\u001b[39m(\u001b[38;5;124m\"\u001b[39m\u001b[38;5;124mInsert a whole number N°2: \u001b[39m\u001b[38;5;124m\"\u001b[39m))\n\u001b[0;32m      3\u001b[0m val_03 \u001b[38;5;241m=\u001b[39m \u001b[38;5;28mint\u001b[39m(\u001b[38;5;28minput\u001b[39m(\u001b[38;5;124m\"\u001b[39m\u001b[38;5;124mInsert a whole number N°3: \u001b[39m\u001b[38;5;124m\"\u001b[39m))\n",
      "\u001b[1;31mValueError\u001b[0m: invalid literal for int() with base 10: ''"
     ]
    }
   ],
   "source": [
    "val_01 = int(input(\"Insira um numero inteiro N°1: \"))\n",
    "val_02 = int(input(\"Insira um numero inteiro N°2: \"))\n",
    "val_03 = int(input(\"Insira um numero inteiro N°3: \"))\n",
    "\n",
    "\n",
    "if val_01 > val_02 and val_01 > val_03:\n",
    "    print(f\"N°1: {val_01} é o maior numero.\")\n",
    "elif val_02 > val_01 and val_02 > val_03:\n",
    "    print(f\"N°2: {val_02} é o maior numero.\")\n",
    "elif val_03 > val_01 and val_03 > val_02:\n",
    "    print(f\"N°3: {val_03} é o maior numero.\")\n",
    "\n",
    "if val_01 == val_02 or val_01 == val_03 or val_02 == val_03:\n",
    "    print(\"Tem numeros repetidos.\")\n",
    "    if val_01 == val_02 != val_03:\n",
    "        print(f\"Os numeroes repetidos são N°1: '{val_01}' e N°2: '{val_02}'\")\n",
    "    elif val_01 != val_02 == val_03:\n",
    "        print(f\"Os numeroes repetidos são N°2: '{val_02}' e N°3: '{val_03}'\")\n",
    "    elif val_01 == val_03 != val_02:\n",
    "        print(f\"Os numeroes repetidos são N°1: '{val_01}' e N°3: '{val_03}'\")\n",
    "    else:\n",
    "        print(f\"Todos os numeros são iguais. N°1: '{val_01}', N°2: '{val_02}' e N°3: '{val_03}'\")"
   ]
  },
  {
   "cell_type": "code",
   "execution_count": 2,
   "metadata": {},
   "outputs": [
    {
     "ename": "SyntaxError",
     "evalue": "incomplete input (3096733149.py, line 12)",
     "output_type": "error",
     "traceback": [
      "\u001b[1;36m  Cell \u001b[1;32mIn[2], line 12\u001b[1;36m\u001b[0m\n\u001b[1;33m    \u001b[0m\n\u001b[1;37m    ^\u001b[0m\n\u001b[1;31mSyntaxError\u001b[0m\u001b[1;31m:\u001b[0m incomplete input\n"
     ]
    }
   ],
   "source": [
    "user_list = [\"foobar\",\"guest\",\"user1\"]\n",
    "\n",
    "user_input = str(input(\"Insira seu usuario: \"))\n",
    "\n",
    "if user_input == \"admin\":\n",
    "    password_input = str(input(\"Insira a senha: \"))\n",
    "    if password_input == \"12345\":\n",
    "        print(\"Acesso concedido.\")\n",
    "    else:\n",
    "        print(\"Senha Incorreta.\")\n",
    "elif user_input == user_list[0] or user_input == user_list[1] or user_input == user_list[2]:\n",
    "    print(\"Acesso limitado.\")\n",
    "else:\n",
    "    print(\"Usuário não reconhecido.\")\n",
    "\n"
   ]
  },
  {
   "cell_type": "code",
   "execution_count": null,
   "metadata": {},
   "outputs": [],
   "source": [
    "consumo_mensal = float(input(\"Insira seu consumo mensal de energia em kWh:\"))\n",
    "\n",
    "if consumo_mensal < 0:\n",
    "    total = consumo_mensal * 0.5\n",
    "elif 0 <= consumo_mensal <= 50:\n",
    "    total = consumo_mensal * 0.5\n",
    "elif 50 < consumo_mensal < 100:\n",
    "    total = consumo_mensal * 0.75\n",
    "else:\n",
    "    total = (consumo_mensal * 1.2) + 5\n",
    "\n",
    "if 0 <= consumo_mensal:\n",
    "    print(f\"O valor da sua conta é: R$ {total}\")\n",
    "else:\n",
    "    print(f\"Você forneceu energia para a rede, você recebeu credito com valor de: R$ {total}\")\n"
   ]
  },
  {
   "cell_type": "code",
   "execution_count": null,
   "metadata": {},
   "outputs": [],
   "source": [
    "Turbinas = [\"Kaplan\",\"Francisou\",\"Pelton\"]\n",
    "Vazao = [\"Alta\",\"Média\",\"Baixa\"]\n",
    "\n",
    "valido = True\n",
    "\n",
    "input_turb = str(input(\"Insira o nome da Turbina em funcionamento: \"))\n",
    "input_vazao = str(input(\"Insira o nivel de vazão de agua: \"))\n",
    "\n",
    "if input_turb != Turbinas[0] and input_turb != Turbinas[1] and input_turb != Turbinas[2]:\n",
    "    valido = False\n",
    "if input_vazao != Vazao[0] and input_vazao != Vazao[1] and input_vazao != Vazao[2]:\n",
    "    valido = False\n",
    "\n",
    "if valido == True:\n",
    "    if (input_turb == Turbinas[0] and input_vazao == Vazao[0]) or (input_turb == Turbinas[2] and input_vazao == Vazao[2]):\n",
    "        Efi = \"maxima\"\n",
    "    elif input_turb == Turbinas[1] and input_vazao != Vazao[2]:\n",
    "        Efi = \"moderada\"\n",
    "    else:\n",
    "        Efi = \"minima\"\n",
    "    print(f\"Eficiencia {Efi}\")\n",
    "else:\n",
    "    print(\"Input invalido.\")\n"
   ]
  }
 ],
 "metadata": {
  "kernelspec": {
   "display_name": "base",
   "language": "python",
   "name": "python3"
  },
  "language_info": {
   "codemirror_mode": {
    "name": "ipython",
    "version": 3
   },
   "file_extension": ".py",
   "mimetype": "text/x-python",
   "name": "python",
   "nbconvert_exporter": "python",
   "pygments_lexer": "ipython3",
   "version": "3.11.7"
  }
 },
 "nbformat": 4,
 "nbformat_minor": 2
}
