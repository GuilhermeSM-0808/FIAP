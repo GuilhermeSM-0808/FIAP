{
 "cells": [
  {
   "cell_type": "markdown",
   "metadata": {},
   "source": [
    "## Revisão pré-CP02"
   ]
  },
  {
   "cell_type": "markdown",
   "metadata": {},
   "source": [
    "Exemplo para transformar temperatura fahrentheit em graus celsius"
   ]
  },
  {
   "cell_type": "code",
   "execution_count": 7,
   "metadata": {},
   "outputs": [
    {
     "name": "stdout",
     "output_type": "stream",
     "text": [
      "Temp em celsius: 20.56°C\n",
      "Temp em celsius: 22.22°C\n",
      "Temp em celsius: 2.22°C\n",
      "Temp em celsius: 0.00°C\n"
     ]
    }
   ],
   "source": [
    "temp_clesius = 0.0\n",
    "temp_fahr = float(input(\"Digite a temperaura em fahrenheit: \"))\n",
    "\n",
    "while temp_fahr != 0:\n",
    "    temp_celsius = 5/9 * (temp_fahr - 32)\n",
    "    print(f\"Temp em celsius: {temp_celsius:.2f}°C\")\n",
    "    temp_fahr = float(input(\"Digite a temperaura em fahrenheit: \"))\n"
   ]
  },
  {
   "cell_type": "code",
   "execution_count": null,
   "metadata": {},
   "outputs": [],
   "source": [
    "temp_clesius = 0.0\n",
    "lista_temp_celsius = []\n",
    "temp_fahr = float(input(\"Digite a temperaura em fahrenheit: \"))\n",
    "\n",
    "while temp_fahr != 0:\n",
    "    temp_celsius = 5/9 * (temp_fahr - 32)\n",
    "    lista_temp_celsius.append(temp_celsius)\n",
    "    print(f\"Temp em celsius: {temp_celsius:.2f}°C\")\n",
    "    temp_fahr = float(input(\"Digite a temperaura em fahrenheit: \"))\n",
    "\n",
    "soma_temp_celsius = 0\n",
    "media_temp_celsius = 0\n",
    "\n",
    "for temp in lista"
   ]
  },
  {
   "cell_type": "code",
   "execution_count": 21,
   "metadata": {},
   "outputs": [
    {
     "name": "stdout",
     "output_type": "stream",
     "text": [
      "[10, 20, 30]\n",
      "[0.5, 1.0, 1.5]\n"
     ]
    }
   ],
   "source": [
    "valores = [10,20,30]\n",
    "soma = 0\n",
    "media = 0\n",
    "\n",
    "\n",
    "for v in valores:\n",
    "    soma += v\n",
    "\n",
    "media = soma / len(valores)    \n",
    "\n",
    "# print(soma)\n",
    "# print(media)\n",
    "\n",
    "taxa = []\n",
    "\n",
    "for n in range(len(valores)):\n",
    "    taxa.append(valores[n] / media)\n",
    "    \n",
    "\n",
    "print(valores)\n",
    "print(taxa)\n",
    "\n"
   ]
  }
 ],
 "metadata": {
  "kernelspec": {
   "display_name": "base",
   "language": "python",
   "name": "python3"
  },
  "language_info": {
   "codemirror_mode": {
    "name": "ipython",
    "version": 3
   },
   "file_extension": ".py",
   "mimetype": "text/x-python",
   "name": "python",
   "nbconvert_exporter": "python",
   "pygments_lexer": "ipython3",
   "version": "3.11.7"
  }
 },
 "nbformat": 4,
 "nbformat_minor": 2
}
