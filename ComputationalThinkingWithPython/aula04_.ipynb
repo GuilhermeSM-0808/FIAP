{
 "cells": [
  {
   "cell_type": "code",
   "execution_count": null,
   "metadata": {},
   "outputs": [],
   "source": [
    "run = True\n",
    "Nomes = []\n",
    "CPFS = []\n",
    "\n",
    "while run == True:\n",
    "    Nome = str(input(\"Insira o nome do cliente: \"))\n",
    "    if Nome == (\"Exit\"):\n",
    "        run = False\n",
    "        break\n",
    "    CPF = int(input(\"Insira CPF do cliente: \"))\n",
    "\n",
    "\n",
    "    if not len(str(CPF)) == 11:\n",
    "        print(\"CPF Invalido\")\n",
    "    else:\n",
    "        Nomes.append(Nome)\n",
    "        CPFS.append(CPF)\n",
    "\n",
    "\n",
    "print(Nomes)\n",
    "print(CPFS)"
   ]
  },
  {
   "cell_type": "code",
   "execution_count": null,
   "metadata": {},
   "outputs": [],
   "source": [
    "for i in range(1,11,2):\n",
    "    print(i)"
   ]
  },
  {
   "cell_type": "code",
   "execution_count": null,
   "metadata": {},
   "outputs": [],
   "source": [
    "for i in range(5,0,-1):\n",
    "    print(i)"
   ]
  },
  {
   "cell_type": "code",
   "execution_count": null,
   "metadata": {},
   "outputs": [],
   "source": [
    "#Ex. 6\n",
    "\n",
    "for i in range (1, 11):\n",
    "    if i ==5:\n",
    "        print(\"Valor encontrado\", i)\n",
    "        break"
   ]
  },
  {
   "cell_type": "code",
   "execution_count": null,
   "metadata": {},
   "outputs": [],
   "source": [
    "#Ex. 7\n",
    "\n",
    "for k in range(1, 6):\n",
    "    if k == 3:\n",
    "        continue\n",
    "    print(k)\n"
   ]
  },
  {
   "cell_type": "code",
   "execution_count": null,
   "metadata": {},
   "outputs": [],
   "source": [
    "#Ex. 8\n",
    "\n",
    "for s in range(1,11):\n",
    "    m = s**2\n",
    "    print(m)"
   ]
  },
  {
   "cell_type": "code",
   "execution_count": null,
   "metadata": {},
   "outputs": [],
   "source": [
    "#Ex. 9\n",
    "sum_cube = 0\n",
    "\n",
    "for k in range(1, 6):\n",
    "    cube = k**2\n",
    "    sum_cube += cube\n",
    "print(sum_cube)"
   ]
  },
  {
   "cell_type": "code",
   "execution_count": null,
   "metadata": {},
   "outputs": [],
   "source": [
    "#Ex. 10\n",
    "\n",
    "sum_cube = 0\n",
    "\n",
    "for k in range(1,8):\n",
    "    cube = k**2\n",
    "    sum_cube += cube\n",
    "average = sum_cube / k\n",
    "print(average)"
   ]
  },
  {
   "cell_type": "code",
   "execution_count": null,
   "metadata": {},
   "outputs": [],
   "source": [
    "#Q1\n",
    "\n",
    "for i in range(2,12,2):\n",
    "    print(i**2)"
   ]
  },
  {
   "cell_type": "code",
   "execution_count": null,
   "metadata": {},
   "outputs": [],
   "source": [
    "#Q2\n",
    "\n",
    "sum_price = 0\n",
    "\n",
    "for i in range(5):\n",
    "    price = float(input(\"Insert product price: \"))\n",
    "    sum_price += price\n",
    "    average = sum_price / i\n",
    "print(f\"Total price to be paid is: {sum_price:.2f}\")\n",
    "print(f\"Average price per item is: {average:.2f}\")"
   ]
  },
  {
   "cell_type": "code",
   "execution_count": null,
   "metadata": {},
   "outputs": [],
   "source": [
    "#Q3\n",
    "\n",
    "mult = int(input(\"Insert a whole number for the Tabuada: \"))\n",
    "\n",
    "for i in range(1,11):\n",
    "    print(f\"{i} x {mult} =\",mult*i)"
   ]
  },
  {
   "cell_type": "code",
   "execution_count": 11,
   "metadata": {},
   "outputs": [
    {
     "name": "stdout",
     "output_type": "stream",
     "text": [
      "Temperature N°1 in Celsius is:  44.44444444444444\n",
      "Temperature N°2 in Celsius is:  20.0\n",
      "Temperature N°3 in Celsius is:  -15.0\n"
     ]
    }
   ],
   "source": [
    "x = int(input(\"How many values of temperature do you want to convert: \"))\n",
    "\n",
    "for i in range(x):\n",
    "\n",
    "    temp_f = float(input(f\"Insert Fahrenheit temperature N°{i+1}: \"))\n",
    "    print(f\"Temperature N°{i+1} in Celsius is: \", 5/9 * (temp_f - 32))"
   ]
  },
  {
   "cell_type": "code",
   "execution_count": 10,
   "metadata": {},
   "outputs": [
    {
     "name": "stdout",
     "output_type": "stream",
     "text": [
      "Temperature N°1 in Celsius is: 44.44 °C\n",
      "Temperature N°2 in Celsius is: 20.00 °C\n",
      "Temperature N°3 in Celsius is: -15.00 °C\n"
     ]
    }
   ],
   "source": [
    "x = int(input(\"How many values of temperature do you want to convert: \"))\n",
    "\n",
    "for i in range(x):\n",
    "\n",
    "    temp_f = float(input(f\"Insert Fahrenheit temperature N°{i+1}: \"))\n",
    "    temp_c = 5/9 * (temp_f - 32)\n",
    "    print(f\"Temperature N°{i+1} in Celsius is: {temp_c:.2f} °C\")"
   ]
  }
 ],
 "metadata": {
  "kernelspec": {
   "display_name": "Python 3",
   "language": "python",
   "name": "python3"
  },
  "language_info": {
   "codemirror_mode": {
    "name": "ipython",
    "version": 3
   },
   "file_extension": ".py",
   "mimetype": "text/x-python",
   "name": "python",
   "nbconvert_exporter": "python",
   "pygments_lexer": "ipython3",
   "version": "3.11.7"
  }
 },
 "nbformat": 4,
 "nbformat_minor": 2
}
