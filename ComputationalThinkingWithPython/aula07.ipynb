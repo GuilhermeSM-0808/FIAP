{
 "cells": [
  {
   "cell_type": "markdown",
   "metadata": {},
   "source": [
    "# Pandas com Dicionarios criando tabelas"
   ]
  },
  {
   "cell_type": "code",
   "execution_count": 1,
   "metadata": {},
   "outputs": [
    {
     "name": "stdout",
     "output_type": "stream",
     "text": [
      "{'nome': ['foo', 'bar', 'foobar', 'qux'], 'cep': [444, 333, 222, 111]}\n"
     ]
    },
    {
     "data": {
      "text/html": [
       "<div>\n",
       "<style scoped>\n",
       "    .dataframe tbody tr th:only-of-type {\n",
       "        vertical-align: middle;\n",
       "    }\n",
       "\n",
       "    .dataframe tbody tr th {\n",
       "        vertical-align: top;\n",
       "    }\n",
       "\n",
       "    .dataframe thead th {\n",
       "        text-align: right;\n",
       "    }\n",
       "</style>\n",
       "<table border=\"1\" class=\"dataframe\">\n",
       "  <thead>\n",
       "    <tr style=\"text-align: right;\">\n",
       "      <th></th>\n",
       "      <th>nome</th>\n",
       "      <th>cep</th>\n",
       "    </tr>\n",
       "  </thead>\n",
       "  <tbody>\n",
       "    <tr>\n",
       "      <th>0</th>\n",
       "      <td>foo</td>\n",
       "      <td>444</td>\n",
       "    </tr>\n",
       "    <tr>\n",
       "      <th>1</th>\n",
       "      <td>bar</td>\n",
       "      <td>333</td>\n",
       "    </tr>\n",
       "    <tr>\n",
       "      <th>2</th>\n",
       "      <td>foobar</td>\n",
       "      <td>222</td>\n",
       "    </tr>\n",
       "    <tr>\n",
       "      <th>3</th>\n",
       "      <td>qux</td>\n",
       "      <td>111</td>\n",
       "    </tr>\n",
       "  </tbody>\n",
       "</table>\n",
       "</div>"
      ],
      "text/plain": [
       "     nome  cep\n",
       "0     foo  444\n",
       "1     bar  333\n",
       "2  foobar  222\n",
       "3     qux  111"
      ]
     },
     "execution_count": 1,
     "metadata": {},
     "output_type": "execute_result"
    }
   ],
   "source": [
    "dicionario = {\n",
    "       'nome':['foo','bar','foobar','qux'],\n",
    "        'cep':[ 444, 333, 222, 111 ]       \n",
    "       }\n",
    "print(dicionario)\n",
    "\n",
    "import pandas as pd\n",
    "\n",
    "dataframe = pd.DataFrame(dicionario)\n",
    "dataframe"
   ]
  },
  {
   "cell_type": "markdown",
   "metadata": {},
   "source": [
    "Extrutura de reptição para preencher uma lista"
   ]
  },
  {
   "cell_type": "code",
   "execution_count": 6,
   "metadata": {},
   "outputs": [
    {
     "name": "stdout",
     "output_type": "stream",
     "text": [
      "['banana', 'laranja', 'manga', 'abacaxi', 'pera']\n",
      "banana\n",
      "laranja\n",
      "manga\n",
      "abacaxi\n",
      "pera\n"
     ]
    }
   ],
   "source": [
    "lista_frutas = []\n",
    "\n",
    "for k in range(5):\n",
    "    frutas = input(\"Insert a fruit name: \")\n",
    "    lista_frutas.append(frutas)\n",
    "\n",
    "print(lista_frutas)\n",
    "\n",
    "for k in lista_frutas:\n",
    "    print(k)\n",
    "\n"
   ]
  },
  {
   "cell_type": "code",
   "execution_count": 9,
   "metadata": {},
   "outputs": [
    {
     "name": "stdout",
     "output_type": "stream",
     "text": [
      "['Foo', 'Bar', 'Foobar', 'Qux', 'Bob'] ['456', '234', '069', '292', '001']\n"
     ]
    }
   ],
   "source": [
    "lista_nomes = []\n",
    "lista_cpfs = []\n",
    "\n",
    "for k in range(5):\n",
    "    nome = input(f\"Insira nome N°{k+1}\")\n",
    "    cpf = input(f\"Insira cpf N°{k+1}\")\n",
    "    lista_nomes.append(nome)\n",
    "    lista_cpfs.append(cpf)\n",
    "\n",
    "print(lista_nomes,lista_cpfs)"
   ]
  },
  {
   "cell_type": "code",
   "execution_count": 11,
   "metadata": {},
   "outputs": [
    {
     "name": "stdout",
     "output_type": "stream",
     "text": [
      "Fruta N°1: banana\n",
      "Fruta N°2: laranja\n",
      "Fruta N°3: manga\n",
      "Fruta N°4: abacaxi\n",
      "Fruta N°5: pera\n"
     ]
    }
   ],
   "source": [
    "lista_frutas = ['banana', 'laranja', 'manga', 'abacaxi', 'pera']\n",
    "\n",
    "for i in range(len(lista_frutas)):\n",
    "    print(f\"Fruta N°{i+1}: {lista_frutas[i]}\")"
   ]
  },
  {
   "cell_type": "code",
   "execution_count": 14,
   "metadata": {},
   "outputs": [
    {
     "name": "stdout",
     "output_type": "stream",
     "text": [
      "7\n",
      "5\n"
     ]
    }
   ],
   "source": [
    "print(len(\"Amazing\"))\n",
    "print(len(lista_frutas))"
   ]
  },
  {
   "cell_type": "code",
   "execution_count": 15,
   "metadata": {},
   "outputs": [
    {
     "name": "stdout",
     "output_type": "stream",
     "text": [
      "p\n",
      "y\n",
      "t\n",
      "h\n",
      "o\n",
      "n\n"
     ]
    }
   ],
   "source": [
    "text = \"python\"\n",
    "\n",
    "for w in text:\n",
    "    print(w)"
   ]
  },
  {
   "cell_type": "code",
   "execution_count": 16,
   "metadata": {},
   "outputs": [
    {
     "name": "stdout",
     "output_type": "stream",
     "text": [
      "The cube of 2 is 4.\n",
      "The cube of 4 is 16.\n",
      "The cube of 6 is 36.\n",
      "The cube of 8 is 64.\n"
     ]
    }
   ],
   "source": [
    "numbers = [2,4,6,8]\n",
    "\n",
    "for n in numbers:\n",
    "    cube = n **2\n",
    "    print(f\"The cube of {n} is {cube}.\")"
   ]
  },
  {
   "cell_type": "markdown",
   "metadata": {},
   "source": [
    "Exercisio passado durante aula, 10min pra fazer"
   ]
  },
  {
   "cell_type": "code",
   "execution_count": 17,
   "metadata": {},
   "outputs": [
    {
     "name": "stdout",
     "output_type": "stream",
     "text": [
      "computador\n",
      "programação\n"
     ]
    }
   ],
   "source": [
    "palavras = ['casa','computador','sol','programação']\n",
    "palavras_longas = []\n",
    "\n",
    "for k in palavras:\n",
    "    if len(k) > 5:\n",
    "        palavras_longas.append(k)\n",
    "\n",
    "if len(palavras_longas) > 0:\n",
    "    for k in palavras_longas:\n",
    "        print(k)"
   ]
  },
  {
   "cell_type": "markdown",
   "metadata": {},
   "source": [
    "Exercisio 02 passado em aula"
   ]
  },
  {
   "cell_type": "code",
   "execution_count": 20,
   "metadata": {},
   "outputs": [
    {
     "name": "stdout",
     "output_type": "stream",
     "text": [
      "30\n"
     ]
    }
   ],
   "source": [
    "num = [1, 4, 7, 10, 13, 16]\n",
    "soma = 0\n",
    "\n",
    "for n in num:\n",
    "    if n % 2 == 0:  \n",
    "        soma += n\n",
    "\n",
    "print(soma)"
   ]
  },
  {
   "cell_type": "code",
   "execution_count": 36,
   "metadata": {},
   "outputs": [
    {
     "name": "stdout",
     "output_type": "stream",
     "text": [
      "[[10, 20, 30], [3, 6, 8], ['a', 'g', 'h']]\n"
     ]
    }
   ],
   "source": [
    "lista_A = [10,20,30]\n",
    "lista_B = [3,6,8]\n",
    "lista_C = ['a','g','h']\n",
    "\n",
    "lista_nova = []\n",
    "lista_nova.append([lista_A, lista_B,lista_C])\n",
    "\n",
    "print(lista_nova[0])"
   ]
  },
  {
   "cell_type": "markdown",
   "metadata": {},
   "source": [
    "Solicitar 5 produtos e seus preços, armazenar em listas separadas, retornar os respectivos produtos e preços, além do valor total dos produtos."
   ]
  },
  {
   "cell_type": "code",
   "execution_count": 42,
   "metadata": {},
   "outputs": [
    {
     "name": "stdout",
     "output_type": "stream",
     "text": [
      "Produto: Banana, preço: R$ 2.35\n",
      "Produto: Sneakers, preço: R$ 4.99\n",
      "Produto: Whey Protein, preço: R$ 239.99\n",
      "Produto: Alface Frisee, preço: R$ 12.99\n",
      "Produto: Mandioca, preço: R$ 16.99\n",
      "O preço total é: R$ 277.31\n"
     ]
    }
   ],
   "source": [
    "produtos = []\n",
    "precos = []\n",
    "soma = 0\n",
    "quantidade = 5\n",
    "\n",
    "for i in range(quantidade):\n",
    "    produto = input(f\"Insira o nome do produto {i+1}:\" )\n",
    "    preco = float(input(f\"Insira o preço do {produto}: \"))\n",
    "    produtos.append(produto)\n",
    "    precos.append(preco)\n",
    "    soma += precos[s]\n",
    "\n",
    "for p in range(quantidade):\n",
    "    print(f\"Produto: {produtos[p]}, preço: R$ {precos[p]:.2f}\")\n",
    "\n",
    "print(f\"O preço total é: R$ {soma:.2f}\")"
   ]
  },
  {
   "cell_type": "markdown",
   "metadata": {},
   "source": [
    "Calculo de descontos na folha de pagamento. Solicitar 5 nomes e salários, calcular desconto conforme faixa slarial e mostrar salário liquido.\n",
    "\n",
    "<= 1500 -0.05\n",
    "\n",
    "1500 < desconto <= 3000 - 0.10\n",
    "\n",
    ".> 3000 - 0.15\n",
    "\n",
    "Retornar os respectivos valores em uma lista"
   ]
  },
  {
   "cell_type": "code",
   "execution_count": 40,
   "metadata": {},
   "outputs": [
    {
     "name": "stdout",
     "output_type": "stream",
     "text": [
      "Nome Foo. Salario liquido: R$ 1140.0\n",
      "Nome Bar. Salario liquido: R$ 3060.0\n",
      "Nome Foobar. Salario liquido: R$ 2070.0\n",
      "Nome Qux. Salario liquido: R$ 570.0\n",
      "Nome Gui. Salario liquido: R$ 1275000.0\n"
     ]
    }
   ],
   "source": [
    "nomes = []\n",
    "salario = []\n",
    "quantidade = 5\n",
    "\n",
    "\n",
    "for i in range(quantidade):\n",
    "    input_n = input(\"Insira o nome da pessoa: \")\n",
    "    input_s = float(input(f\"Insira o salario de {input_n}: \"))\n",
    "    nomes.append(input_n)\n",
    "    salario.append(input_s)\n",
    "\n",
    "for s in range(quantidade):\n",
    "    if salario[s] <= 1500:\n",
    "        salario[s] = (salario[s] * 0.95)\n",
    "    elif 1500 < salario[s] <= 3000:\n",
    "        salario[s] = (salario[s] * 0.90)\n",
    "    else:\n",
    "        salario[s] = (salario[s] * 0.85)\n",
    "\n",
    "for p in range(quantidade):\n",
    "    print(f\"Nome {nomes[p]}. Salario liquido: R$ {salario[p]}\")"
   ]
  }
 ],
 "metadata": {
  "kernelspec": {
   "display_name": "base",
   "language": "python",
   "name": "python3"
  },
  "language_info": {
   "codemirror_mode": {
    "name": "ipython",
    "version": 3
   },
   "file_extension": ".py",
   "mimetype": "text/x-python",
   "name": "python",
   "nbconvert_exporter": "python",
   "pygments_lexer": "ipython3",
   "version": "3.11.7"
  }
 },
 "nbformat": 4,
 "nbformat_minor": 2
}
