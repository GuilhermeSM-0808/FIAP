{
 "cells": [
  {
   "cell_type": "code",
   "execution_count": 2,
   "metadata": {},
   "outputs": [
    {
     "name": "stdout",
     "output_type": "stream",
     "text": [
      "The whole number is 808\n",
      "The non-whole number is 35.21\n",
      "The word is Foobar\n"
     ]
    }
   ],
   "source": [
    "var_1 = int(input(\"Insert a whole number: \"))\n",
    "var_2 = float(input(\"Insert a non-whole number: \"))\n",
    "var_3 = str(input(\"Insert a word: \"))\n",
    "\n",
    "print(f\"The whole number is {var_1}\")\n",
    "print(f\"The non-whole number is {var_2:.03f}\")\n",
    "print(f\"The word is {var_3}\")"
   ]
  },
  {
   "cell_type": "code",
   "execution_count": 4,
   "metadata": {},
   "outputs": [
    {
     "name": "stdout",
     "output_type": "stream",
     "text": [
      "welcome gui\n"
     ]
    }
   ],
   "source": [
    "name = str(input(\"Insert your name: \"))\n",
    "\n",
    "if name == \"Fiap\":\n",
    "    print(\"WELCOME FIAP!\")\n",
    "else:\n",
    "    print(f\"welcome {name.lower()}\")"
   ]
  },
  {
   "cell_type": "code",
   "execution_count": 5,
   "metadata": {},
   "outputs": [
    {
     "name": "stdout",
     "output_type": "stream",
     "text": [
      "Access granted!\n"
     ]
    }
   ],
   "source": [
    "name = str(input(\"Insert your name: \"))\n",
    "\n",
    "if name  == 'fiap':\n",
    "    rm = int(input(\"Insert your RM: \"))\n",
    "    if rm == 88888:\n",
    "        print(\"Access granted!\")\n",
    "    else:\n",
    "        print(\"Access denied.\")"
   ]
  },
  {
   "cell_type": "code",
   "execution_count": 9,
   "metadata": {},
   "outputs": [
    {
     "name": "stdout",
     "output_type": "stream",
     "text": [
      "Access denied. Try again.\n",
      "Access denied. Try again.\n",
      "Access denied. Try again.\n",
      "Too many attempts, you've been blocked.\n"
     ]
    }
   ],
   "source": [
    "name = str(input(\"Insert your name: \"))\n",
    "\n",
    "if name == 'foobar':\n",
    "    for k in range(3):\n",
    "        rm = int(input(\"Insert your RM: \"))\n",
    "        if rm == 88888:\n",
    "            print(\"Access granted!\")\n",
    "            break\n",
    "        else:\n",
    "            print(\"Access denied. Try again.\")\n",
    "            if k == 2:\n",
    "                print(\"Too many attempts, you've been blocked.\")\n",
    "else:\n",
    "    print(\"Unkown user.\")"
   ]
  },
  {
   "cell_type": "code",
   "execution_count": 9,
   "metadata": {},
   "outputs": [
    {
     "name": "stdout",
     "output_type": "stream",
     "text": [
      "The area of your selected geometry is 201.06.\n",
      " And the perimeter is 50.27.\n"
     ]
    }
   ],
   "source": [
    "import math\n",
    "\n",
    "choice = int(input(\"Insert the number of the geometry shape you want to calculate the area and perimeter of: (1 for square, 2 for tectangle, 3 for circle, 4 for triangle)\"))\n",
    "\n",
    "match choice:\n",
    "    case choice if choice == 1:\n",
    "        side1 = float(input(\"Insert the length of one side of the cube: \"))\n",
    "        if not choice == 0:\n",
    "            area = side1 * side1\n",
    "            perimeter = side1 * 4\n",
    "        else:\n",
    "            print(\"Invalid Input. Value is zero.\")\n",
    "    case choice if choice == 2:\n",
    "        side1 = float(input(\"Insert the length of the rectangle: \"))\n",
    "        side2 = float(input(\"Insert the height of the rectangle: \"))\n",
    "        if not side1 == 0 or side2 == 0:\n",
    "            area = side1 * side2\n",
    "            perimeter = (side1 * 2) + (side2 * 2)\n",
    "        else:\n",
    "            print(\"Invalid input. One or two values is zero\")\n",
    "    case choice if choice == 3:\n",
    "        radius = float(input(\"Insert the radius of the circle: \"))\n",
    "        if not radius == 0:\n",
    "            area = math.pi * radius ** 2\n",
    "            perimeter = 2 * pi * radius\n",
    "        else:\n",
    "            print(\"Invalid input. Value is zero.\")\n",
    "    case choice if choice == 4:\n",
    "        base = float(input(\"Insert the base of the triangle: \"))\n",
    "        height = float(input(\"Insert the height of the triangle: \"))\n",
    "        if not base == 0 or height == 0:\n",
    "            area = (base * height) / 2\n",
    "            perimeter = base + height + math.sqrt((base**2 + height**2))\n",
    "        else:\n",
    "            print(\"Invalid Input. One or more Values is zero.\")\n",
    "if not area == 0: \n",
    "    print(f\"The area of your selected geometry is {area:.2f}.\\n And the perimeter is {perimeter:.2f}.\")"
   ]
  }
 ],
 "metadata": {
  "kernelspec": {
   "display_name": "base",
   "language": "python",
   "name": "python3"
  },
  "language_info": {
   "codemirror_mode": {
    "name": "ipython",
    "version": 3
   },
   "file_extension": ".py",
   "mimetype": "text/x-python",
   "name": "python",
   "nbconvert_exporter": "python",
   "pygments_lexer": "ipython3",
   "version": "3.11.7"
  }
 },
 "nbformat": 4,
 "nbformat_minor": 2
}
