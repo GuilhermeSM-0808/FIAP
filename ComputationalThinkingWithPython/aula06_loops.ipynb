{
 "cells": [
  {
   "cell_type": "code",
   "execution_count": 4,
   "metadata": {},
   "outputs": [
    {
     "name": "stdout",
     "output_type": "stream",
     "text": [
      "1\n",
      "2\n",
      "3\n",
      "4\n",
      "5\n"
     ]
    }
   ],
   "source": [
    "for i in range(5):\n",
    "    print(i+1)"
   ]
  },
  {
   "cell_type": "code",
   "execution_count": 5,
   "metadata": {},
   "outputs": [
    {
     "name": "stdout",
     "output_type": "stream",
     "text": [
      "1\n",
      "2\n",
      "3\n",
      "4\n",
      "5\n"
     ]
    }
   ],
   "source": [
    "lista = [1,2,3,4,5]\n",
    "\n",
    "for k in lista:\n",
    "    print(k)"
   ]
  },
  {
   "cell_type": "code",
   "execution_count": 9,
   "metadata": {},
   "outputs": [
    {
     "name": "stdout",
     "output_type": "stream",
     "text": [
      "5\n",
      "3\n",
      "4\n",
      "2\n",
      "7\n"
     ]
    }
   ],
   "source": [
    "for i in range(5):\n",
    "    number = int(input(f\"Insert the {i+1}th number: \"))\n",
    "    print(number)"
   ]
  },
  {
   "cell_type": "code",
   "execution_count": 10,
   "metadata": {},
   "outputs": [
    {
     "name": "stdout",
     "output_type": "stream",
     "text": [
      "0\n",
      "2\n",
      "4\n",
      "6\n",
      "8\n"
     ]
    }
   ],
   "source": [
    "for k in range(10):\n",
    "    if k % 2 == 0:\n",
    "        print(k)"
   ]
  },
  {
   "cell_type": "code",
   "execution_count": 11,
   "metadata": {},
   "outputs": [
    {
     "name": "stdout",
     "output_type": "stream",
     "text": [
      "[5.0, 8.0, 15.0, 18.0, 24.0]\n"
     ]
    }
   ],
   "source": [
    "l_number = []\n",
    "\n",
    "for i in range(5):\n",
    "    n = float(input(\"Insert a number: \"))\n",
    "    l_number.append(n)\n",
    "\n",
    "print(l_number)"
   ]
  },
  {
   "cell_type": "code",
   "execution_count": 13,
   "metadata": {},
   "outputs": [
    {
     "name": "stdout",
     "output_type": "stream",
     "text": [
      "1\n",
      "2\n",
      "3\n",
      "4\n",
      "5\n"
     ]
    }
   ],
   "source": [
    "i = 1\n",
    "\n",
    "while i <= 5:\n",
    "    print(i)\n",
    "    i += 1"
   ]
  },
  {
   "cell_type": "code",
   "execution_count": 15,
   "metadata": {},
   "outputs": [
    {
     "name": "stdout",
     "output_type": "stream",
     "text": [
      "0\n",
      "1\n",
      "2\n",
      "3\n",
      "4\n",
      "5\n",
      "4\n",
      "3\n",
      "2\n",
      "1\n",
      "0\n"
     ]
    }
   ],
   "source": [
    "i = 0\n",
    "x = False\n",
    "\n",
    "while i != -1:\n",
    "    if x == True:\n",
    "        print(i)\n",
    "        i -= 1\n",
    "    else:\n",
    "        print(i)\n",
    "        i += 1\n",
    "        if i == 5:\n",
    "            x = True\n"
   ]
  },
  {
   "cell_type": "code",
   "execution_count": null,
   "metadata": {},
   "outputs": [],
   "source": [
    "# Loop Infinito! WARNING! Infinite Loop!\n",
    "# while True:\n",
    "#     print(\"Infinite Loop!\")"
   ]
  },
  {
   "cell_type": "code",
   "execution_count": 23,
   "metadata": {},
   "outputs": [
    {
     "name": "stdout",
     "output_type": "stream",
     "text": [
      "Wrong password, try again: \n",
      "Wrong password, try again: \n",
      "Access Granted.\n"
     ]
    }
   ],
   "source": [
    "correct_password = \"p4ssw0rd\"\n",
    "attempts = 0\n",
    "password =\"\"\n",
    "\n",
    "while password != correct_password:\n",
    "    attempts += 1\n",
    "    if attempts > 3:\n",
    "        print(\"Too many attempts, you have been blocked.\")\n",
    "        break\n",
    "    password = str(input(\"Insert THE password: \"))\n",
    " \n",
    "    if password != correct_password:\n",
    "        print(\"Wrong password. Try again: \")\n",
    "\n",
    "if password == correct_password:\n",
    "    print(\"Access Granted.\")    \n"
   ]
  },
  {
   "cell_type": "code",
   "execution_count": 24,
   "metadata": {},
   "outputs": [
    {
     "name": "stdout",
     "output_type": "stream",
     "text": [
      "120\n"
     ]
    }
   ],
   "source": [
    "result = 1\n",
    "number = 0\n",
    "\n",
    "while number < 5:\n",
    "    number += 1\n",
    "    result *= number\n",
    "print(result)"
   ]
  }
 ],
 "metadata": {
  "kernelspec": {
   "display_name": "base",
   "language": "python",
   "name": "python3"
  },
  "language_info": {
   "codemirror_mode": {
    "name": "ipython",
    "version": 3
   },
   "file_extension": ".py",
   "mimetype": "text/x-python",
   "name": "python",
   "nbconvert_exporter": "python",
   "pygments_lexer": "ipython3",
   "version": "3.11.7"
  }
 },
 "nbformat": 4,
 "nbformat_minor": 2
}
